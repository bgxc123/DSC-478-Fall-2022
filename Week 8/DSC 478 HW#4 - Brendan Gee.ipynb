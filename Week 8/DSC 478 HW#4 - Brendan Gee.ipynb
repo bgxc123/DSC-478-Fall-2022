{
 "cells": [
  {
   "cell_type": "markdown",
   "metadata": {},
   "source": [
    "# Problem #1"
   ]
  },
  {
   "cell_type": "markdown",
   "metadata": {},
   "source": [
    "### a.)\n",
    "Load in the image data matrix (with rows as images and columns as features). Also load in the numeric class labels from the segmentation class file. Using your favorite method (e.g., sklearn's min-max scaler), perform min-max normalization on the data matrix so that each feature is scaled to [0,1] range."
   ]
  },
  {
   "cell_type": "code",
   "execution_count": 1,
   "metadata": {},
   "outputs": [],
   "source": [
    "import pandas as pd\n",
    "import numpy as np\n",
    "import matplotlib.pyplot as plt\n",
    "%matplotlib inline"
   ]
  },
  {
   "cell_type": "code",
   "execution_count": 4,
   "metadata": {},
   "outputs": [
    {
     "data": {
      "text/plain": [
       "(      0      1   2    3    4         5         6         7         8   \\\n",
       " 0  110.0  189.0   9  0.0  0.0  1.000000  0.666667  1.222222  1.186342   \n",
       " 1   86.0  187.0   9  0.0  0.0  1.111111  0.720082  1.444444  0.750309   \n",
       " 2  225.0  244.0   9  0.0  0.0  3.388889  2.195113  3.000000  1.520234   \n",
       " 3   47.0  232.0   9  0.0  0.0  1.277778  1.254621  1.000000  0.894427   \n",
       " 4   97.0  186.0   9  0.0  0.0  1.166667  0.691215  1.166667  1.005540   \n",
       " \n",
       "           9          10         11         12        13         14         15  \\\n",
       " 0  12.925926  10.888889   9.222222  18.666668 -6.111111 -11.111111  17.222221   \n",
       " 1  13.740741  11.666667  10.333334  19.222221 -6.222222 -10.222222  16.444445   \n",
       " 2  12.259259  10.333334   9.333334  17.111110 -5.777778  -8.777778  14.555555   \n",
       " 3  12.703704  11.000000   9.000000  18.111110 -5.111111 -11.111111  16.222221   \n",
       " 4  15.592592  13.888889  11.777778  21.111110 -5.111111 -11.444445  16.555555   \n",
       " \n",
       "           16        17        18  \n",
       " 0  18.666668  0.508139  1.910864  \n",
       " 1  19.222221  0.463329  1.941465  \n",
       " 2  17.111110  0.480149  1.987902  \n",
       " 3  18.111110  0.500966  1.875362  \n",
       " 4  21.111110  0.442661  1.863654  ,\n",
       " (2100, 19))"
      ]
     },
     "execution_count": 4,
     "metadata": {},
     "output_type": "execute_result"
    }
   ],
   "source": [
    "#read in data matrix\n",
    "df = pd.read_csv('segmentation_data.txt', header=None)\n",
    "df.head(), df.shape"
   ]
  },
  {
   "cell_type": "code",
   "execution_count": 7,
   "metadata": {},
   "outputs": [
    {
     "data": {
      "text/html": [
       "<div>\n",
       "<style scoped>\n",
       "    .dataframe tbody tr th:only-of-type {\n",
       "        vertical-align: middle;\n",
       "    }\n",
       "\n",
       "    .dataframe tbody tr th {\n",
       "        vertical-align: top;\n",
       "    }\n",
       "\n",
       "    .dataframe thead th {\n",
       "        text-align: right;\n",
       "    }\n",
       "</style>\n",
       "<table border=\"1\" class=\"dataframe\">\n",
       "  <thead>\n",
       "    <tr style=\"text-align: right;\">\n",
       "      <th></th>\n",
       "      <th>0</th>\n",
       "    </tr>\n",
       "  </thead>\n",
       "  <tbody>\n",
       "    <tr>\n",
       "      <th>0</th>\n",
       "      <td>REGION-CENTROID-COL</td>\n",
       "    </tr>\n",
       "    <tr>\n",
       "      <th>1</th>\n",
       "      <td>REGION-CENTROID-ROW</td>\n",
       "    </tr>\n",
       "    <tr>\n",
       "      <th>2</th>\n",
       "      <td>REGION-PIXEL-COUNT</td>\n",
       "    </tr>\n",
       "    <tr>\n",
       "      <th>3</th>\n",
       "      <td>SHORT-LINE-DENSITY-5</td>\n",
       "    </tr>\n",
       "    <tr>\n",
       "      <th>4</th>\n",
       "      <td>SHORT-LINE-DENSITY-2</td>\n",
       "    </tr>\n",
       "  </tbody>\n",
       "</table>\n",
       "</div>"
      ],
      "text/plain": [
       "                      0\n",
       "0   REGION-CENTROID-COL\n",
       "1   REGION-CENTROID-ROW\n",
       "2    REGION-PIXEL-COUNT\n",
       "3  SHORT-LINE-DENSITY-5\n",
       "4  SHORT-LINE-DENSITY-2"
      ]
     },
     "execution_count": 7,
     "metadata": {},
     "output_type": "execute_result"
    }
   ],
   "source": [
    "#read in feature labels\n",
    "col_labels = pd.read_csv('segmentation_names.txt', header=None)\n",
    "col_labels.head()"
   ]
  },
  {
   "cell_type": "code",
   "execution_count": 9,
   "metadata": {},
   "outputs": [
    {
     "data": {
      "text/html": [
       "<div>\n",
       "<style scoped>\n",
       "    .dataframe tbody tr th:only-of-type {\n",
       "        vertical-align: middle;\n",
       "    }\n",
       "\n",
       "    .dataframe tbody tr th {\n",
       "        vertical-align: top;\n",
       "    }\n",
       "\n",
       "    .dataframe thead th {\n",
       "        text-align: right;\n",
       "    }\n",
       "</style>\n",
       "<table border=\"1\" class=\"dataframe\">\n",
       "  <thead>\n",
       "    <tr style=\"text-align: right;\">\n",
       "      <th></th>\n",
       "      <th>REGION-CENTROID-COL</th>\n",
       "      <th>REGION-CENTROID-ROW</th>\n",
       "      <th>REGION-PIXEL-COUNT</th>\n",
       "      <th>SHORT-LINE-DENSITY-5</th>\n",
       "      <th>SHORT-LINE-DENSITY-2</th>\n",
       "      <th>VEDGE-MEAN</th>\n",
       "      <th>VEDGE-SD</th>\n",
       "      <th>HEDGE-MEAN</th>\n",
       "      <th>HEDGE-SD</th>\n",
       "      <th>INTENSITY-MEAN</th>\n",
       "      <th>RAWRED-MEAN</th>\n",
       "      <th>RAWBLUE-MEAN</th>\n",
       "      <th>RAWGREEN-MEAN</th>\n",
       "      <th>EXRED-MEAN</th>\n",
       "      <th>EXBLUE-MEAN</th>\n",
       "      <th>EXGREEN-MEAN</th>\n",
       "      <th>VALUE-MEAN</th>\n",
       "      <th>SATURATION-MEAN</th>\n",
       "      <th>HUE-MEAN</th>\n",
       "    </tr>\n",
       "  </thead>\n",
       "  <tbody>\n",
       "    <tr>\n",
       "      <th>0</th>\n",
       "      <td>110.0</td>\n",
       "      <td>189.0</td>\n",
       "      <td>9</td>\n",
       "      <td>0.0</td>\n",
       "      <td>0.0</td>\n",
       "      <td>1.000000</td>\n",
       "      <td>0.666667</td>\n",
       "      <td>1.222222</td>\n",
       "      <td>1.186342</td>\n",
       "      <td>12.925926</td>\n",
       "      <td>10.888889</td>\n",
       "      <td>9.222222</td>\n",
       "      <td>18.666668</td>\n",
       "      <td>-6.111111</td>\n",
       "      <td>-11.111111</td>\n",
       "      <td>17.222221</td>\n",
       "      <td>18.666668</td>\n",
       "      <td>0.508139</td>\n",
       "      <td>1.910864</td>\n",
       "    </tr>\n",
       "    <tr>\n",
       "      <th>1</th>\n",
       "      <td>86.0</td>\n",
       "      <td>187.0</td>\n",
       "      <td>9</td>\n",
       "      <td>0.0</td>\n",
       "      <td>0.0</td>\n",
       "      <td>1.111111</td>\n",
       "      <td>0.720082</td>\n",
       "      <td>1.444444</td>\n",
       "      <td>0.750309</td>\n",
       "      <td>13.740741</td>\n",
       "      <td>11.666667</td>\n",
       "      <td>10.333334</td>\n",
       "      <td>19.222221</td>\n",
       "      <td>-6.222222</td>\n",
       "      <td>-10.222222</td>\n",
       "      <td>16.444445</td>\n",
       "      <td>19.222221</td>\n",
       "      <td>0.463329</td>\n",
       "      <td>1.941465</td>\n",
       "    </tr>\n",
       "    <tr>\n",
       "      <th>2</th>\n",
       "      <td>225.0</td>\n",
       "      <td>244.0</td>\n",
       "      <td>9</td>\n",
       "      <td>0.0</td>\n",
       "      <td>0.0</td>\n",
       "      <td>3.388889</td>\n",
       "      <td>2.195113</td>\n",
       "      <td>3.000000</td>\n",
       "      <td>1.520234</td>\n",
       "      <td>12.259259</td>\n",
       "      <td>10.333334</td>\n",
       "      <td>9.333334</td>\n",
       "      <td>17.111110</td>\n",
       "      <td>-5.777778</td>\n",
       "      <td>-8.777778</td>\n",
       "      <td>14.555555</td>\n",
       "      <td>17.111110</td>\n",
       "      <td>0.480149</td>\n",
       "      <td>1.987902</td>\n",
       "    </tr>\n",
       "    <tr>\n",
       "      <th>3</th>\n",
       "      <td>47.0</td>\n",
       "      <td>232.0</td>\n",
       "      <td>9</td>\n",
       "      <td>0.0</td>\n",
       "      <td>0.0</td>\n",
       "      <td>1.277778</td>\n",
       "      <td>1.254621</td>\n",
       "      <td>1.000000</td>\n",
       "      <td>0.894427</td>\n",
       "      <td>12.703704</td>\n",
       "      <td>11.000000</td>\n",
       "      <td>9.000000</td>\n",
       "      <td>18.111110</td>\n",
       "      <td>-5.111111</td>\n",
       "      <td>-11.111111</td>\n",
       "      <td>16.222221</td>\n",
       "      <td>18.111110</td>\n",
       "      <td>0.500966</td>\n",
       "      <td>1.875362</td>\n",
       "    </tr>\n",
       "    <tr>\n",
       "      <th>4</th>\n",
       "      <td>97.0</td>\n",
       "      <td>186.0</td>\n",
       "      <td>9</td>\n",
       "      <td>0.0</td>\n",
       "      <td>0.0</td>\n",
       "      <td>1.166667</td>\n",
       "      <td>0.691215</td>\n",
       "      <td>1.166667</td>\n",
       "      <td>1.005540</td>\n",
       "      <td>15.592592</td>\n",
       "      <td>13.888889</td>\n",
       "      <td>11.777778</td>\n",
       "      <td>21.111110</td>\n",
       "      <td>-5.111111</td>\n",
       "      <td>-11.444445</td>\n",
       "      <td>16.555555</td>\n",
       "      <td>21.111110</td>\n",
       "      <td>0.442661</td>\n",
       "      <td>1.863654</td>\n",
       "    </tr>\n",
       "  </tbody>\n",
       "</table>\n",
       "</div>"
      ],
      "text/plain": [
       "0  REGION-CENTROID-COL  REGION-CENTROID-ROW  REGION-PIXEL-COUNT  \\\n",
       "0                110.0                189.0                   9   \n",
       "1                 86.0                187.0                   9   \n",
       "2                225.0                244.0                   9   \n",
       "3                 47.0                232.0                   9   \n",
       "4                 97.0                186.0                   9   \n",
       "\n",
       "0  SHORT-LINE-DENSITY-5  SHORT-LINE-DENSITY-2  VEDGE-MEAN  VEDGE-SD  \\\n",
       "0                   0.0                   0.0    1.000000  0.666667   \n",
       "1                   0.0                   0.0    1.111111  0.720082   \n",
       "2                   0.0                   0.0    3.388889  2.195113   \n",
       "3                   0.0                   0.0    1.277778  1.254621   \n",
       "4                   0.0                   0.0    1.166667  0.691215   \n",
       "\n",
       "0  HEDGE-MEAN  HEDGE-SD  INTENSITY-MEAN  RAWRED-MEAN  RAWBLUE-MEAN  \\\n",
       "0    1.222222  1.186342       12.925926    10.888889      9.222222   \n",
       "1    1.444444  0.750309       13.740741    11.666667     10.333334   \n",
       "2    3.000000  1.520234       12.259259    10.333334      9.333334   \n",
       "3    1.000000  0.894427       12.703704    11.000000      9.000000   \n",
       "4    1.166667  1.005540       15.592592    13.888889     11.777778   \n",
       "\n",
       "0  RAWGREEN-MEAN  EXRED-MEAN  EXBLUE-MEAN  EXGREEN-MEAN  VALUE-MEAN  \\\n",
       "0      18.666668   -6.111111   -11.111111     17.222221   18.666668   \n",
       "1      19.222221   -6.222222   -10.222222     16.444445   19.222221   \n",
       "2      17.111110   -5.777778    -8.777778     14.555555   17.111110   \n",
       "3      18.111110   -5.111111   -11.111111     16.222221   18.111110   \n",
       "4      21.111110   -5.111111   -11.444445     16.555555   21.111110   \n",
       "\n",
       "0  SATURATION-MEAN  HUE-MEAN  \n",
       "0         0.508139  1.910864  \n",
       "1         0.463329  1.941465  \n",
       "2         0.480149  1.987902  \n",
       "3         0.500966  1.875362  \n",
       "4         0.442661  1.863654  "
      ]
     },
     "execution_count": 9,
     "metadata": {},
     "output_type": "execute_result"
    }
   ],
   "source": [
    "#assign labels to df\n",
    "df.columns = col_labels[0]\n",
    "df.head()"
   ]
  },
  {
   "cell_type": "code",
   "execution_count": 12,
   "metadata": {},
   "outputs": [
    {
     "data": {
      "text/plain": [
       "(       0  1\n",
       " 0  GRASS  0\n",
       " 1  GRASS  0\n",
       " 2  GRASS  0\n",
       " 3  GRASS  0\n",
       " 4  GRASS  0,\n",
       " (2100, 2))"
      ]
     },
     "execution_count": 12,
     "metadata": {},
     "output_type": "execute_result"
    }
   ],
   "source": [
    "#read in class labels\n",
    "df_target = pd.read_csv('segmentation_classes.txt', sep='\\t', header=None)\n",
    "df_target.head(), df_target.shape"
   ]
  },
  {
   "cell_type": "code",
   "execution_count": 13,
   "metadata": {},
   "outputs": [],
   "source": [
    "#min-max scaler on df\n",
    "from sklearn import preprocessing\n",
    "\n",
    "min_max_scaler = preprocessing.MinMaxScaler().fit(df)\n",
    "\n",
    "df_norm = min_max_scaler.transform(df)\n",
    "df_norm = pd.DataFrame(df_norm, columns=df.columns, index=df.index)"
   ]
  },
  {
   "cell_type": "code",
   "execution_count": 14,
   "metadata": {},
   "outputs": [
    {
     "data": {
      "text/html": [
       "<div>\n",
       "<style scoped>\n",
       "    .dataframe tbody tr th:only-of-type {\n",
       "        vertical-align: middle;\n",
       "    }\n",
       "\n",
       "    .dataframe tbody tr th {\n",
       "        vertical-align: top;\n",
       "    }\n",
       "\n",
       "    .dataframe thead th {\n",
       "        text-align: right;\n",
       "    }\n",
       "</style>\n",
       "<table border=\"1\" class=\"dataframe\">\n",
       "  <thead>\n",
       "    <tr style=\"text-align: right;\">\n",
       "      <th></th>\n",
       "      <th>REGION-CENTROID-COL</th>\n",
       "      <th>REGION-CENTROID-ROW</th>\n",
       "      <th>REGION-PIXEL-COUNT</th>\n",
       "      <th>SHORT-LINE-DENSITY-5</th>\n",
       "      <th>SHORT-LINE-DENSITY-2</th>\n",
       "      <th>VEDGE-MEAN</th>\n",
       "      <th>VEDGE-SD</th>\n",
       "      <th>HEDGE-MEAN</th>\n",
       "      <th>HEDGE-SD</th>\n",
       "      <th>INTENSITY-MEAN</th>\n",
       "      <th>RAWRED-MEAN</th>\n",
       "      <th>RAWBLUE-MEAN</th>\n",
       "      <th>RAWGREEN-MEAN</th>\n",
       "      <th>EXRED-MEAN</th>\n",
       "      <th>EXBLUE-MEAN</th>\n",
       "      <th>EXGREEN-MEAN</th>\n",
       "      <th>VALUE-MEAN</th>\n",
       "      <th>SATURATION-MEAN</th>\n",
       "      <th>HUE-MEAN</th>\n",
       "    </tr>\n",
       "  </thead>\n",
       "  <tbody>\n",
       "    <tr>\n",
       "      <th>0</th>\n",
       "      <td>0.430830</td>\n",
       "      <td>0.741667</td>\n",
       "      <td>0.0</td>\n",
       "      <td>0.0</td>\n",
       "      <td>0.0</td>\n",
       "      <td>0.034221</td>\n",
       "      <td>0.000672</td>\n",
       "      <td>0.027329</td>\n",
       "      <td>0.000856</td>\n",
       "      <td>0.090111</td>\n",
       "      <td>0.079417</td>\n",
       "      <td>0.061119</td>\n",
       "      <td>0.130943</td>\n",
       "      <td>0.731343</td>\n",
       "      <td>0.014118</td>\n",
       "      <td>0.872865</td>\n",
       "      <td>0.123711</td>\n",
       "      <td>0.508139</td>\n",
       "      <td>0.831849</td>\n",
       "    </tr>\n",
       "    <tr>\n",
       "      <th>1</th>\n",
       "      <td>0.335968</td>\n",
       "      <td>0.733333</td>\n",
       "      <td>0.0</td>\n",
       "      <td>0.0</td>\n",
       "      <td>0.0</td>\n",
       "      <td>0.038023</td>\n",
       "      <td>0.000726</td>\n",
       "      <td>0.032298</td>\n",
       "      <td>0.000541</td>\n",
       "      <td>0.095791</td>\n",
       "      <td>0.085089</td>\n",
       "      <td>0.068483</td>\n",
       "      <td>0.134840</td>\n",
       "      <td>0.729478</td>\n",
       "      <td>0.023529</td>\n",
       "      <td>0.859583</td>\n",
       "      <td>0.127393</td>\n",
       "      <td>0.463329</td>\n",
       "      <td>0.836986</td>\n",
       "    </tr>\n",
       "    <tr>\n",
       "      <th>2</th>\n",
       "      <td>0.885375</td>\n",
       "      <td>0.970833</td>\n",
       "      <td>0.0</td>\n",
       "      <td>0.0</td>\n",
       "      <td>0.0</td>\n",
       "      <td>0.115970</td>\n",
       "      <td>0.002213</td>\n",
       "      <td>0.067081</td>\n",
       "      <td>0.001097</td>\n",
       "      <td>0.085463</td>\n",
       "      <td>0.075365</td>\n",
       "      <td>0.061856</td>\n",
       "      <td>0.120031</td>\n",
       "      <td>0.736940</td>\n",
       "      <td>0.038824</td>\n",
       "      <td>0.827324</td>\n",
       "      <td>0.113402</td>\n",
       "      <td>0.480149</td>\n",
       "      <td>0.844782</td>\n",
       "    </tr>\n",
       "    <tr>\n",
       "      <th>3</th>\n",
       "      <td>0.181818</td>\n",
       "      <td>0.920833</td>\n",
       "      <td>0.0</td>\n",
       "      <td>0.0</td>\n",
       "      <td>0.0</td>\n",
       "      <td>0.043726</td>\n",
       "      <td>0.001265</td>\n",
       "      <td>0.022360</td>\n",
       "      <td>0.000645</td>\n",
       "      <td>0.088562</td>\n",
       "      <td>0.080227</td>\n",
       "      <td>0.059647</td>\n",
       "      <td>0.127046</td>\n",
       "      <td>0.748134</td>\n",
       "      <td>0.014118</td>\n",
       "      <td>0.855787</td>\n",
       "      <td>0.120029</td>\n",
       "      <td>0.500966</td>\n",
       "      <td>0.825889</td>\n",
       "    </tr>\n",
       "    <tr>\n",
       "      <th>4</th>\n",
       "      <td>0.379447</td>\n",
       "      <td>0.729167</td>\n",
       "      <td>0.0</td>\n",
       "      <td>0.0</td>\n",
       "      <td>0.0</td>\n",
       "      <td>0.039924</td>\n",
       "      <td>0.000697</td>\n",
       "      <td>0.026087</td>\n",
       "      <td>0.000725</td>\n",
       "      <td>0.108701</td>\n",
       "      <td>0.101297</td>\n",
       "      <td>0.078056</td>\n",
       "      <td>0.148090</td>\n",
       "      <td>0.748134</td>\n",
       "      <td>0.010588</td>\n",
       "      <td>0.861480</td>\n",
       "      <td>0.139912</td>\n",
       "      <td>0.442661</td>\n",
       "      <td>0.823924</td>\n",
       "    </tr>\n",
       "  </tbody>\n",
       "</table>\n",
       "</div>"
      ],
      "text/plain": [
       "0  REGION-CENTROID-COL  REGION-CENTROID-ROW  REGION-PIXEL-COUNT  \\\n",
       "0             0.430830             0.741667                 0.0   \n",
       "1             0.335968             0.733333                 0.0   \n",
       "2             0.885375             0.970833                 0.0   \n",
       "3             0.181818             0.920833                 0.0   \n",
       "4             0.379447             0.729167                 0.0   \n",
       "\n",
       "0  SHORT-LINE-DENSITY-5  SHORT-LINE-DENSITY-2  VEDGE-MEAN  VEDGE-SD  \\\n",
       "0                   0.0                   0.0    0.034221  0.000672   \n",
       "1                   0.0                   0.0    0.038023  0.000726   \n",
       "2                   0.0                   0.0    0.115970  0.002213   \n",
       "3                   0.0                   0.0    0.043726  0.001265   \n",
       "4                   0.0                   0.0    0.039924  0.000697   \n",
       "\n",
       "0  HEDGE-MEAN  HEDGE-SD  INTENSITY-MEAN  RAWRED-MEAN  RAWBLUE-MEAN  \\\n",
       "0    0.027329  0.000856        0.090111     0.079417      0.061119   \n",
       "1    0.032298  0.000541        0.095791     0.085089      0.068483   \n",
       "2    0.067081  0.001097        0.085463     0.075365      0.061856   \n",
       "3    0.022360  0.000645        0.088562     0.080227      0.059647   \n",
       "4    0.026087  0.000725        0.108701     0.101297      0.078056   \n",
       "\n",
       "0  RAWGREEN-MEAN  EXRED-MEAN  EXBLUE-MEAN  EXGREEN-MEAN  VALUE-MEAN  \\\n",
       "0       0.130943    0.731343     0.014118      0.872865    0.123711   \n",
       "1       0.134840    0.729478     0.023529      0.859583    0.127393   \n",
       "2       0.120031    0.736940     0.038824      0.827324    0.113402   \n",
       "3       0.127046    0.748134     0.014118      0.855787    0.120029   \n",
       "4       0.148090    0.748134     0.010588      0.861480    0.139912   \n",
       "\n",
       "0  SATURATION-MEAN  HUE-MEAN  \n",
       "0         0.508139  0.831849  \n",
       "1         0.463329  0.836986  \n",
       "2         0.480149  0.844782  \n",
       "3         0.500966  0.825889  \n",
       "4         0.442661  0.823924  "
      ]
     },
     "execution_count": 14,
     "metadata": {},
     "output_type": "execute_result"
    }
   ],
   "source": [
    "df_norm.head()"
   ]
  },
  {
   "cell_type": "code",
   "execution_count": 18,
   "metadata": {},
   "outputs": [
    {
     "name": "stdout",
     "output_type": "stream",
     "text": [
      "[9]\n"
     ]
    }
   ],
   "source": [
    "print(df['REGION-PIXEL-COUNT'].unique())"
   ]
  },
  {
   "cell_type": "markdown",
   "metadata": {},
   "source": [
    "### b.)\n",
    "Using the Kmeans implementation in scikit-learn, perform clustering on the image data (use K = 7 in your clustering so that later we can compare the clusters to the 7 pre-assigned image classes). Print the cluster centroids (use some formatting so that they are visually understandable). To evaluate your clusters, first perform Silhouette analysis on the clusters (compute Silhouette values for all instances in the data, and then compute the overall mean Silhouette value; optionally, you can provide a visualization of the Silhouettes). Next, compare your 7 clusters to the 7 pre-assigned classes by computing the Completeness and Homogeneity values of the generated clusters."
   ]
  },
  {
   "cell_type": "code",
   "execution_count": 19,
   "metadata": {},
   "outputs": [],
   "source": [
    "from sklearn.cluster import KMeans"
   ]
  },
  {
   "cell_type": "code",
   "execution_count": 20,
   "metadata": {},
   "outputs": [],
   "source": [
    "#kmeans, fit data and \"predict\" the cluster assignment\n",
    "kmeans = KMeans(n_clusters=7, max_iter=500)\n",
    "kmeans.fit(df_norm)\n",
    "clusters = kmeans.predict(df_norm)"
   ]
  },
  {
   "cell_type": "code",
   "execution_count": 21,
   "metadata": {},
   "outputs": [
    {
     "data": {
      "text/plain": [
       "array([1, 1, 1, ..., 3, 3, 0], dtype=int32)"
      ]
     },
     "execution_count": 21,
     "metadata": {},
     "output_type": "execute_result"
    }
   ],
   "source": [
    "clusters"
   ]
  },
  {
   "cell_type": "code",
   "execution_count": 23,
   "metadata": {},
   "outputs": [
    {
     "data": {
      "text/html": [
       "<div>\n",
       "<style scoped>\n",
       "    .dataframe tbody tr th:only-of-type {\n",
       "        vertical-align: middle;\n",
       "    }\n",
       "\n",
       "    .dataframe tbody tr th {\n",
       "        vertical-align: top;\n",
       "    }\n",
       "\n",
       "    .dataframe thead th {\n",
       "        text-align: right;\n",
       "    }\n",
       "</style>\n",
       "<table border=\"1\" class=\"dataframe\">\n",
       "  <thead>\n",
       "    <tr style=\"text-align: right;\">\n",
       "      <th></th>\n",
       "      <th>REGION-CENTROID-COL</th>\n",
       "      <th>REGION-CENTROID-ROW</th>\n",
       "      <th>REGION-PIXEL-COUNT</th>\n",
       "      <th>SHORT-LINE-DENSITY-5</th>\n",
       "      <th>SHORT-LINE-DENSITY-2</th>\n",
       "      <th>VEDGE-MEAN</th>\n",
       "      <th>VEDGE-SD</th>\n",
       "      <th>HEDGE-MEAN</th>\n",
       "      <th>HEDGE-SD</th>\n",
       "      <th>INTENSITY-MEAN</th>\n",
       "      <th>RAWRED-MEAN</th>\n",
       "      <th>RAWBLUE-MEAN</th>\n",
       "      <th>RAWGREEN-MEAN</th>\n",
       "      <th>EXRED-MEAN</th>\n",
       "      <th>EXBLUE-MEAN</th>\n",
       "      <th>EXGREEN-MEAN</th>\n",
       "      <th>VALUE-MEAN</th>\n",
       "      <th>SATURATION-MEAN</th>\n",
       "      <th>HUE-MEAN</th>\n",
       "    </tr>\n",
       "  </thead>\n",
       "  <tbody>\n",
       "    <tr>\n",
       "      <th>0</th>\n",
       "      <td>0.256103</td>\n",
       "      <td>0.393468</td>\n",
       "      <td>0.0</td>\n",
       "      <td>0.074510</td>\n",
       "      <td>0.019118</td>\n",
       "      <td>0.077343</td>\n",
       "      <td>0.004100</td>\n",
       "      <td>0.060574</td>\n",
       "      <td>0.004967</td>\n",
       "      <td>0.148187</td>\n",
       "      <td>0.138085</td>\n",
       "      <td>0.185160</td>\n",
       "      <td>0.118539</td>\n",
       "      <td>0.716906</td>\n",
       "      <td>0.344014</td>\n",
       "      <td>0.355458</td>\n",
       "      <td>0.185413</td>\n",
       "      <td>0.411986</td>\n",
       "      <td>0.201890</td>\n",
       "    </tr>\n",
       "    <tr>\n",
       "      <th>1</th>\n",
       "      <td>0.513994</td>\n",
       "      <td>0.808937</td>\n",
       "      <td>0.0</td>\n",
       "      <td>0.077441</td>\n",
       "      <td>0.005051</td>\n",
       "      <td>0.054474</td>\n",
       "      <td>0.001407</td>\n",
       "      <td>0.046335</td>\n",
       "      <td>0.001401</td>\n",
       "      <td>0.108790</td>\n",
       "      <td>0.091403</td>\n",
       "      <td>0.092414</td>\n",
       "      <td>0.142676</td>\n",
       "      <td>0.679161</td>\n",
       "      <td>0.079002</td>\n",
       "      <td>0.821287</td>\n",
       "      <td>0.134901</td>\n",
       "      <td>0.414491</td>\n",
       "      <td>0.892333</td>\n",
       "    </tr>\n",
       "    <tr>\n",
       "      <th>2</th>\n",
       "      <td>0.535099</td>\n",
       "      <td>0.150167</td>\n",
       "      <td>0.0</td>\n",
       "      <td>0.027778</td>\n",
       "      <td>0.001667</td>\n",
       "      <td>0.030228</td>\n",
       "      <td>0.000543</td>\n",
       "      <td>0.026766</td>\n",
       "      <td>0.000587</td>\n",
       "      <td>0.823246</td>\n",
       "      <td>0.779716</td>\n",
       "      <td>0.894170</td>\n",
       "      <td>0.788761</td>\n",
       "      <td>0.270665</td>\n",
       "      <td>0.666373</td>\n",
       "      <td>0.289386</td>\n",
       "      <td>0.894170</td>\n",
       "      <td>0.211804</td>\n",
       "      <td>0.125066</td>\n",
       "    </tr>\n",
       "    <tr>\n",
       "      <th>3</th>\n",
       "      <td>0.770674</td>\n",
       "      <td>0.425215</td>\n",
       "      <td>0.0</td>\n",
       "      <td>0.013978</td>\n",
       "      <td>0.022581</td>\n",
       "      <td>0.040237</td>\n",
       "      <td>0.002989</td>\n",
       "      <td>0.023122</td>\n",
       "      <td>0.002088</td>\n",
       "      <td>0.041138</td>\n",
       "      <td>0.035005</td>\n",
       "      <td>0.058340</td>\n",
       "      <td>0.028766</td>\n",
       "      <td>0.778473</td>\n",
       "      <td>0.223939</td>\n",
       "      <td>0.486509</td>\n",
       "      <td>0.059295</td>\n",
       "      <td>0.538181</td>\n",
       "      <td>0.243969</td>\n",
       "    </tr>\n",
       "    <tr>\n",
       "      <th>4</th>\n",
       "      <td>0.302506</td>\n",
       "      <td>0.530862</td>\n",
       "      <td>0.0</td>\n",
       "      <td>0.052260</td>\n",
       "      <td>0.046610</td>\n",
       "      <td>0.100817</td>\n",
       "      <td>0.009420</td>\n",
       "      <td>0.083972</td>\n",
       "      <td>0.011043</td>\n",
       "      <td>0.400608</td>\n",
       "      <td>0.370347</td>\n",
       "      <td>0.472461</td>\n",
       "      <td>0.353036</td>\n",
       "      <td>0.497146</td>\n",
       "      <td>0.570882</td>\n",
       "      <td>0.213054</td>\n",
       "      <td>0.472461</td>\n",
       "      <td>0.302263</td>\n",
       "      <td>0.163879</td>\n",
       "    </tr>\n",
       "    <tr>\n",
       "      <th>5</th>\n",
       "      <td>0.254169</td>\n",
       "      <td>0.459974</td>\n",
       "      <td>0.0</td>\n",
       "      <td>0.026256</td>\n",
       "      <td>0.013699</td>\n",
       "      <td>0.037274</td>\n",
       "      <td>0.002364</td>\n",
       "      <td>0.027874</td>\n",
       "      <td>0.002017</td>\n",
       "      <td>0.026013</td>\n",
       "      <td>0.017925</td>\n",
       "      <td>0.042306</td>\n",
       "      <td>0.016504</td>\n",
       "      <td>0.769800</td>\n",
       "      <td>0.216011</td>\n",
       "      <td>0.508117</td>\n",
       "      <td>0.043295</td>\n",
       "      <td>0.801687</td>\n",
       "      <td>0.181153</td>\n",
       "    </tr>\n",
       "    <tr>\n",
       "      <th>6</th>\n",
       "      <td>0.750696</td>\n",
       "      <td>0.534564</td>\n",
       "      <td>0.0</td>\n",
       "      <td>0.040000</td>\n",
       "      <td>0.038462</td>\n",
       "      <td>0.114419</td>\n",
       "      <td>0.019301</td>\n",
       "      <td>0.109240</td>\n",
       "      <td>0.017999</td>\n",
       "      <td>0.300955</td>\n",
       "      <td>0.279908</td>\n",
       "      <td>0.352738</td>\n",
       "      <td>0.265920</td>\n",
       "      <td>0.592572</td>\n",
       "      <td>0.451124</td>\n",
       "      <td>0.309158</td>\n",
       "      <td>0.352822</td>\n",
       "      <td>0.302342</td>\n",
       "      <td>0.164764</td>\n",
       "    </tr>\n",
       "  </tbody>\n",
       "</table>\n",
       "</div>"
      ],
      "text/plain": [
       "0  REGION-CENTROID-COL  REGION-CENTROID-ROW  REGION-PIXEL-COUNT  \\\n",
       "0             0.256103             0.393468                 0.0   \n",
       "1             0.513994             0.808937                 0.0   \n",
       "2             0.535099             0.150167                 0.0   \n",
       "3             0.770674             0.425215                 0.0   \n",
       "4             0.302506             0.530862                 0.0   \n",
       "5             0.254169             0.459974                 0.0   \n",
       "6             0.750696             0.534564                 0.0   \n",
       "\n",
       "0  SHORT-LINE-DENSITY-5  SHORT-LINE-DENSITY-2  VEDGE-MEAN  VEDGE-SD  \\\n",
       "0              0.074510              0.019118    0.077343  0.004100   \n",
       "1              0.077441              0.005051    0.054474  0.001407   \n",
       "2              0.027778              0.001667    0.030228  0.000543   \n",
       "3              0.013978              0.022581    0.040237  0.002989   \n",
       "4              0.052260              0.046610    0.100817  0.009420   \n",
       "5              0.026256              0.013699    0.037274  0.002364   \n",
       "6              0.040000              0.038462    0.114419  0.019301   \n",
       "\n",
       "0  HEDGE-MEAN  HEDGE-SD  INTENSITY-MEAN  RAWRED-MEAN  RAWBLUE-MEAN  \\\n",
       "0    0.060574  0.004967        0.148187     0.138085      0.185160   \n",
       "1    0.046335  0.001401        0.108790     0.091403      0.092414   \n",
       "2    0.026766  0.000587        0.823246     0.779716      0.894170   \n",
       "3    0.023122  0.002088        0.041138     0.035005      0.058340   \n",
       "4    0.083972  0.011043        0.400608     0.370347      0.472461   \n",
       "5    0.027874  0.002017        0.026013     0.017925      0.042306   \n",
       "6    0.109240  0.017999        0.300955     0.279908      0.352738   \n",
       "\n",
       "0  RAWGREEN-MEAN  EXRED-MEAN  EXBLUE-MEAN  EXGREEN-MEAN  VALUE-MEAN  \\\n",
       "0       0.118539    0.716906     0.344014      0.355458    0.185413   \n",
       "1       0.142676    0.679161     0.079002      0.821287    0.134901   \n",
       "2       0.788761    0.270665     0.666373      0.289386    0.894170   \n",
       "3       0.028766    0.778473     0.223939      0.486509    0.059295   \n",
       "4       0.353036    0.497146     0.570882      0.213054    0.472461   \n",
       "5       0.016504    0.769800     0.216011      0.508117    0.043295   \n",
       "6       0.265920    0.592572     0.451124      0.309158    0.352822   \n",
       "\n",
       "0  SATURATION-MEAN  HUE-MEAN  \n",
       "0         0.411986  0.201890  \n",
       "1         0.414491  0.892333  \n",
       "2         0.211804  0.125066  \n",
       "3         0.538181  0.243969  \n",
       "4         0.302263  0.163879  \n",
       "5         0.801687  0.181153  \n",
       "6         0.302342  0.164764  "
      ]
     },
     "execution_count": 23,
     "metadata": {},
     "output_type": "execute_result"
    }
   ],
   "source": [
    "#calculate and print centroids\n",
    "centroids = pd.DataFrame(kmeans.cluster_centers_, columns=df.columns)\n",
    "centroids"
   ]
  },
  {
   "cell_type": "code",
   "execution_count": 24,
   "metadata": {},
   "outputs": [],
   "source": [
    "#measure the quality of clustering, Silhouette values\n",
    "from sklearn import metrics"
   ]
  },
  {
   "cell_type": "code",
   "execution_count": 25,
   "metadata": {},
   "outputs": [
    {
     "name": "stdout",
     "output_type": "stream",
     "text": [
      "[0.57202831 0.56064636 0.46584172 0.49522097 0.57151852 0.56037254\n",
      " 0.54213796 0.41254281 0.51968142 0.46733032 0.48661677 0.49108474\n",
      " 0.58463969 0.56222519 0.37949564 0.53083575 0.54919193 0.42227935\n",
      " 0.41618572 0.40389039]\n"
     ]
    }
   ],
   "source": [
    "silhouettes = metrics.silhouette_samples(df_norm, clusters)\n",
    "print(silhouettes[:20])"
   ]
  },
  {
   "cell_type": "code",
   "execution_count": 26,
   "metadata": {},
   "outputs": [
    {
     "name": "stdout",
     "output_type": "stream",
     "text": [
      "0.332066475286672\n"
     ]
    }
   ],
   "source": [
    "#average silhouette score, closer to 1 is better, range -1 to 1\n",
    "print(silhouettes.mean())"
   ]
  },
  {
   "cell_type": "code",
   "execution_count": 27,
   "metadata": {},
   "outputs": [],
   "source": [
    "#function to plot silhouette data\n",
    "def plot_silhouettes(data, clusters):\n",
    "    \n",
    "    from matplotlib import cm\n",
    "    from sklearn.metrics import silhouette_samples\n",
    "    \n",
    "    cluster_labels = np.unique(clusters)\n",
    "    n_clusters = cluster_labels.shape[0]\n",
    "    silhouette_vals = metrics.silhouette_samples(data, clusters, metric='euclidean')\n",
    "    c_ax_lower, c_ax_upper = 0,0\n",
    "    cticks = []\n",
    "    \n",
    "    for i, k in enumerate(cluster_labels):\n",
    "        c_silhouette_vals = silhouette_vals[clusters == k]\n",
    "        c_silhouette_vals.sort()\n",
    "        c_ax_upper += len(c_silhouette_vals)\n",
    "        color = cm.jet(float(i) / n_clusters)\n",
    "        plt.barh(range(c_ax_lower, c_ax_upper), c_silhouette_vals, height=1.0,\n",
    "               edgecolor='none', color=color)\n",
    "        \n",
    "        cticks.append((c_ax_lower + c_ax_upper) / 2)\n",
    "        c_ax_lower += len(c_silhouette_vals)\n",
    "    silhouette_avg = np.mean(silhouette_vals)\n",
    "    plt.axvline(silhouette_avg, color=\"red\", linestyle=\"--\")\n",
    "    \n",
    "    plt.yticks(cticks, cluster_labels)\n",
    "    plt.ylabel(\"Cluster\")\n",
    "    plt.xlabel(\"silhouette coefficient\")\n",
    "    \n",
    "    plt.tight_layout()\n",
    "    \n",
    "    plt.show()\n",
    "    \n",
    "    return"
   ]
  },
  {
   "cell_type": "code",
   "execution_count": 28,
   "metadata": {},
   "outputs": [
    {
     "data": {
      "image/png": "[encoded data removed]",
      "text/plain": [
       "<Figure size 432x288 with 1 Axes>"
      ]
     },
     "metadata": {
      "needs_background": "light"
     },
     "output_type": "display_data"
    }
   ],
   "source": [
    "plot_silhouettes(df_norm, clusters)"
   ]
  },
  {
   "cell_type": "code",
   "execution_count": 30,
   "metadata": {},
   "outputs": [],
   "source": [
    "from sklearn.metrics import completeness_score, homogeneity_score"
   ]
  },
  {
   "cell_type": "code",
   "execution_count": 32,
   "metadata": {},
   "outputs": [
    {
     "name": "stdout",
     "output_type": "stream",
     "text": [
      "Completeness Score: 0.6131870124853012\n",
      "Homogenity Score: 0.6115021163370863\n"
     ]
    }
   ],
   "source": [
    "#calculate homogenity and completeness scores\n",
    "print(f\"Completeness Score: {completeness_score(df_target[1],clusters)}\")\n",
    "print(f\"Homogenity Score: {homogeneity_score(df_target[1],clusters)}\")"
   ]
  },
  {
   "cell_type": "markdown",
   "metadata": {},
   "source": [
    "## Summary\n",
    "From our mean silhouette score, we get a value of .332, which isn't a great score to get, as we want to score as close to 1 as possible. We further validate this by plotting the silhouette scores for each observation, and see that there are 2-3 clusters classified decently (cluster 1, 2, 5), while the rest are scoring pretty far below the average and even negative silhouette scores. Then, we calculate the completeness and homogenity scores by comparing the target classification with our predicted clusters. We get completeness & homogenity scores of .613 and .611 respectively, indicating that our separation between clusters and cohesion within clusters isn't great either."
   ]
  },
  {
   "cell_type": "markdown",
   "metadata": {},
   "source": [
    "### c.)\n",
    "Do your own experiments with the number of clusters to see if a different value of K results in more cohesive clustering based on Silhouette analysis. Please do not provide all your clustering results, but you should include the best result according to your analysis and provide a brief discussion of why this particular clustering was selected."
   ]
  },
  {
   "cell_type": "code",
   "execution_count": 43,
   "metadata": {},
   "outputs": [],
   "source": [
    "#create function to check best mean silhouette value for given k\n",
    "def silhouette_calc(data,N):\n",
    "    '''takes in data and a value for N and checks that number of k and returns max silhouette val w/ k'''\n",
    "    from sklearn import metrics\n",
    "    \n",
    "    res = {}\n",
    "    \n",
    "    for i in range(2,N+1):\n",
    "        kmeans = KMeans(n_clusters=i, max_iter=500) #kmeans for i# of clusters\n",
    "        kmeans.fit(data) #fit data\n",
    "        clusters = kmeans.predict(data) #assign clusters\n",
    "        silhouettes = metrics.silhouette_samples(data, clusters) #calc silhouette scores\n",
    "        res[i] = silhouettes.mean() #stores silhouette score\n",
    "    print(res)\n",
    "    return max(res, key=res.get), max(res.values())"
   ]
  },
  {
   "cell_type": "code",
   "execution_count": 44,
   "metadata": {},
   "outputs": [
    {
     "name": "stdout",
     "output_type": "stream",
     "text": [
      "{2: 0.46317096004832026, 3: 0.3214713024869174, 4: 0.38160981543092376, 5: 0.3480747805114875, 6: 0.33372943972323865, 7: 0.3320776409159453, 8: 0.34085260400997613, 9: 0.3080195268450422, 10: 0.3057765208844841}\n"
     ]
    },
    {
     "data": {
      "text/plain": [
       "(2, 0.46317096004832026)"
      ]
     },
     "execution_count": 44,
     "metadata": {},
     "output_type": "execute_result"
    }
   ],
   "source": [
    "res = silhouette_calc(df_norm, 10)\n",
    "res"
   ]
  },
  {
   "cell_type": "code",
   "execution_count": 45,
   "metadata": {},
   "outputs": [
    {
     "data": {
      "image/png": "[encoded data removed]",
      "text/plain": [
       "<Figure size 432x288 with 1 Axes>"
      ]
     },
     "metadata": {
      "needs_background": "light"
     },
     "output_type": "display_data"
    }
   ],
   "source": [
    "#plot silhouettes for max\n",
    "kmeans = KMeans(n_clusters=res[0], max_iter=500)\n",
    "kmeans.fit(df_norm)\n",
    "clusters = kmeans.predict(df_norm)\n",
    "plot_silhouettes(df_norm, clusters)"
   ]
  },
  {
   "cell_type": "markdown",
   "metadata": {},
   "source": [
    "## Summary\n",
    "After applying our function to test for the best silhouette score between 2 and 10 clusters, we get a value of 2 with a silhouette score of .463. Although we're only using 2 clusters, the silhouette score is higher, indicating that we do a better job at classifying the observations within the same class as well as separating the two classes from one another. Since we are supposed to have 7 classes, I'm guessing that there are some outliers/noise that is causing the k-means method to incorrectly classify these points. If the clusters aren't spherically shaped, k-means typically has trouble, so performing some dimensionality reduction in the next couple steps might prove to be useful."
   ]
  },
  {
   "cell_type": "markdown",
   "metadata": {},
   "source": [
    "### d.)\n",
    "Perform PCA on the normalized image data matrix. You may use the linear algebra package in Numpy or the Decomposition module in scikit-learn (the latter is much more efficient). Analyze the principal components to determine the number, r, of PCs needed to capture at least 95% of variance in the data. Provide a Scree plot of PC variances. Then use these r components as features to transform the data into a reduced dimension space."
   ]
  },
  {
   "cell_type": "code",
   "execution_count": 46,
   "metadata": {},
   "outputs": [],
   "source": [
    "from sklearn import decomposition"
   ]
  },
  {
   "cell_type": "code",
   "execution_count": 78,
   "metadata": {},
   "outputs": [],
   "source": [
    "#create pca, fit to df_norm\n",
    "pca = decomposition.PCA()\n",
    "df_trans = pca.fit_transform(df_norm)"
   ]
  },
  {
   "cell_type": "code",
   "execution_count": 79,
   "metadata": {},
   "outputs": [
    {
     "name": "stdout",
     "output_type": "stream",
     "text": [
      "[[-0.69  0.53  0.25 ... -0.    0.    0.  ]\n",
      " [-0.67  0.51  0.34 ...  0.   -0.   -0.  ]\n",
      " [-0.71  0.77 -0.16 ...  0.    0.    0.  ]\n",
      " ...\n",
      " [-0.51 -0.13 -0.08 ... -0.    0.    0.  ]\n",
      " [-0.48 -0.09 -0.16 ... -0.    0.   -0.  ]\n",
      " [-0.44 -0.11 -0.05 ... -0.    0.    0.  ]]\n"
     ]
    }
   ],
   "source": [
    "print(df_trans)"
   ]
  },
  {
   "cell_type": "code",
   "execution_count": 80,
   "metadata": {},
   "outputs": [
    {
     "name": "stdout",
     "output_type": "stream",
     "text": [
      "[0.61 0.13 0.1  0.05 0.04 0.02 0.02 0.02 0.01 0.01 0.   0.   0.   0.   0.   0.   0.   0.   0.  ]\n"
     ]
    }
   ],
   "source": [
    "#explained var by component\n",
    "np.set_printoptions(suppress=True, precision=2, linewidth=120)\n",
    "print(pca.explained_variance_ratio_)"
   ]
  },
  {
   "cell_type": "code",
   "execution_count": 81,
   "metadata": {},
   "outputs": [
    {
     "data": {
      "text/plain": [
       "Text(0, 0.5, 'Percentage of Variance')"
      ]
     },
     "execution_count": 81,
     "metadata": {},
     "output_type": "execute_result"
    },
    {
     "data": {
      "image/png": "[encoded data removed]",
      "text/plain": [
       "<Figure size 432x288 with 1 Axes>"
      ]
     },
     "metadata": {
      "needs_background": "light"
     },
     "output_type": "display_data"
    }
   ],
   "source": [
    "#scree plot\n",
    "varPercentage = pca.explained_variance_ratio_*100\n",
    "\n",
    "fig = plt.figure()\n",
    "ax = fig.add_subplot(111)\n",
    "ax.plot(range(19), varPercentage[:], marker='^')\n",
    "plt.title('Scree Plot - Components vs % Var Explained')\n",
    "plt.xlabel('Principal Component Number')\n",
    "plt.ylabel('Percentage of Variance')"
   ]
  },
  {
   "cell_type": "code",
   "execution_count": 82,
   "metadata": {},
   "outputs": [
    {
     "name": "stdout",
     "output_type": "stream",
     "text": [
      "1 0.607142339685333\n",
      "2 0.7391121320168929\n",
      "3 0.840349861425619\n",
      "4 0.8857852534332584\n",
      "5 0.9212588648109569\n",
      "6 0.9411392197960623\n",
      "7 0.9600589227704958\n",
      "8 0.9762130108194517\n",
      "9 0.9868690193362032\n",
      "10 0.9939823945149533\n",
      "11 0.9979044297671411\n",
      "12 0.9994794328616068\n",
      "13 0.9999685835864895\n",
      "14 0.9999999999999993\n",
      "15 0.9999999999999996\n",
      "16 0.9999999999999997\n",
      "17 0.9999999999999998\n",
      "18 0.9999999999999999\n",
      "19 0.9999999999999999\n"
     ]
    }
   ],
   "source": [
    "#calc how many components to get >=.95 var explained\n",
    "s = 0\n",
    "for i in range(len(pca.explained_variance_ratio_)):\n",
    "    s += pca.explained_variance_ratio_[i]\n",
    "    print(i+1,s)"
   ]
  },
  {
   "cell_type": "code",
   "execution_count": 98,
   "metadata": {},
   "outputs": [
    {
     "data": {
      "text/plain": [
       "array([[-0.69,  0.53,  0.25, ..., -0.08,  0.05, -0.05],\n",
       "       [-0.67,  0.51,  0.34, ..., -0.04,  0.06, -0.04],\n",
       "       [-0.71,  0.77, -0.16, ..., -0.17,  0.04, -0.06],\n",
       "       ...,\n",
       "       [-0.51, -0.13, -0.08, ..., -0.03, -0.03, -0.11],\n",
       "       [-0.48, -0.09, -0.16, ...,  0.  , -0.  , -0.09],\n",
       "       [-0.44, -0.11, -0.05, ...,  0.02, -0.21,  0.15]])"
      ]
     },
     "execution_count": 98,
     "metadata": {},
     "output_type": "execute_result"
    }
   ],
   "source": [
    "#7 components needed for >=.95 var explained, transform df to reduced 7 features\n",
    "dftrans_reduced = df_trans[:,:7]\n",
    "dftrans_reduced"
   ]
  },
  {
   "cell_type": "markdown",
   "metadata": {},
   "source": [
    "### e.)\n",
    "Perform Kmeans again, but this time on the lower dimensional transformed data. Then compare Silhouette values as well as completeness and Homogeneity values of the new clusters. Compare these results with those obtained on the full data in part b."
   ]
  },
  {
   "cell_type": "code",
   "execution_count": 99,
   "metadata": {},
   "outputs": [],
   "source": [
    "#Kmeans, lower dim data\n",
    "kmeans2 = KMeans(n_clusters=7, max_iter=500)\n",
    "kmeans2.fit(dftrans_reduced)\n",
    "clusters2 = kmeans2.predict(dftrans_reduced)"
   ]
  },
  {
   "cell_type": "code",
   "execution_count": 100,
   "metadata": {},
   "outputs": [
    {
     "data": {
      "text/plain": [
       "0.35970957979807067"
      ]
     },
     "execution_count": 100,
     "metadata": {},
     "output_type": "execute_result"
    }
   ],
   "source": [
    "#silhouette mean\n",
    "silhouettes = metrics.silhouette_samples(dftrans_reduced, clusters2)\n",
    "silhouettes.mean()"
   ]
  },
  {
   "cell_type": "code",
   "execution_count": 101,
   "metadata": {},
   "outputs": [
    {
     "data": {
      "image/png": "[encoded data removed]",
      "text/plain": [
       "<Figure size 432x288 with 1 Axes>"
      ]
     },
     "metadata": {
      "needs_background": "light"
     },
     "output_type": "display_data"
    }
   ],
   "source": [
    "#plot\n",
    "plot_silhouettes(dftrans_reduced, clusters2)"
   ]
  },
  {
   "cell_type": "code",
   "execution_count": 102,
   "metadata": {},
   "outputs": [
    {
     "name": "stdout",
     "output_type": "stream",
     "text": [
      "Completeness Score: 0.6115749269916771\n",
      "Homogenity Score: 0.6099736092174177\n"
     ]
    }
   ],
   "source": [
    "#compute homogenity and completeness scores\n",
    "print(f\"Completeness Score: {completeness_score(df_target[1],clusters2)}\")\n",
    "print(f\"Homogenity Score: {homogeneity_score(df_target[1],clusters2)}\")"
   ]
  },
  {
   "cell_type": "markdown",
   "metadata": {},
   "source": [
    "## Summary\n",
    "Comparing our scores from part b.), we get .3597 vs .3320 for our silhouette mean scores, .6116 vs .6132 for completeness scores, and .6100 vs .6115 for our homogenity score. So overall, our silhouette mean did improve slightly in the reduced dimension dataset, but our overall completeness and homogenity scores remain the same. Reducing the dimensions on our dataset helped elimnate some of the noise, which resulted in a better silhouette mean score."
   ]
  },
  {
   "cell_type": "markdown",
   "metadata": {},
   "source": [
    "# Problem #2\n"
   ]
  },
  {
   "cell_type": "markdown",
   "metadata": {},
   "source": [
    "### a.)\n",
    "Load in the joke ratings data and the joke text data into appropriate data structures. Use the \"recommend\" function to provide top 5 joke recommendations for users with id 4 using both Pearson and cosine similarity measures. Note the differences. Use the standard item-based collaborative filtering (based on the rating prediction function \"standEst\"). Next, find the top 5 recommendations for user with id 25 only with Pearson similarity using both the standard estimator and the SVD-based version (using \"svdEst\" as the prediction engine) to generate these recommendations. Note the differences. When outputting recommendations, you should show both the id and the text of the recommended jokes (in decreasing order of predicted rating) as well as the predicted ratings for each."
   ]
  },
  {
   "cell_type": "code",
   "execution_count": 103,
   "metadata": {},
   "outputs": [],
   "source": [
    "import itemBasedRec as ibr"
   ]
  },
  {
   "cell_type": "code",
   "execution_count": 118,
   "metadata": {},
   "outputs": [
    {
     "data": {
      "text/plain": [
       "(      0      1      2      3      4      5      6      7      8      9   ...  \\\n",
       " 0   3.18  19.79   1.34   2.84   3.48   2.50   1.15  15.17   2.02   6.24  ...   \n",
       " 1  15.08  10.71  17.36  15.37   8.62   1.34  10.27   5.66  19.88  20.22  ...   \n",
       " 2   0.00   0.00   0.00   0.00  20.03  20.27  20.03  20.27   0.00   0.00  ...   \n",
       " 3   0.00  19.35   0.00   0.00  12.80  19.16   8.18  17.21   0.00  12.84  ...   \n",
       " 4  19.50  15.61   6.83   5.61  12.36  12.60  18.04  15.61  10.56  16.73  ...   \n",
       " \n",
       "       90     91     92     93     94     95     96     97     98     99  \n",
       " 0  13.82   0.00   0.00   0.00   0.00   0.00   5.37   0.00   0.00   0.00  \n",
       " 1  13.82   6.05  10.71  18.86  10.81   8.86  14.06  11.34   6.68  12.07  \n",
       " 2   0.00   0.00   0.00  20.08   0.00   0.00   0.00   0.00   0.00   0.00  \n",
       " 3   0.00   0.00   0.00  11.53   0.00   0.00   0.00   0.00   0.00   0.00  \n",
       " 4  16.19  16.58  15.27  16.19  16.73  12.55  14.11  17.55  12.80  12.60  \n",
       " \n",
       " [5 rows x 100 columns],\n",
       " (1000, 100))"
      ]
     },
     "execution_count": 118,
     "metadata": {},
     "output_type": "execute_result"
    }
   ],
   "source": [
    "#load in data\n",
    "jokes_df = pd.read_csv('modified_jester_data.csv', header=None)\n",
    "jokes_mat = np.mat(jokes_df)\n",
    "jokes_df.head(), jokes_df.shape"
   ]
  },
  {
   "cell_type": "code",
   "execution_count": 119,
   "metadata": {},
   "outputs": [
    {
     "data": {
      "text/plain": [
       "(                                                   1\n",
       " 0  A man visits the doctor. The doctor says \"I ha...\n",
       " 1  This couple had an excellent relationship goin...\n",
       " 2  Q. What's 200 feet long and has 4 teeth? A. Th...\n",
       " 3  Q. What's the difference between a man and a t...\n",
       " 4  Q. What's O. J. Simpson's Internet address? A....,\n",
       " (100, 1))"
      ]
     },
     "execution_count": 119,
     "metadata": {},
     "output_type": "execute_result"
    }
   ],
   "source": [
    "#load in joke ids\n",
    "joke_ids = pd.read_csv('jokes.csv',header=None)\n",
    "joke_ids = pd.DataFrame(joke_ids[1])\n",
    "joke_ids.head(), joke_ids.shape"
   ]
  },
  {
   "cell_type": "code",
   "execution_count": 130,
   "metadata": {},
   "outputs": [
    {
     "data": {
      "text/plain": [
       "[(71, 14.413443009309447),\n",
       " (75, 14.397311198445264),\n",
       " (79, 14.382511887413443),\n",
       " (78, 14.356160763938075),\n",
       " (72, 14.334361485417928)]"
      ]
     },
     "execution_count": 130,
     "metadata": {},
     "output_type": "execute_result"
    }
   ],
   "source": [
    "a = ibr.recommend(jokes_mat, 4, 5, ibr.pearsonSim, ibr.standEst)\n",
    "a"
   ]
  },
  {
   "cell_type": "code",
   "execution_count": 155,
   "metadata": {},
   "outputs": [],
   "source": [
    "#create function\n",
    "def rec_jokes(M, user, N=3, simMeas=ibr.pearsonSim, estMethod=ibr.standEst):\n",
    "    '''outputs format with joke description using recommend function'''\n",
    "    a = ibr.recommend(M, user, N, simMeas, estMethod)\n",
    "    \n",
    "    #fix formatting\n",
    "    a = pd.DataFrame(a)\n",
    "    a.index = a[0]\n",
    "    a = pd.DataFrame(a[1])\n",
    "    a['Joke Description'] = joke_ids.iloc[a.index]\n",
    "    a.columns = [['Predicted Rating', 'Joke Description']]\n",
    "    return a\n",
    "    "
   ]
  },
  {
   "cell_type": "code",
   "execution_count": 156,
   "metadata": {},
   "outputs": [
    {
     "data": {
      "text/html": [
       "<div>\n",
       "<style scoped>\n",
       "    .dataframe tbody tr th:only-of-type {\n",
       "        vertical-align: middle;\n",
       "    }\n",
       "\n",
       "    .dataframe tbody tr th {\n",
       "        vertical-align: top;\n",
       "    }\n",
       "\n",
       "    .dataframe thead tr th {\n",
       "        text-align: left;\n",
       "    }\n",
       "\n",
       "    .dataframe thead tr:last-of-type th {\n",
       "        text-align: right;\n",
       "    }\n",
       "</style>\n",
       "<table border=\"1\" class=\"dataframe\">\n",
       "  <thead>\n",
       "    <tr>\n",
       "      <th></th>\n",
       "      <th>Predicted Rating</th>\n",
       "      <th>Joke Description</th>\n",
       "    </tr>\n",
       "    <tr>\n",
       "      <th>0</th>\n",
       "      <th></th>\n",
       "      <th></th>\n",
       "    </tr>\n",
       "  </thead>\n",
       "  <tbody>\n",
       "    <tr>\n",
       "      <th>71</th>\n",
       "      <td>14.41</td>\n",
       "      <td>On the first day of college the Dean addressed...</td>\n",
       "    </tr>\n",
       "    <tr>\n",
       "      <th>75</th>\n",
       "      <td>14.40</td>\n",
       "      <td>There once was a man and a woman that both  go...</td>\n",
       "    </tr>\n",
       "    <tr>\n",
       "      <th>79</th>\n",
       "      <td>14.38</td>\n",
       "      <td>Hillary Bill Clinton and the Pope are sitting ...</td>\n",
       "    </tr>\n",
       "    <tr>\n",
       "      <th>78</th>\n",
       "      <td>14.36</td>\n",
       "      <td>Q: Ever wonder why the IRS calls it Form 1040?...</td>\n",
       "    </tr>\n",
       "    <tr>\n",
       "      <th>72</th>\n",
       "      <td>14.33</td>\n",
       "      <td>Q: What is the difference between George  Wash...</td>\n",
       "    </tr>\n",
       "  </tbody>\n",
       "</table>\n",
       "</div>"
      ],
      "text/plain": [
       "   Predicted Rating                                   Joke Description\n",
       "0                                                                     \n",
       "71            14.41  On the first day of college the Dean addressed...\n",
       "75            14.40  There once was a man and a woman that both  go...\n",
       "79            14.38  Hillary Bill Clinton and the Pope are sitting ...\n",
       "78            14.36  Q: Ever wonder why the IRS calls it Form 1040?...\n",
       "72            14.33  Q: What is the difference between George  Wash..."
      ]
     },
     "execution_count": 156,
     "metadata": {},
     "output_type": "execute_result"
    }
   ],
   "source": [
    "#user id 4, top 5 jokes, pearson sim, standard est\n",
    "a = rec_jokes(jokes_mat, 4, 5, ibr.pearsonSim, ibr.standEst)\n",
    "a"
   ]
  },
  {
   "cell_type": "code",
   "execution_count": 157,
   "metadata": {},
   "outputs": [
    {
     "data": {
      "text/html": [
       "<div>\n",
       "<style scoped>\n",
       "    .dataframe tbody tr th:only-of-type {\n",
       "        vertical-align: middle;\n",
       "    }\n",
       "\n",
       "    .dataframe tbody tr th {\n",
       "        vertical-align: top;\n",
       "    }\n",
       "\n",
       "    .dataframe thead tr th {\n",
       "        text-align: left;\n",
       "    }\n",
       "\n",
       "    .dataframe thead tr:last-of-type th {\n",
       "        text-align: right;\n",
       "    }\n",
       "</style>\n",
       "<table border=\"1\" class=\"dataframe\">\n",
       "  <thead>\n",
       "    <tr>\n",
       "      <th></th>\n",
       "      <th>Predicted Rating</th>\n",
       "      <th>Joke Description</th>\n",
       "    </tr>\n",
       "    <tr>\n",
       "      <th>0</th>\n",
       "      <th></th>\n",
       "      <th></th>\n",
       "    </tr>\n",
       "  </thead>\n",
       "  <tbody>\n",
       "    <tr>\n",
       "      <th>71</th>\n",
       "      <td>14.29</td>\n",
       "      <td>On the first day of college the Dean addressed...</td>\n",
       "    </tr>\n",
       "    <tr>\n",
       "      <th>75</th>\n",
       "      <td>14.29</td>\n",
       "      <td>There once was a man and a woman that both  go...</td>\n",
       "    </tr>\n",
       "    <tr>\n",
       "      <th>79</th>\n",
       "      <td>14.29</td>\n",
       "      <td>Hillary Bill Clinton and the Pope are sitting ...</td>\n",
       "    </tr>\n",
       "    <tr>\n",
       "      <th>78</th>\n",
       "      <td>14.29</td>\n",
       "      <td>Q: Ever wonder why the IRS calls it Form 1040?...</td>\n",
       "    </tr>\n",
       "    <tr>\n",
       "      <th>70</th>\n",
       "      <td>14.29</td>\n",
       "      <td>At a recent Sacramento PC Users Group meeting ...</td>\n",
       "    </tr>\n",
       "  </tbody>\n",
       "</table>\n",
       "</div>"
      ],
      "text/plain": [
       "   Predicted Rating                                   Joke Description\n",
       "0                                                                     \n",
       "71            14.29  On the first day of college the Dean addressed...\n",
       "75            14.29  There once was a man and a woman that both  go...\n",
       "79            14.29  Hillary Bill Clinton and the Pope are sitting ...\n",
       "78            14.29  Q: Ever wonder why the IRS calls it Form 1040?...\n",
       "70            14.29  At a recent Sacramento PC Users Group meeting ..."
      ]
     },
     "execution_count": 157,
     "metadata": {},
     "output_type": "execute_result"
    }
   ],
   "source": [
    "#user id 4, top 5 jokes, cosine sim, standard est\n",
    "a = rec_jokes(jokes_mat, 4, 5, ibr.cosineSim, ibr.standEst)\n",
    "a"
   ]
  },
  {
   "cell_type": "code",
   "execution_count": 135,
   "metadata": {},
   "outputs": [
    {
     "data": {
      "text/plain": [
       "Int64Index([71, 75, 79, 78, 72], dtype='int64', name=0)"
      ]
     },
     "execution_count": 135,
     "metadata": {},
     "output_type": "execute_result"
    }
   ],
   "source": [
    "a.index"
   ]
  },
  {
   "cell_type": "code",
   "execution_count": 158,
   "metadata": {},
   "outputs": [
    {
     "data": {
      "text/html": [
       "<div>\n",
       "<style scoped>\n",
       "    .dataframe tbody tr th:only-of-type {\n",
       "        vertical-align: middle;\n",
       "    }\n",
       "\n",
       "    .dataframe tbody tr th {\n",
       "        vertical-align: top;\n",
       "    }\n",
       "\n",
       "    .dataframe thead tr th {\n",
       "        text-align: left;\n",
       "    }\n",
       "\n",
       "    .dataframe thead tr:last-of-type th {\n",
       "        text-align: right;\n",
       "    }\n",
       "</style>\n",
       "<table border=\"1\" class=\"dataframe\">\n",
       "  <thead>\n",
       "    <tr>\n",
       "      <th></th>\n",
       "      <th>Predicted Rating</th>\n",
       "      <th>Joke Description</th>\n",
       "    </tr>\n",
       "    <tr>\n",
       "      <th>0</th>\n",
       "      <th></th>\n",
       "      <th></th>\n",
       "    </tr>\n",
       "  </thead>\n",
       "  <tbody>\n",
       "    <tr>\n",
       "      <th>99</th>\n",
       "      <td>15.32</td>\n",
       "      <td>Q: What's the difference between greeting a Qu...</td>\n",
       "    </tr>\n",
       "    <tr>\n",
       "      <th>71</th>\n",
       "      <td>15.32</td>\n",
       "      <td>On the first day of college the Dean addressed...</td>\n",
       "    </tr>\n",
       "    <tr>\n",
       "      <th>97</th>\n",
       "      <td>15.32</td>\n",
       "      <td>Age and Womanhood1. Between the ages of 13 and...</td>\n",
       "    </tr>\n",
       "    <tr>\n",
       "      <th>82</th>\n",
       "      <td>15.30</td>\n",
       "      <td>What a woman says:\"This place is a mess!  C'mo...</td>\n",
       "    </tr>\n",
       "    <tr>\n",
       "      <th>91</th>\n",
       "      <td>15.29</td>\n",
       "      <td>Early one morning a mother went to her sleepin...</td>\n",
       "    </tr>\n",
       "  </tbody>\n",
       "</table>\n",
       "</div>"
      ],
      "text/plain": [
       "   Predicted Rating                                   Joke Description\n",
       "0                                                                     \n",
       "99            15.32  Q: What's the difference between greeting a Qu...\n",
       "71            15.32  On the first day of college the Dean addressed...\n",
       "97            15.32  Age and Womanhood1. Between the ages of 13 and...\n",
       "82            15.30  What a woman says:\"This place is a mess!  C'mo...\n",
       "91            15.29  Early one morning a mother went to her sleepin..."
      ]
     },
     "execution_count": 158,
     "metadata": {},
     "output_type": "execute_result"
    }
   ],
   "source": [
    "#user id 25, top 5 jokes, pearson sim, standard est\n",
    "a = rec_jokes(jokes_mat, 25, 5, ibr.pearsonSim, ibr.standEst)\n",
    "a"
   ]
  },
  {
   "cell_type": "code",
   "execution_count": 162,
   "metadata": {},
   "outputs": [
    {
     "data": {
      "text/html": [
       "<div>\n",
       "<style scoped>\n",
       "    .dataframe tbody tr th:only-of-type {\n",
       "        vertical-align: middle;\n",
       "    }\n",
       "\n",
       "    .dataframe tbody tr th {\n",
       "        vertical-align: top;\n",
       "    }\n",
       "\n",
       "    .dataframe thead tr th {\n",
       "        text-align: left;\n",
       "    }\n",
       "\n",
       "    .dataframe thead tr:last-of-type th {\n",
       "        text-align: right;\n",
       "    }\n",
       "</style>\n",
       "<table border=\"1\" class=\"dataframe\">\n",
       "  <thead>\n",
       "    <tr>\n",
       "      <th></th>\n",
       "      <th>Predicted Rating</th>\n",
       "      <th>Joke Description</th>\n",
       "    </tr>\n",
       "    <tr>\n",
       "      <th>0</th>\n",
       "      <th></th>\n",
       "      <th></th>\n",
       "    </tr>\n",
       "  </thead>\n",
       "  <tbody>\n",
       "    <tr>\n",
       "      <th>3</th>\n",
       "      <td>15.28</td>\n",
       "      <td>Q. What's the difference between a man and a t...</td>\n",
       "    </tr>\n",
       "    <tr>\n",
       "      <th>79</th>\n",
       "      <td>15.24</td>\n",
       "      <td>Hillary Bill Clinton and the Pope are sitting ...</td>\n",
       "    </tr>\n",
       "    <tr>\n",
       "      <th>72</th>\n",
       "      <td>15.21</td>\n",
       "      <td>Q: What is the difference between George  Wash...</td>\n",
       "    </tr>\n",
       "    <tr>\n",
       "      <th>71</th>\n",
       "      <td>15.19</td>\n",
       "      <td>On the first day of college the Dean addressed...</td>\n",
       "    </tr>\n",
       "    <tr>\n",
       "      <th>99</th>\n",
       "      <td>15.18</td>\n",
       "      <td>Q: What's the difference between greeting a Qu...</td>\n",
       "    </tr>\n",
       "  </tbody>\n",
       "</table>\n",
       "</div>"
      ],
      "text/plain": [
       "   Predicted Rating                                   Joke Description\n",
       "0                                                                     \n",
       "3             15.28  Q. What's the difference between a man and a t...\n",
       "79            15.24  Hillary Bill Clinton and the Pope are sitting ...\n",
       "72            15.21  Q: What is the difference between George  Wash...\n",
       "71            15.19  On the first day of college the Dean addressed...\n",
       "99            15.18  Q: What's the difference between greeting a Qu..."
      ]
     },
     "execution_count": 162,
     "metadata": {},
     "output_type": "execute_result"
    }
   ],
   "source": [
    "#user id 25, top 5 jokes, pearson sim, svd est\n",
    "a = rec_jokes(jokes_mat, 25, 5, ibr.pearsonSim, ibr.svdEst)\n",
    "a"
   ]
  },
  {
   "cell_type": "code",
   "execution_count": 169,
   "metadata": {},
   "outputs": [
    {
     "data": {
      "text/plain": [
       "array([[\"Q. What's the difference between a man and a toilet? A. A toilet doesn't follow you around after you use it.\"],\n",
       "       ['Hillary Bill Clinton and the Pope are sitting together on an airplane. Bill says \"I could throw one thousand dollar bill out of this plane and make one person very happy.\"Hillary says \"I could throw 10 hundred dollar bills out of the plane and make 10 people very happy.\"The Pope chips in and says \"I could throw Bill out of the airplane and make the whole country happy.\"'],\n",
       "       [\"Q: What is the difference between George  Washington Richard Nixon and Bill Clinton? A: Washington couldn't tell a lie Nixon couldn't   tell the truth andClinton doesn't know the difference.\"],\n",
       "       ['On the first day of college the Dean addressed the students pointing out some of the rules:\"The female dormitory will be out-of-bounds for all male students and the male dormitory to the female students. Anybody caught breaking this rule will be fined $20 the first time.\" He continued \"Anybody caught breaking this rule the second time will be fined $60. Being caught a third time will cost you a fine of $180. Are there any questions ?\"At this point a male student in the crowd inquired:\"How much for a season pass ?\"'],\n",
       "       [\"Q: What's the difference between greeting a Queen and greeting thePresident of the United  States?A: You only have to get on one knee to greet the queen.\"]],\n",
       "      dtype=object)"
      ]
     },
     "execution_count": 169,
     "metadata": {},
     "output_type": "execute_result"
    }
   ],
   "source": [
    "np.array(a[['Joke Description']])"
   ]
  },
  {
   "cell_type": "markdown",
   "metadata": {},
   "source": [
    "## Summary\n",
    "\n",
    "Looking at user id 4, we see that both the pearson and cosine similarities classify the first 4 jokes the same, but they differ on the last joke (joke 72 vs joke 70). Looking at the predicted rating, we see that the values for the cosine similarity are very close to each other, while pearson is spread further apart. The jokes themselves seem related to government in both categories.\n",
    "\n",
    "Looking at user id 25, we see pretty different results comparing the standEst and svdEst item-based collaborative filters. The standEst values seem to have jokes relating to women, while svdEst seems to have a mix of both government related jokes and women related jokes. The ratings are more tightly knit for the standEst compared to the svdEst."
   ]
  },
  {
   "cell_type": "markdown",
   "metadata": {},
   "source": [
    "### b.)\n",
    "Complete the definition for the function \"test\". This function iterates over all users and for each performs evaluation (by calling the provided \"cross_validate_user\" function) and returns the error information necessary to compute Mean Absolute Error (MAE). Use this function to perform evaluation (with 20% test-ratio for each user) comparing MAE results using the rating prediction function \"standEst\" with results using the \"svdEst\" prediction function (in both cases using Pearson similarity measure. Note that this may take several minutes depending on your computational environment. [Note: See comments provided in the module for hints on accomplishing these tasks.]"
   ]
  },
  {
   "cell_type": "code",
   "execution_count": 170,
   "metadata": {},
   "outputs": [
    {
     "data": {
      "text/plain": [
       "(71.11723843611041, 18)"
      ]
     },
     "execution_count": 170,
     "metadata": {},
     "output_type": "execute_result"
    }
   ],
   "source": [
    "b = ibr.cross_validate_user(jokes_mat, 4, .2)\n",
    "b"
   ]
  },
  {
   "cell_type": "code",
   "execution_count": 237,
   "metadata": {},
   "outputs": [],
   "source": [
    "def test(dataMat, test_ratio, estMethod, simMeas=ibr.pearsonSim):\n",
    "    '''for each user, perform MAE cross validation w/ 20% test ratio and store it in a df to calc ttl MAE'''\n",
    "    #create df of correct shape of ones\n",
    "    res = pd.DataFrame(np.ones((np.shape(dataMat)[0],2), dtype=float),columns=['Error','Count'])\n",
    "    \n",
    "    for i in range(dataMat.shape[0]):\n",
    "        \n",
    "        #perform cv\n",
    "        cv = ibr.cross_validate_user(dataMat, i, test_ratio, estMethod, simMeas)\n",
    "        #store cv values into df\n",
    "        res.iloc[i] = res.iloc[i] * cv\n",
    "    \n",
    "    return res['Error'].sum() / res['Count'].sum()\n",
    "            "
   ]
  },
  {
   "cell_type": "code",
   "execution_count": 238,
   "metadata": {},
   "outputs": [
    {
     "data": {
      "text/plain": [
       "3.7124208021257803"
      ]
     },
     "execution_count": 238,
     "metadata": {},
     "output_type": "execute_result"
    }
   ],
   "source": [
    "#20% test using standard estimator\n",
    "a = test(jokes_mat, .2, ibr.standEst)\n",
    "a"
   ]
  },
  {
   "cell_type": "code",
   "execution_count": 239,
   "metadata": {},
   "outputs": [
    {
     "data": {
      "text/plain": [
       "3.6469942826788713"
      ]
     },
     "execution_count": 239,
     "metadata": {},
     "output_type": "execute_result"
    }
   ],
   "source": [
    "#20% test using svd estimator\n",
    "b = test(jokes_mat, .2, ibr.svdEst)\n",
    "b"
   ]
  },
  {
   "cell_type": "markdown",
   "metadata": {},
   "source": [
    "## Summary\n",
    "After creating the test function and utilizing it to calculate a total MAE across all users for our standard and svd estimator, we see that our standard estimator was slightly worse due to having a higher MAE value. This could be because the SVD reduces the dimensionality of our matrix (hard coded to 4), which may reduce the noise going on in the total number of dimensions. The MAE tells us that using 20% of our data as test data, we were on average off on our user predicted ratings by 3.71 and 3.65 in the standard and svd estimator respectively."
   ]
  },
  {
   "cell_type": "markdown",
   "metadata": {},
   "source": [
    "### c.)\n",
    "Write a new function \"print_most_similar_jokes\" which outputs the most similar jokes (based on user ratings) to a specified query joke. You function should take as input the joke ratings data, a query joke id, a parameter k for the number similar jokes, and a similarity metric function. It should output the text of the query joke as well as the texts of the top k most similar jokes in decreasing order of similarity (you should also provide the similarity values). Test your function as follows:\n",
    "\n",
    "     * Show the top 3 most similar jokes to joke with id 9 using Pearson similarity.\n",
    "     * Show the top 3 most similar jokes to Joke with id 9 using cosine similarity."
   ]
  },
  {
   "cell_type": "code",
   "execution_count": 241,
   "metadata": {},
   "outputs": [
    {
     "data": {
      "text/plain": [
       "matrix([[ 3.18, 15.08,  0.  , ..., 16.58,  3.67,  9.88],\n",
       "        [19.79, 10.71,  0.  , ..., 16.63,  4.45, 11.73],\n",
       "        [ 1.34, 17.36,  0.  , ..., 15.85,  3.67,  9.16],\n",
       "        ...,\n",
       "        [ 0.  , 11.34,  0.  , ...,  0.  ,  3.77,  0.  ],\n",
       "        [ 0.  ,  6.68,  0.  , ...,  0.  ,  3.77,  0.  ],\n",
       "        [ 0.  , 12.07,  0.  , ...,  0.  ,  3.28,  0.  ]])"
      ]
     },
     "execution_count": 241,
     "metadata": {},
     "output_type": "execute_result"
    }
   ],
   "source": [
    "jokes_mat_T = jokes_mat.T\n",
    "jokes_mat_T"
   ]
  },
  {
   "cell_type": "code",
   "execution_count": 268,
   "metadata": {},
   "outputs": [],
   "source": [
    "def calc_joke_sim(dataMat, joke_id, simMeas):\n",
    "    '''calculates the similarity of a given joke_id to all other jokes'''\n",
    "    \n",
    "    res = pd.DataFrame(np.ones((np.shape(dataMat)[1],1), dtype=float),columns=['Sim'])\n",
    "    \n",
    "    for i in range(dataMat.shape[1]):\n",
    "        \n",
    "        sim = simMeas(dataMat[:,i], dataMat[:,joke_id])\n",
    "        \n",
    "        res.iloc[i] = res.iloc[i] * sim\n",
    "    return res"
   ]
  },
  {
   "cell_type": "code",
   "execution_count": 313,
   "metadata": {},
   "outputs": [],
   "source": [
    "def print_most_similar_jokes(dataMat, joke_id, k, simMeas):\n",
    "    '''finds the top k most similar jokes to a given joke using a similarity measure'''\n",
    "    \n",
    "    #calculate joke_id similarity between all jokes\n",
    "    res = calc_joke_sim(dataMat, joke_id, simMeas)\n",
    "    #add joke description to res\n",
    "    res['Joke Description'] = joke_ids.iloc[res.index]\n",
    "    #sort results\n",
    "    res.sort_values(by=['Sim'], inplace=True, ascending=False)\n",
    "    \n",
    "    ares = np.array(res)\n",
    "    \n",
    "    #selected joke\n",
    "    print('Selected Joke:')\n",
    "    print(f\"Joke ID: {joke_id}\\nJoke: {ares[0,1]}\")\n",
    "    print()\n",
    "    print(f\"Top {k} Recommended jokes are: \")\n",
    "    #print k most similar jokes for given joke\n",
    "    for i in range(k):\n",
    "        print(f\"Joke {i+1} Similarity Value: {ares[i+1,0]}\")\n",
    "        print(f\"Joke {i+1} Description: {ares[i+1,1]}\")\n",
    "        print(\"----------------------------------------------------------------------------------------------------\")\n",
    "        \n",
    "    "
   ]
  },
  {
   "cell_type": "code",
   "execution_count": 316,
   "metadata": {},
   "outputs": [
    {
     "name": "stdout",
     "output_type": "stream",
     "text": [
      "Selected Joke:\n",
      "Joke ID: 9\n",
      "Joke: Two cannibals are eating a clown one turns to other and says: \"Does this taste funny to you? \n",
      "\n",
      "Top 3 Recommended jokes are: \n",
      "Joke 1 Similarity Value: 0.7613547766060571\n",
      "Joke 1 Description: A duck walks into a pharmacy and asks for a condom. The pharmacist says\"Would you like me to stick that on your bill?\"The duck says: \"What kind of duck do you think I am!\"\n",
      "----------------------------------------------------------------------------------------------------\n",
      "Joke 2 Similarity Value: 0.7584095690232999\n",
      "Joke 2 Description: Q. What do a hurricane a tornado and a redneck divorce all have in common? A. Someone's going to lose their trailer...\n",
      "----------------------------------------------------------------------------------------------------\n",
      "Joke 3 Similarity Value: 0.7540592776837659\n",
      "Joke 3 Description: A woman has twins and gives them up for adoption.  One of them goes to a family in Egypt and is named \"Amal.\"  The other goes to a  family in Spain; they name him \"Juan.\"  Years later Juan sends a picture of himself to his mom.  Upon receiving the picture she tells her husband that she wishes she also had a picture of Amal.  Her husband responds \"But they are twins-if you've seen Juan you've seen   Amal.\n",
      "----------------------------------------------------------------------------------------------------\n"
     ]
    }
   ],
   "source": [
    "#top 3 jokes for joke_id 9 using pearsonSim\n",
    "res = print_most_similar_jokes(jokes_mat, 9, 3, ibr.pearsonSim)\n",
    "res"
   ]
  },
  {
   "cell_type": "code",
   "execution_count": 317,
   "metadata": {},
   "outputs": [
    {
     "name": "stdout",
     "output_type": "stream",
     "text": [
      "Selected Joke:\n",
      "Joke ID: 9\n",
      "Joke: Two cannibals are eating a clown one turns to other and says: \"Does this taste funny to you? \n",
      "\n",
      "Top 3 Recommended jokes are: \n",
      "Joke 1 Similarity Value: 0.9290069063401065\n",
      "Joke 1 Description: Q. What do a hurricane a tornado and a redneck divorce all have in common? A. Someone's going to lose their trailer...\n",
      "----------------------------------------------------------------------------------------------------\n",
      "Joke 2 Similarity Value: 0.9283595009905077\n",
      "Joke 2 Description: May I take your order? the waiter asked. \"Yes how do you prepare your chickens?\" \"Nothing special sir\" he replied. \"We just tell them straight out that they're going to die.\"\n",
      "----------------------------------------------------------------------------------------------------\n",
      "Joke 3 Similarity Value: 0.9268826687157665\n",
      "Joke 3 Description: A duck walks into a pharmacy and asks for a condom. The pharmacist says\"Would you like me to stick that on your bill?\"The duck says: \"What kind of duck do you think I am!\"\n",
      "----------------------------------------------------------------------------------------------------\n"
     ]
    }
   ],
   "source": [
    "#top 3 jokes for joke_id 9 using cosineSim\n",
    "res2 = print_most_similar_jokes(jokes_mat, 9, 3, ibr.cosineSim)\n",
    "res2"
   ]
  },
  {
   "cell_type": "markdown",
   "metadata": {},
   "source": [
    "## Summary\n",
    "After creating our joke similarity function, I calculated the Top 3 recommended jokes for joke_id 9 utilizing pearson and cosine similarity. For pearson, we see that the similarity values are significantly lower than those for cosine. They both selected two of the same jokes (in different order) and one joke different."
   ]
  },
  {
   "cell_type": "markdown",
   "metadata": {},
   "source": [
    "### d.)\n",
    "The implementation of item-based collaborative filtering provided in the module is not scalable since for each prediction it attempts to compute pairwise similarities among all items. Develop your own item-based collaborative filtering recommender that uses a model-based approach (separating the training and the prediction tasks). In the training component, item-item similarities for all pairs of items are computed and stored in an appropriate data structure such as a pairwise similarity matrix. Your training function should be able to use different similarity functions (passed as a parameter) including cosine Similarity or Pearson correlation. The prediction (or estimation) function should take as parameters a target user, an item, a value of k, and the similarities matrix computed in the training phase. It should then return the predicted rating on the target item for the target user. The predicted rating should be the weighted average of the target user's ratings on the k most similar items to the target item (obtained from the similarity matrix). Demonstrate that your function works by computing predicted ratings for users 4 and 25, using k = 10, on top two items recommended to each user on part a (using both Pearson and cosine similarities)."
   ]
  },
  {
   "cell_type": "code",
   "execution_count": 403,
   "metadata": {},
   "outputs": [],
   "source": [
    "#compute training function\n",
    "def r_train(dataMat, simMeas):\n",
    "    '''returns the pairwise similarity matrix for a given data matrix'''\n",
    "    n = dataMat.shape[1]\n",
    "    res = pd.DataFrame(np.ones((n, n), dtype=float), columns=range(n))\n",
    "    #return res\n",
    "    \n",
    "    for i in range(n):\n",
    "        \n",
    "        #calculate ith joke similarity vector\n",
    "        sim = calc_joke_sim(dataMat, i, simMeas)\n",
    "        \n",
    "        #update ith joke in result\n",
    "        res[i] = res[i] * sim['Sim']\n",
    "    \n",
    "    return np.mat(res)\n",
    "        "
   ]
  },
  {
   "cell_type": "code",
   "execution_count": 460,
   "metadata": {},
   "outputs": [],
   "source": [
    "#test/prediction function\n",
    "def r_test(dataMat, target_user, item, k, simMat):\n",
    "    '''Returns the predicted rating on the target item for the target user'''\n",
    "    #get k sims from simMat\n",
    "    simMat = pd.DataFrame(simMat)\n",
    "    topJokes = simMat.sort_values(by=[item], ascending=False)\n",
    "    simWeights = np.array(topJokes)[1:k+1,0]\n",
    "    #return simWeights\n",
    "    \n",
    "    #get k ratings from dataMat\n",
    "    r = pd.DataFrame(jokes_mat[target_user])\n",
    "    r = r.T\n",
    "    ratings = r.iloc[topJokes[1:k+1].index]\n",
    "    weightedAvg = (simWeights * ratings.T).T.sum() / k\n",
    "    \n",
    "    return weightedAvg"
   ]
  },
  {
   "cell_type": "code",
   "execution_count": 462,
   "metadata": {},
   "outputs": [
    {
     "data": {
      "text/plain": [
       "matrix([[1.  , 0.79, 0.78, ..., 0.64, 0.64, 0.65],\n",
       "        [0.79, 1.  , 0.73, ..., 0.62, 0.6 , 0.63],\n",
       "        [0.78, 0.73, 1.  , ..., 0.65, 0.64, 0.68],\n",
       "        ...,\n",
       "        [0.64, 0.62, 0.65, ..., 1.  , 0.82, 0.88],\n",
       "        [0.64, 0.6 , 0.64, ..., 0.82, 1.  , 0.84],\n",
       "        [0.65, 0.63, 0.68, ..., 0.88, 0.84, 1.  ]])"
      ]
     },
     "execution_count": 462,
     "metadata": {},
     "output_type": "execute_result"
    }
   ],
   "source": [
    "#train your data matrix, pearson sim\n",
    "r = r_train(jokes_mat, ibr.pearsonSim)\n",
    "r"
   ]
  },
  {
   "cell_type": "code",
   "execution_count": 463,
   "metadata": {},
   "outputs": [
    {
     "data": {
      "text/plain": [
       "0    4.57\n",
       "dtype: float64"
      ]
     },
     "execution_count": 463,
     "metadata": {},
     "output_type": "execute_result"
    }
   ],
   "source": [
    "#Test for user 4, k=10, item 71\n",
    "res = r_test(jokes_mat, 4, 71, 10, r)\n",
    "res"
   ]
  },
  {
   "cell_type": "code",
   "execution_count": 464,
   "metadata": {},
   "outputs": [
    {
     "data": {
      "text/plain": [
       "0    3.57\n",
       "dtype: float64"
      ]
     },
     "execution_count": 464,
     "metadata": {},
     "output_type": "execute_result"
    }
   ],
   "source": [
    "#Test for user 4, k=10, item 75\n",
    "res = r_test(jokes_mat, 4, 75, 10, r)\n",
    "res"
   ]
  },
  {
   "cell_type": "code",
   "execution_count": 465,
   "metadata": {},
   "outputs": [
    {
     "data": {
      "text/plain": [
       "0    0.0\n",
       "dtype: float64"
      ]
     },
     "execution_count": 465,
     "metadata": {},
     "output_type": "execute_result"
    }
   ],
   "source": [
    "#Test for user 25, k=10, item 99\n",
    "res = r_test(jokes_mat, 25, 99, 10, r)\n",
    "res"
   ]
  },
  {
   "cell_type": "code",
   "execution_count": 466,
   "metadata": {},
   "outputs": [
    {
     "data": {
      "text/plain": [
       "0    0.83\n",
       "dtype: float64"
      ]
     },
     "execution_count": 466,
     "metadata": {},
     "output_type": "execute_result"
    }
   ],
   "source": [
    "#Test for user 25, k=10, item 71\n",
    "res = r_test(jokes_mat, 25, 71, 10, r)\n",
    "res"
   ]
  },
  {
   "cell_type": "code",
   "execution_count": 467,
   "metadata": {},
   "outputs": [
    {
     "data": {
      "text/plain": [
       "matrix([[1.  , 0.92, 0.91, ..., 0.79, 0.8 , 0.79],\n",
       "        [0.92, 1.  , 0.89, ..., 0.78, 0.78, 0.79],\n",
       "        [0.91, 0.89, 1.  , ..., 0.79, 0.79, 0.8 ],\n",
       "        ...,\n",
       "        [0.79, 0.78, 0.79, ..., 1.  , 0.88, 0.92],\n",
       "        [0.8 , 0.78, 0.79, ..., 0.88, 1.  , 0.89],\n",
       "        [0.79, 0.79, 0.8 , ..., 0.92, 0.89, 1.  ]])"
      ]
     },
     "execution_count": 467,
     "metadata": {},
     "output_type": "execute_result"
    }
   ],
   "source": [
    "#train matrix, cosineSim\n",
    "r = r_train(jokes_mat, ibr.cosineSim)\n",
    "r"
   ]
  },
  {
   "cell_type": "code",
   "execution_count": 468,
   "metadata": {},
   "outputs": [
    {
     "data": {
      "text/plain": [
       "0    5.74\n",
       "dtype: float64"
      ]
     },
     "execution_count": 468,
     "metadata": {},
     "output_type": "execute_result"
    }
   ],
   "source": [
    "#Test for user 4, k=10, item 71\n",
    "res = r_test(jokes_mat, 4, 71, 10, r)\n",
    "res"
   ]
  },
  {
   "cell_type": "code",
   "execution_count": 469,
   "metadata": {},
   "outputs": [
    {
     "data": {
      "text/plain": [
       "0    5.81\n",
       "dtype: float64"
      ]
     },
     "execution_count": 469,
     "metadata": {},
     "output_type": "execute_result"
    }
   ],
   "source": [
    "#Test for user 4, k=10, item 75\n",
    "res = r_test(jokes_mat, 4, 75, 10, r)\n",
    "res"
   ]
  },
  {
   "cell_type": "code",
   "execution_count": 470,
   "metadata": {},
   "outputs": [
    {
     "data": {
      "text/plain": [
       "0    0.0\n",
       "dtype: float64"
      ]
     },
     "execution_count": 470,
     "metadata": {},
     "output_type": "execute_result"
    }
   ],
   "source": [
    "#Test for user 25, k=10, item 99\n",
    "res = r_test(jokes_mat, 25, 99, 10, r)\n",
    "res"
   ]
  },
  {
   "cell_type": "code",
   "execution_count": 471,
   "metadata": {},
   "outputs": [
    {
     "data": {
      "text/plain": [
       "0    1.04\n",
       "dtype: float64"
      ]
     },
     "execution_count": 471,
     "metadata": {},
     "output_type": "execute_result"
    }
   ],
   "source": [
    "#Test for user 25, k=10, item 71\n",
    "res = r_test(jokes_mat, 25, 71, 10, r)\n",
    "res"
   ]
  },
  {
   "cell_type": "markdown",
   "metadata": {},
   "source": [
    "## Summary\n",
    "For this part, I created a train function, which took in the jokes matrix and created a pairwise matrix of similarity scores based on the similarity function used. From here, I created a test function and used that to capture the estimated rating values for each target user/item combination with k=10 similar jokes. My rating values are very low, and I had trouble figuring out how to exclude the 0 ratings from users into my test model."
   ]
  }
 ],
 "metadata": {
  "kernelspec": {
   "display_name": "Python 3",
   "language": "python",
   "name": "python3"
  },
  "language_info": {
   "codemirror_mode": {
    "name": "ipython",
    "version": 3
   },
   "file_extension": ".py",
   "mimetype": "text/x-python",
   "name": "python",
   "nbconvert_exporter": "python",
   "pygments_lexer": "ipython3",
   "version": "3.8.5"
  }
 },
 "nbformat": 4,
 "nbformat_minor": 4
}

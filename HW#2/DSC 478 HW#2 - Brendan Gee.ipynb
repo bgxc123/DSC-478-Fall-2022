{
 "cells": [
  {
   "cell_type": "markdown",
   "metadata": {},
   "source": [
    "#### a.) \n",
    "Load the data sets, including the train and test matrices as well as the train and test labels. Show the top 20 terms in the decreasing order of total training frequency (total number of occurences of the term across all documents in the training data). Then plot the distribtution of term frequencies in the training data (using a line plot similar to class examples)."
   ]
  },
  {
   "cell_type": "code",
   "execution_count": 11,
   "metadata": {},
   "outputs": [],
   "source": [
    "import pandas as pd\n",
    "import numpy as np\n",
    "import matplotlib.pyplot as plt\n",
    "%matplotlib inline"
   ]
  },
  {
   "cell_type": "code",
   "execution_count": 135,
   "metadata": {},
   "outputs": [
    {
     "data": {
      "text/html": [
       "<div>\n",
       "<style scoped>\n",
       "    .dataframe tbody tr th:only-of-type {\n",
       "        vertical-align: middle;\n",
       "    }\n",
       "\n",
       "    .dataframe tbody tr th {\n",
       "        vertical-align: top;\n",
       "    }\n",
       "\n",
       "    .dataframe thead th {\n",
       "        text-align: right;\n",
       "    }\n",
       "</style>\n",
       "<table border=\"1\" class=\"dataframe\">\n",
       "  <thead>\n",
       "    <tr style=\"text-align: right;\">\n",
       "      <th></th>\n",
       "      <th>0</th>\n",
       "    </tr>\n",
       "  </thead>\n",
       "  <tbody>\n",
       "    <tr>\n",
       "      <th>0</th>\n",
       "      <td>david</td>\n",
       "    </tr>\n",
       "    <tr>\n",
       "      <th>1</th>\n",
       "      <td>rex</td>\n",
       "    </tr>\n",
       "    <tr>\n",
       "      <th>2</th>\n",
       "      <td>wood</td>\n",
       "    </tr>\n",
       "    <tr>\n",
       "      <th>3</th>\n",
       "      <td>subject</td>\n",
       "    </tr>\n",
       "    <tr>\n",
       "      <th>4</th>\n",
       "      <td>call</td>\n",
       "    </tr>\n",
       "  </tbody>\n",
       "</table>\n",
       "</div>"
      ],
      "text/plain": [
       "         0\n",
       "0    david\n",
       "1      rex\n",
       "2     wood\n",
       "3  subject\n",
       "4     call"
      ]
     },
     "execution_count": 135,
     "metadata": {},
     "output_type": "execute_result"
    }
   ],
   "source": [
    "#loading datasets\n",
    "terms = pd.read_csv('modifiedterms.txt', header=None)\n",
    "trainMatrix = pd.read_csv('trainMatrixModified.txt', sep='\\t', header=None)\n",
    "testMatrix = pd.read_csv('testMatrixModified.txt', sep='\\t', header=None)\n",
    "trainClass = pd.read_csv('trainClasses.txt',sep='\\t', header=None, index_col=0)\n",
    "testClass = pd.read_csv('testClasses.txt',sep='\\t', header=None, index_col=0)\n",
    "terms.head()"
   ]
  },
  {
   "cell_type": "code",
   "execution_count": 76,
   "metadata": {},
   "outputs": [],
   "source": [
    "#calculate the term frequencies for train matrix\n",
    "termFreqs = trainMatrix.sum(axis=1)"
   ]
  },
  {
   "cell_type": "code",
   "execution_count": 77,
   "metadata": {},
   "outputs": [
    {
     "data": {
      "text/plain": [
       "3       959.0\n",
       "225     720.0\n",
       "136     680.0\n",
       "1682    578.0\n",
       "115     545.0\n",
       "30      483.0\n",
       "107     470.0\n",
       "84      429.0\n",
       "192     401.0\n",
       "82      378.0\n",
       "690     370.0\n",
       "25      329.0\n",
       "45      326.0\n",
       "36      325.0\n",
       "451     323.0\n",
       "187     319.0\n",
       "9       318.0\n",
       "640     311.0\n",
       "184     302.0\n",
       "106     300.0\n",
       "dtype: float64"
      ]
     },
     "execution_count": 77,
     "metadata": {},
     "output_type": "execute_result"
    }
   ],
   "source": [
    "#sort the highest 20 frequencies\n",
    "sortedTerms = termFreqs.sort_values(ascending=False)\n",
    "sortedTerms[:20]"
   ]
  },
  {
   "cell_type": "code",
   "execution_count": 78,
   "metadata": {},
   "outputs": [
    {
     "data": {
      "text/plain": [
       "Text(0.5, 1.0, 'Frequency of Terms in Descending Order')"
      ]
     },
     "execution_count": 78,
     "metadata": {},
     "output_type": "execute_result"
    },
    {
     "data": {
      "image/png": "[encoded data removed]",
      "text/plain": [
       "<Figure size 432x288 with 1 Axes>"
      ]
     },
     "metadata": {
      "needs_background": "light"
     },
     "output_type": "display_data"
    }
   ],
   "source": [
    "#plot the distribution\n",
    "plt.plot(sorted(termFreqs, reverse=True))\n",
    "plt.title(\"Frequency of Terms in Descending Order\")"
   ]
  },
  {
   "cell_type": "markdown",
   "metadata": {},
   "source": [
    "## Summary\n",
    "As you can see, the distribution of the term frequency from the training matrix follows a Zipf distribution, which is to be expected given that we're dealing with text categorization."
   ]
  },
  {
   "cell_type": "markdown",
   "metadata": {},
   "source": [
    "### b.)\n",
    "Create your own K-Nearest-Neighbor classifier function. Your classifier should allow as input the training data matrix, the training labels, the instance to be classified, the value of K (number of neighbors), and should return the predicted class for the instance and the indices of the top K neighbors. Your classifier should work with Euclidean distance as well as Cosine distance (which is 1 minus the Cosine similarity). You may create two separate classifiers, or add the distance metric as a parameter in the classifier function (an example implementation of a KNN classifier was provided in class examples). Show that your classifier works by running it on the first two instances in the test data using both Cosine and Euclidean distance in each case."
   ]
  },
  {
   "cell_type": "code",
   "execution_count": 79,
   "metadata": {},
   "outputs": [],
   "source": [
    "def knn_search(x, D, K, measure):\n",
    "    \"\"\" find K nearest neighbors of an instance x among the instances in D \"\"\"\n",
    "    if measure == 0:\n",
    "        # euclidean distances from the other points\n",
    "        dists = np.sqrt(((D - x)**2).sum(axis=1))\n",
    "    elif measure == 1:\n",
    "        # first find the vector norm for each instance in D as wel as the norm for vector x\n",
    "        D_norm = np.array([np.linalg.norm(D[i]) for i in range(len(D))])\n",
    "        x_norm = np.linalg.norm(x)\n",
    "        # Compute Cosine: divide the dot product o x and each instance in D by the product of the two norms\n",
    "        sims = np.dot(D,x)/(D_norm * x_norm)\n",
    "        # The distance measure will be the inverse of Cosine similarity\n",
    "        dists = 1 - sims\n",
    "    idx = np.argsort(dists) # sorting\n",
    "    # return the indexes of K nearest neighbors\n",
    "    return idx[:K], dists"
   ]
  },
  {
   "cell_type": "code",
   "execution_count": 80,
   "metadata": {},
   "outputs": [],
   "source": [
    "def knn_classify(x, D, K, labels, measure):\n",
    "    from collections import Counter\n",
    "    neigh_idx, distances = knn_search(x, D, K, measure)\n",
    "    neigh_labels = labels[neigh_idx]\n",
    "    count = Counter(neigh_labels)\n",
    "    print(\"Labels for top \", K, \"neighbors: \", count.most_common())\n",
    "    return count.most_common(1)[0][0]"
   ]
  },
  {
   "cell_type": "code",
   "execution_count": 81,
   "metadata": {},
   "outputs": [],
   "source": [
    "#Transpose training/test matrix\n",
    "trainMatrixT = trainMatrix.T\n",
    "testMatrixT = testMatrix.T"
   ]
  },
  {
   "cell_type": "code",
   "execution_count": 183,
   "metadata": {},
   "outputs": [
    {
     "data": {
      "text/plain": [
       "((5500,), (800, 5500))"
      ]
     },
     "execution_count": 183,
     "metadata": {},
     "output_type": "execute_result"
    }
   ],
   "source": [
    "#convert trainMatrixT to np array for search function, get test instances\n",
    "trainArray = np.array(trainMatrixT)\n",
    "x = np.array(testMatrixT.iloc[1])\n",
    "y = np.array(testMatrixT.iloc[2])\n",
    "x.shape, trainArray.shape"
   ]
  },
  {
   "cell_type": "code",
   "execution_count": 264,
   "metadata": {},
   "outputs": [],
   "source": [
    "#knn search test\n",
    "n, dist = knn_search(y, trainArray, 5, 1)"
   ]
  },
  {
   "cell_type": "code",
   "execution_count": 185,
   "metadata": {},
   "outputs": [
    {
     "data": {
      "text/plain": [
       "453    0.712351\n",
       "688    0.750415\n",
       "519    0.750870\n",
       "177    0.794804\n",
       "486    0.821767\n",
       "         ...   \n",
       "149    0.992854\n",
       "330    0.993175\n",
       "18     0.993264\n",
       "555    0.994516\n",
       "122    0.995560\n",
       "Length: 800, dtype: float64"
      ]
     },
     "execution_count": 185,
     "metadata": {},
     "output_type": "execute_result"
    }
   ],
   "source": [
    "dist = pd.Series(dist)\n",
    "dist.sort_values()"
   ]
  },
  {
   "cell_type": "code",
   "execution_count": 186,
   "metadata": {},
   "outputs": [
    {
     "data": {
      "text/plain": [
       "pandas.core.series.Series"
      ]
     },
     "execution_count": 186,
     "metadata": {},
     "output_type": "execute_result"
    }
   ],
   "source": [
    "trainClass.columns = range(1)\n",
    "type(trainClass[0])"
   ]
  },
  {
   "cell_type": "code",
   "execution_count": 187,
   "metadata": {},
   "outputs": [
    {
     "name": "stdout",
     "output_type": "stream",
     "text": [
      "Labels for top  5 neighbors:  [(0, 3), (1, 2)]\n"
     ]
    },
    {
     "data": {
      "text/plain": [
       "0"
      ]
     },
     "execution_count": 187,
     "metadata": {},
     "output_type": "execute_result"
    }
   ],
   "source": [
    "#knn classifcation test - Euclidean, First Test Instance\n",
    "testX0 = knn_classify(x, trainArray, 5, trainClass[0], 0)\n",
    "testX0"
   ]
  },
  {
   "cell_type": "code",
   "execution_count": 188,
   "metadata": {},
   "outputs": [
    {
     "name": "stdout",
     "output_type": "stream",
     "text": [
      "Labels for top  5 neighbors:  [(0, 5)]\n"
     ]
    },
    {
     "data": {
      "text/plain": [
       "0"
      ]
     },
     "execution_count": 188,
     "metadata": {},
     "output_type": "execute_result"
    }
   ],
   "source": [
    "#knn classifcation test - Cosine Similarity, First Test Instance\n",
    "testX1 = knn_classify(x, trainArray, 5, trainClass[0], 1)\n",
    "testX1"
   ]
  },
  {
   "cell_type": "code",
   "execution_count": 189,
   "metadata": {},
   "outputs": [
    {
     "name": "stdout",
     "output_type": "stream",
     "text": [
      "Labels for top  5 neighbors:  [(0, 3), (1, 2)]\n"
     ]
    },
    {
     "data": {
      "text/plain": [
       "0"
      ]
     },
     "execution_count": 189,
     "metadata": {},
     "output_type": "execute_result"
    }
   ],
   "source": [
    "#knn classifcation test - Euclidean, Second Test Instance\n",
    "testY0 = knn_classify(y, trainArray, 5, trainClass[0], 0)\n",
    "testY0"
   ]
  },
  {
   "cell_type": "code",
   "execution_count": 190,
   "metadata": {},
   "outputs": [
    {
     "name": "stdout",
     "output_type": "stream",
     "text": [
      "Labels for top  5 neighbors:  [(0, 5)]\n"
     ]
    },
    {
     "data": {
      "text/plain": [
       "0"
      ]
     },
     "execution_count": 190,
     "metadata": {},
     "output_type": "execute_result"
    }
   ],
   "source": [
    "#knn classifcation test - Cosine Similarity, Second Test Instance\n",
    "testY0 = knn_classify(y, trainArray, 5, trainClass[0], 1)\n",
    "testY0"
   ]
  },
  {
   "cell_type": "markdown",
   "metadata": {},
   "source": [
    "## Summary\n",
    "As you can see, we were able to classfiy the first two instances of the test matrix utilizing cosine similarity/distances and euclidean distance formulas. For the first instance using Euclidean, we had 3 neighbors with a class label 0, or Microsoft Windows, and 2 labels with a class label 1, or Hockey. Therefore, our classfier put the new test instance in the class label 0, since 3 neighbors wins by majority. In the Cosine example, all 5 neighbors are classified with a class label of 0. For our second instance, we can use similar reasoning and deduction as our first instance."
   ]
  },
  {
   "cell_type": "markdown",
   "metadata": {},
   "source": [
    "### c.)\n",
    "Create an evaluation function to measure the accuracy of your classifier. This function will call the classifier function in part a on all the test instances and in each case compares the actual test class label to the predicted class label. It should take as input the training data, the training labels, the test instances, the labels for test instances, and the value of K. Your evaluation function should return the Classification Accuracy (ratio of correct predictions to the number of test instances)"
   ]
  },
  {
   "cell_type": "code",
   "execution_count": 194,
   "metadata": {},
   "outputs": [],
   "source": [
    "#new evaluate function\n",
    "def knn_classify(x, D, K, labels, measure):\n",
    "    from collections import Counter\n",
    "    neigh_idx, distances = knn_search(x, D, K, measure)\n",
    "    neigh_labels = labels[neigh_idx]\n",
    "    count = Counter(neigh_labels)\n",
    "    # print(\"Labels for top \", K, \"neighbors: \", count.most_common())\n",
    "    predicted_label = count.most_common(1)[0][0]\n",
    "    return neigh_idx, predicted_label"
   ]
  },
  {
   "cell_type": "code",
   "execution_count": 195,
   "metadata": {},
   "outputs": [],
   "source": [
    "def knn_evaluate(test, test_labs, train, train_labs, K, measure):\n",
    "    T = 0\n",
    "    F = 0\n",
    "    for i in range(len(test)):\n",
    "        actual = test_labs[i]\n",
    "        top_K_neighbors, predicted = knn_classify(test[i], train, K, train_labs, measure)\n",
    "        if actual == predicted:\n",
    "            T += 1\n",
    "        else:\n",
    "            F += 1\n",
    "    accuracy = float(T) / float(T + F)\n",
    "    return accuracy"
   ]
  },
  {
   "cell_type": "code",
   "execution_count": 198,
   "metadata": {},
   "outputs": [
    {
     "data": {
      "text/plain": [
       "array([[0., 0., 0., ..., 0., 0., 0.],\n",
       "       [0., 0., 0., ..., 0., 0., 0.],\n",
       "       [1., 0., 0., ..., 0., 0., 0.],\n",
       "       ...,\n",
       "       [0., 0., 0., ..., 0., 0., 0.],\n",
       "       [0., 0., 0., ..., 0., 0., 0.],\n",
       "       [0., 0., 0., ..., 0., 0., 0.]])"
      ]
     },
     "execution_count": 198,
     "metadata": {},
     "output_type": "execute_result"
    }
   ],
   "source": [
    "testArray = np.array(testMatrixT)\n",
    "testArray"
   ]
  },
  {
   "cell_type": "code",
   "execution_count": 199,
   "metadata": {},
   "outputs": [
    {
     "data": {
      "text/plain": [
       "pandas.core.series.Series"
      ]
     },
     "execution_count": 199,
     "metadata": {},
     "output_type": "execute_result"
    }
   ],
   "source": [
    "testClass.columns = range(1)\n",
    "type(testClass[0])"
   ]
  },
  {
   "cell_type": "code",
   "execution_count": 204,
   "metadata": {},
   "outputs": [],
   "source": [
    "accruacy_euclid = knn_evaluate(testArray, testClass[0] , trainArray, trainClass[0], 5, 0)"
   ]
  },
  {
   "cell_type": "code",
   "execution_count": 205,
   "metadata": {},
   "outputs": [
    {
     "data": {
      "text/plain": [
       "0.815"
      ]
     },
     "execution_count": 205,
     "metadata": {},
     "output_type": "execute_result"
    }
   ],
   "source": [
    "accruacy_euclid"
   ]
  },
  {
   "cell_type": "code",
   "execution_count": 208,
   "metadata": {},
   "outputs": [],
   "source": [
    "accruacy_cosine = knn_evaluate(testArray, testClass[0] , trainArray, trainClass[0], 5, 1)"
   ]
  },
  {
   "cell_type": "code",
   "execution_count": 209,
   "metadata": {},
   "outputs": [
    {
     "data": {
      "text/plain": [
       "0.97"
      ]
     },
     "execution_count": 209,
     "metadata": {},
     "output_type": "execute_result"
    }
   ],
   "source": [
    "accruacy_cosine"
   ]
  },
  {
   "cell_type": "markdown",
   "metadata": {},
   "source": [
    "## Summary\n",
    "For this part, we are taking each instance in the test dataset, performing our KNN prediction with 5 neighbors on the given distance metric, and recording if our prediction is correct. After collecting all the correct/incorrect predictions, we are able to calculate an accruacy metric, which is what is being returned. As you can see, the cosine accruacy is significantly higher than the euclidean accruacy, and this makes sense since we are dealing with a lot of sparse data. The cosine similarity function is able to deal with this sparse data a lot better than the eucldiean distance function."
   ]
  },
  {
   "cell_type": "markdown",
   "metadata": {},
   "source": [
    "### d.)\n",
    "Run your evaluation function on a range of values for K from 5 to 100 (in increments of 5) in order to compare accuracy values for different numbers of neighbors. Do this both using Euclidean Distance as well as Cosine similarity measure. Present the results as graphs with K in the x-axis and the evaluation metric (accuracy) on the y-axis. Use a single plot to compare the two version of the classifier (Euclidean distance version vs. cosine similarity version)."
   ]
  },
  {
   "cell_type": "code",
   "execution_count": 211,
   "metadata": {},
   "outputs": [
    {
     "data": {
      "text/plain": [
       "[0.815,\n",
       " 0.85,\n",
       " 0.785,\n",
       " 0.765,\n",
       " 0.73,\n",
       " 0.725,\n",
       " 0.69,\n",
       " 0.7,\n",
       " 0.655,\n",
       " 0.67,\n",
       " 0.655,\n",
       " 0.66,\n",
       " 0.625,\n",
       " 0.625,\n",
       " 0.63,\n",
       " 0.615,\n",
       " 0.615,\n",
       " 0.61,\n",
       " 0.605,\n",
       " 0.605]"
      ]
     },
     "execution_count": 211,
     "metadata": {},
     "output_type": "execute_result"
    }
   ],
   "source": [
    "#Euclidean Distance\n",
    "res = []\n",
    "for i in range(5,101,5):\n",
    "    res.append(knn_evaluate(testArray, testClass[0] , trainArray, trainClass[0], i, 0))\n",
    "res"
   ]
  },
  {
   "cell_type": "code",
   "execution_count": 213,
   "metadata": {},
   "outputs": [
    {
     "data": {
      "text/plain": [
       "<matplotlib.legend.Legend at 0x7fa4a1de74f0>"
      ]
     },
     "execution_count": 213,
     "metadata": {},
     "output_type": "execute_result"
    },
    {
     "data": {
      "image/png": "[encoded data removed]",
      "text/plain": [
       "<Figure size 720x360 with 1 Axes>"
      ]
     },
     "metadata": {
      "needs_background": "light"
     },
     "output_type": "display_data"
    }
   ],
   "source": [
    "K = list(range(5,101,5))\n",
    "plt.figure(figsize=(10,5))\n",
    "plt.plot(K, res, label = 'Euclidean Distance')\n",
    "plt.xlabel('K')\n",
    "plt.ylabel('Accuracy')\n",
    "plt.title('Euclidean Knn classfier Accuracy')\n",
    "plt.xticks(K)\n",
    "plt.legend(loc='center left',bbox_to_anchor=(1,.5))"
   ]
  },
  {
   "cell_type": "code",
   "execution_count": 214,
   "metadata": {},
   "outputs": [
    {
     "data": {
      "text/plain": [
       "[0.97,\n",
       " 0.985,\n",
       " 0.985,\n",
       " 0.975,\n",
       " 0.97,\n",
       " 0.98,\n",
       " 0.98,\n",
       " 0.98,\n",
       " 0.975,\n",
       " 0.98,\n",
       " 0.975,\n",
       " 0.98,\n",
       " 0.975,\n",
       " 0.975,\n",
       " 0.975,\n",
       " 0.975,\n",
       " 0.975,\n",
       " 0.975,\n",
       " 0.975,\n",
       " 0.975]"
      ]
     },
     "execution_count": 214,
     "metadata": {},
     "output_type": "execute_result"
    }
   ],
   "source": [
    "#Cosine Similarity\n",
    "res2 = []\n",
    "for i in range(5,101,5):\n",
    "    res2.append(knn_evaluate(testArray, testClass[0] , trainArray, trainClass[0], i, 1))\n",
    "res2"
   ]
  },
  {
   "cell_type": "code",
   "execution_count": 216,
   "metadata": {},
   "outputs": [
    {
     "data": {
      "text/plain": [
       "<matplotlib.legend.Legend at 0x7fa4a2cb4400>"
      ]
     },
     "execution_count": 216,
     "metadata": {},
     "output_type": "execute_result"
    },
    {
     "data": {
      "image/png": "[encoded data removed]",
      "text/plain": [
       "<Figure size 720x360 with 1 Axes>"
      ]
     },
     "metadata": {
      "needs_background": "light"
     },
     "output_type": "display_data"
    }
   ],
   "source": [
    "K = list(range(5,101,5))\n",
    "plt.figure(figsize=(10,5))\n",
    "plt.plot(K, res2, label = 'Cosine Distance')\n",
    "plt.xlabel('K')\n",
    "plt.ylabel('Accuracy')\n",
    "plt.title('Cosine Knn classfier Accuracy')\n",
    "plt.xticks(K)\n",
    "plt.legend(loc='center left',bbox_to_anchor=(1,.5))"
   ]
  },
  {
   "cell_type": "markdown",
   "metadata": {},
   "source": [
    "## Summary\n",
    "Using a range of different neighbor values from 5 to 100 in increments of 5, we get 20 accruacy statistics when utilizing our knn_evaluate function. Looking at the Euclidean distance, we can evidently see that the K value matters, and should be picked somewhere between 5 - 10 nearest neighbors. For our Cosine distance however, the value for K doesn't have too much of an impact on the accruacy, but we get the best accruacy with values between 5 - 15."
   ]
  },
  {
   "cell_type": "markdown",
   "metadata": {},
   "source": [
    "### e.)\n",
    "Next, modify the training and test data sets so that term weights are converted to TFxIDF weights (instead of raw term frequencies). [See class notes on Text Categorization]. Then, rerun your evaluation (only for the Cosine similarity version of the classifier) on the range of K values (as above) and create a chart comparing the results with and without using TFxIDF weights."
   ]
  },
  {
   "cell_type": "code",
   "execution_count": 217,
   "metadata": {},
   "outputs": [
    {
     "data": {
      "text/html": [
       "<div>\n",
       "<style scoped>\n",
       "    .dataframe tbody tr th:only-of-type {\n",
       "        vertical-align: middle;\n",
       "    }\n",
       "\n",
       "    .dataframe tbody tr th {\n",
       "        vertical-align: top;\n",
       "    }\n",
       "\n",
       "    .dataframe thead th {\n",
       "        text-align: right;\n",
       "    }\n",
       "</style>\n",
       "<table border=\"1\" class=\"dataframe\">\n",
       "  <thead>\n",
       "    <tr style=\"text-align: right;\">\n",
       "      <th></th>\n",
       "      <th>0</th>\n",
       "    </tr>\n",
       "  </thead>\n",
       "  <tbody>\n",
       "    <tr>\n",
       "      <th>0</th>\n",
       "      <td>50</td>\n",
       "    </tr>\n",
       "    <tr>\n",
       "      <th>1</th>\n",
       "      <td>7</td>\n",
       "    </tr>\n",
       "    <tr>\n",
       "      <th>2</th>\n",
       "      <td>10</td>\n",
       "    </tr>\n",
       "    <tr>\n",
       "      <th>3</th>\n",
       "      <td>800</td>\n",
       "    </tr>\n",
       "    <tr>\n",
       "      <th>4</th>\n",
       "      <td>108</td>\n",
       "    </tr>\n",
       "    <tr>\n",
       "      <th>...</th>\n",
       "      <td>...</td>\n",
       "    </tr>\n",
       "    <tr>\n",
       "      <th>5495</th>\n",
       "      <td>3</td>\n",
       "    </tr>\n",
       "    <tr>\n",
       "      <th>5496</th>\n",
       "      <td>3</td>\n",
       "    </tr>\n",
       "    <tr>\n",
       "      <th>5497</th>\n",
       "      <td>2</td>\n",
       "    </tr>\n",
       "    <tr>\n",
       "      <th>5498</th>\n",
       "      <td>2</td>\n",
       "    </tr>\n",
       "    <tr>\n",
       "      <th>5499</th>\n",
       "      <td>2</td>\n",
       "    </tr>\n",
       "  </tbody>\n",
       "</table>\n",
       "<p>5500 rows × 1 columns</p>\n",
       "</div>"
      ],
      "text/plain": [
       "        0\n",
       "0      50\n",
       "1       7\n",
       "2      10\n",
       "3     800\n",
       "4     108\n",
       "...   ...\n",
       "5495    3\n",
       "5496    3\n",
       "5497    2\n",
       "5498    2\n",
       "5499    2\n",
       "\n",
       "[5500 rows x 1 columns]"
      ]
     },
     "execution_count": 217,
     "metadata": {},
     "output_type": "execute_result"
    }
   ],
   "source": [
    "#calculate doc frequencies for each term\n",
    "DF = pd.DataFrame([(trainMatrix!=0).sum(1)]).T\n",
    "DF"
   ]
  },
  {
   "cell_type": "code",
   "execution_count": 219,
   "metadata": {},
   "outputs": [
    {
     "name": "stdout",
     "output_type": "stream",
     "text": [
      "[[800. 800. 800. ... 800. 800. 800.]\n",
      " [800. 800. 800. ... 800. 800. 800.]\n",
      " [800. 800. 800. ... 800. 800. 800.]\n",
      " ...\n",
      " [800. 800. 800. ... 800. 800. 800.]\n",
      " [800. 800. 800. ... 800. 800. 800.]\n",
      " [800. 800. 800. ... 800. 800. 800.]]\n"
     ]
    }
   ],
   "source": [
    "#create 800 doc matrix\n",
    "NMatrix=np.ones(np.shape(trainMatrix),dtype=float)*800\n",
    "print(NMatrix)"
   ]
  },
  {
   "cell_type": "code",
   "execution_count": 220,
   "metadata": {},
   "outputs": [
    {
     "data": {
      "text/plain": [
       "array([[4.  , 4.  , 4.  , ..., 4.  , 4.  , 4.  ],\n",
       "       [6.84, 6.84, 6.84, ..., 6.84, 6.84, 6.84],\n",
       "       [6.32, 6.32, 6.32, ..., 6.32, 6.32, 6.32],\n",
       "       ...,\n",
       "       [8.64, 8.64, 8.64, ..., 8.64, 8.64, 8.64],\n",
       "       [8.64, 8.64, 8.64, ..., 8.64, 8.64, 8.64],\n",
       "       [8.64, 8.64, 8.64, ..., 8.64, 8.64, 8.64]])"
      ]
     },
     "execution_count": 220,
     "metadata": {},
     "output_type": "execute_result"
    }
   ],
   "source": [
    "#calc the inverse doc frequency\n",
    "IDF = np.log2(np.divide(NMatrix, np.array(DF)))\n",
    "IDF"
   ]
  },
  {
   "cell_type": "code",
   "execution_count": 222,
   "metadata": {},
   "outputs": [
    {
     "data": {
      "text/html": [
       "<div>\n",
       "<style scoped>\n",
       "    .dataframe tbody tr th:only-of-type {\n",
       "        vertical-align: middle;\n",
       "    }\n",
       "\n",
       "    .dataframe tbody tr th {\n",
       "        vertical-align: top;\n",
       "    }\n",
       "\n",
       "    .dataframe thead th {\n",
       "        text-align: right;\n",
       "    }\n",
       "</style>\n",
       "<table border=\"1\" class=\"dataframe\">\n",
       "  <thead>\n",
       "    <tr style=\"text-align: right;\">\n",
       "      <th></th>\n",
       "      <th>0</th>\n",
       "      <th>1</th>\n",
       "      <th>2</th>\n",
       "      <th>3</th>\n",
       "      <th>4</th>\n",
       "      <th>5</th>\n",
       "      <th>6</th>\n",
       "      <th>7</th>\n",
       "      <th>8</th>\n",
       "      <th>9</th>\n",
       "      <th>...</th>\n",
       "      <th>790</th>\n",
       "      <th>791</th>\n",
       "      <th>792</th>\n",
       "      <th>793</th>\n",
       "      <th>794</th>\n",
       "      <th>795</th>\n",
       "      <th>796</th>\n",
       "      <th>797</th>\n",
       "      <th>798</th>\n",
       "      <th>799</th>\n",
       "    </tr>\n",
       "  </thead>\n",
       "  <tbody>\n",
       "    <tr>\n",
       "      <th>0</th>\n",
       "      <td>8.000000</td>\n",
       "      <td>0.000000</td>\n",
       "      <td>0.0</td>\n",
       "      <td>8.0</td>\n",
       "      <td>8.0</td>\n",
       "      <td>0.0</td>\n",
       "      <td>0.0</td>\n",
       "      <td>0.0</td>\n",
       "      <td>0.0</td>\n",
       "      <td>0.0</td>\n",
       "      <td>...</td>\n",
       "      <td>0.0</td>\n",
       "      <td>0.0</td>\n",
       "      <td>0.000000</td>\n",
       "      <td>0.0</td>\n",
       "      <td>0.0</td>\n",
       "      <td>0.0</td>\n",
       "      <td>0.0</td>\n",
       "      <td>0.0</td>\n",
       "      <td>0.0</td>\n",
       "      <td>0.000000</td>\n",
       "    </tr>\n",
       "    <tr>\n",
       "      <th>1</th>\n",
       "      <td>13.673003</td>\n",
       "      <td>0.000000</td>\n",
       "      <td>0.0</td>\n",
       "      <td>0.0</td>\n",
       "      <td>0.0</td>\n",
       "      <td>0.0</td>\n",
       "      <td>0.0</td>\n",
       "      <td>0.0</td>\n",
       "      <td>0.0</td>\n",
       "      <td>0.0</td>\n",
       "      <td>...</td>\n",
       "      <td>0.0</td>\n",
       "      <td>0.0</td>\n",
       "      <td>20.509504</td>\n",
       "      <td>0.0</td>\n",
       "      <td>0.0</td>\n",
       "      <td>0.0</td>\n",
       "      <td>0.0</td>\n",
       "      <td>0.0</td>\n",
       "      <td>0.0</td>\n",
       "      <td>0.000000</td>\n",
       "    </tr>\n",
       "    <tr>\n",
       "      <th>2</th>\n",
       "      <td>12.643856</td>\n",
       "      <td>0.000000</td>\n",
       "      <td>0.0</td>\n",
       "      <td>0.0</td>\n",
       "      <td>0.0</td>\n",
       "      <td>0.0</td>\n",
       "      <td>0.0</td>\n",
       "      <td>0.0</td>\n",
       "      <td>0.0</td>\n",
       "      <td>0.0</td>\n",
       "      <td>...</td>\n",
       "      <td>0.0</td>\n",
       "      <td>0.0</td>\n",
       "      <td>0.000000</td>\n",
       "      <td>0.0</td>\n",
       "      <td>0.0</td>\n",
       "      <td>0.0</td>\n",
       "      <td>0.0</td>\n",
       "      <td>0.0</td>\n",
       "      <td>0.0</td>\n",
       "      <td>0.000000</td>\n",
       "    </tr>\n",
       "    <tr>\n",
       "      <th>3</th>\n",
       "      <td>0.000000</td>\n",
       "      <td>0.000000</td>\n",
       "      <td>0.0</td>\n",
       "      <td>0.0</td>\n",
       "      <td>0.0</td>\n",
       "      <td>0.0</td>\n",
       "      <td>0.0</td>\n",
       "      <td>0.0</td>\n",
       "      <td>0.0</td>\n",
       "      <td>0.0</td>\n",
       "      <td>...</td>\n",
       "      <td>0.0</td>\n",
       "      <td>0.0</td>\n",
       "      <td>0.000000</td>\n",
       "      <td>0.0</td>\n",
       "      <td>0.0</td>\n",
       "      <td>0.0</td>\n",
       "      <td>0.0</td>\n",
       "      <td>0.0</td>\n",
       "      <td>0.0</td>\n",
       "      <td>0.000000</td>\n",
       "    </tr>\n",
       "    <tr>\n",
       "      <th>4</th>\n",
       "      <td>23.111750</td>\n",
       "      <td>2.888969</td>\n",
       "      <td>0.0</td>\n",
       "      <td>0.0</td>\n",
       "      <td>0.0</td>\n",
       "      <td>0.0</td>\n",
       "      <td>0.0</td>\n",
       "      <td>0.0</td>\n",
       "      <td>0.0</td>\n",
       "      <td>0.0</td>\n",
       "      <td>...</td>\n",
       "      <td>0.0</td>\n",
       "      <td>0.0</td>\n",
       "      <td>5.777937</td>\n",
       "      <td>0.0</td>\n",
       "      <td>0.0</td>\n",
       "      <td>0.0</td>\n",
       "      <td>0.0</td>\n",
       "      <td>0.0</td>\n",
       "      <td>0.0</td>\n",
       "      <td>2.888969</td>\n",
       "    </tr>\n",
       "    <tr>\n",
       "      <th>...</th>\n",
       "      <td>...</td>\n",
       "      <td>...</td>\n",
       "      <td>...</td>\n",
       "      <td>...</td>\n",
       "      <td>...</td>\n",
       "      <td>...</td>\n",
       "      <td>...</td>\n",
       "      <td>...</td>\n",
       "      <td>...</td>\n",
       "      <td>...</td>\n",
       "      <td>...</td>\n",
       "      <td>...</td>\n",
       "      <td>...</td>\n",
       "      <td>...</td>\n",
       "      <td>...</td>\n",
       "      <td>...</td>\n",
       "      <td>...</td>\n",
       "      <td>...</td>\n",
       "      <td>...</td>\n",
       "      <td>...</td>\n",
       "      <td>...</td>\n",
       "    </tr>\n",
       "    <tr>\n",
       "      <th>5495</th>\n",
       "      <td>0.000000</td>\n",
       "      <td>0.000000</td>\n",
       "      <td>0.0</td>\n",
       "      <td>0.0</td>\n",
       "      <td>0.0</td>\n",
       "      <td>0.0</td>\n",
       "      <td>0.0</td>\n",
       "      <td>0.0</td>\n",
       "      <td>0.0</td>\n",
       "      <td>0.0</td>\n",
       "      <td>...</td>\n",
       "      <td>0.0</td>\n",
       "      <td>0.0</td>\n",
       "      <td>0.000000</td>\n",
       "      <td>0.0</td>\n",
       "      <td>0.0</td>\n",
       "      <td>0.0</td>\n",
       "      <td>0.0</td>\n",
       "      <td>0.0</td>\n",
       "      <td>0.0</td>\n",
       "      <td>0.000000</td>\n",
       "    </tr>\n",
       "    <tr>\n",
       "      <th>5496</th>\n",
       "      <td>0.000000</td>\n",
       "      <td>0.000000</td>\n",
       "      <td>0.0</td>\n",
       "      <td>0.0</td>\n",
       "      <td>0.0</td>\n",
       "      <td>0.0</td>\n",
       "      <td>0.0</td>\n",
       "      <td>0.0</td>\n",
       "      <td>0.0</td>\n",
       "      <td>0.0</td>\n",
       "      <td>...</td>\n",
       "      <td>0.0</td>\n",
       "      <td>0.0</td>\n",
       "      <td>0.000000</td>\n",
       "      <td>0.0</td>\n",
       "      <td>0.0</td>\n",
       "      <td>0.0</td>\n",
       "      <td>0.0</td>\n",
       "      <td>0.0</td>\n",
       "      <td>0.0</td>\n",
       "      <td>0.000000</td>\n",
       "    </tr>\n",
       "    <tr>\n",
       "      <th>5497</th>\n",
       "      <td>0.000000</td>\n",
       "      <td>0.000000</td>\n",
       "      <td>0.0</td>\n",
       "      <td>0.0</td>\n",
       "      <td>0.0</td>\n",
       "      <td>0.0</td>\n",
       "      <td>0.0</td>\n",
       "      <td>0.0</td>\n",
       "      <td>0.0</td>\n",
       "      <td>0.0</td>\n",
       "      <td>...</td>\n",
       "      <td>0.0</td>\n",
       "      <td>0.0</td>\n",
       "      <td>0.000000</td>\n",
       "      <td>0.0</td>\n",
       "      <td>0.0</td>\n",
       "      <td>0.0</td>\n",
       "      <td>0.0</td>\n",
       "      <td>0.0</td>\n",
       "      <td>0.0</td>\n",
       "      <td>0.000000</td>\n",
       "    </tr>\n",
       "    <tr>\n",
       "      <th>5498</th>\n",
       "      <td>0.000000</td>\n",
       "      <td>0.000000</td>\n",
       "      <td>0.0</td>\n",
       "      <td>0.0</td>\n",
       "      <td>0.0</td>\n",
       "      <td>0.0</td>\n",
       "      <td>0.0</td>\n",
       "      <td>0.0</td>\n",
       "      <td>0.0</td>\n",
       "      <td>0.0</td>\n",
       "      <td>...</td>\n",
       "      <td>0.0</td>\n",
       "      <td>0.0</td>\n",
       "      <td>0.000000</td>\n",
       "      <td>0.0</td>\n",
       "      <td>0.0</td>\n",
       "      <td>0.0</td>\n",
       "      <td>0.0</td>\n",
       "      <td>0.0</td>\n",
       "      <td>0.0</td>\n",
       "      <td>0.000000</td>\n",
       "    </tr>\n",
       "    <tr>\n",
       "      <th>5499</th>\n",
       "      <td>0.000000</td>\n",
       "      <td>0.000000</td>\n",
       "      <td>0.0</td>\n",
       "      <td>0.0</td>\n",
       "      <td>0.0</td>\n",
       "      <td>0.0</td>\n",
       "      <td>0.0</td>\n",
       "      <td>0.0</td>\n",
       "      <td>0.0</td>\n",
       "      <td>0.0</td>\n",
       "      <td>...</td>\n",
       "      <td>0.0</td>\n",
       "      <td>0.0</td>\n",
       "      <td>0.000000</td>\n",
       "      <td>0.0</td>\n",
       "      <td>0.0</td>\n",
       "      <td>0.0</td>\n",
       "      <td>0.0</td>\n",
       "      <td>0.0</td>\n",
       "      <td>0.0</td>\n",
       "      <td>0.000000</td>\n",
       "    </tr>\n",
       "  </tbody>\n",
       "</table>\n",
       "<p>5500 rows × 800 columns</p>\n",
       "</div>"
      ],
      "text/plain": [
       "            0         1    2    3    4    5    6    7    8    9    ...  790  \\\n",
       "0      8.000000  0.000000  0.0  8.0  8.0  0.0  0.0  0.0  0.0  0.0  ...  0.0   \n",
       "1     13.673003  0.000000  0.0  0.0  0.0  0.0  0.0  0.0  0.0  0.0  ...  0.0   \n",
       "2     12.643856  0.000000  0.0  0.0  0.0  0.0  0.0  0.0  0.0  0.0  ...  0.0   \n",
       "3      0.000000  0.000000  0.0  0.0  0.0  0.0  0.0  0.0  0.0  0.0  ...  0.0   \n",
       "4     23.111750  2.888969  0.0  0.0  0.0  0.0  0.0  0.0  0.0  0.0  ...  0.0   \n",
       "...         ...       ...  ...  ...  ...  ...  ...  ...  ...  ...  ...  ...   \n",
       "5495   0.000000  0.000000  0.0  0.0  0.0  0.0  0.0  0.0  0.0  0.0  ...  0.0   \n",
       "5496   0.000000  0.000000  0.0  0.0  0.0  0.0  0.0  0.0  0.0  0.0  ...  0.0   \n",
       "5497   0.000000  0.000000  0.0  0.0  0.0  0.0  0.0  0.0  0.0  0.0  ...  0.0   \n",
       "5498   0.000000  0.000000  0.0  0.0  0.0  0.0  0.0  0.0  0.0  0.0  ...  0.0   \n",
       "5499   0.000000  0.000000  0.0  0.0  0.0  0.0  0.0  0.0  0.0  0.0  ...  0.0   \n",
       "\n",
       "      791        792  793  794  795  796  797  798       799  \n",
       "0     0.0   0.000000  0.0  0.0  0.0  0.0  0.0  0.0  0.000000  \n",
       "1     0.0  20.509504  0.0  0.0  0.0  0.0  0.0  0.0  0.000000  \n",
       "2     0.0   0.000000  0.0  0.0  0.0  0.0  0.0  0.0  0.000000  \n",
       "3     0.0   0.000000  0.0  0.0  0.0  0.0  0.0  0.0  0.000000  \n",
       "4     0.0   5.777937  0.0  0.0  0.0  0.0  0.0  0.0  2.888969  \n",
       "...   ...        ...  ...  ...  ...  ...  ...  ...       ...  \n",
       "5495  0.0   0.000000  0.0  0.0  0.0  0.0  0.0  0.0  0.000000  \n",
       "5496  0.0   0.000000  0.0  0.0  0.0  0.0  0.0  0.0  0.000000  \n",
       "5497  0.0   0.000000  0.0  0.0  0.0  0.0  0.0  0.0  0.000000  \n",
       "5498  0.0   0.000000  0.0  0.0  0.0  0.0  0.0  0.0  0.000000  \n",
       "5499  0.0   0.000000  0.0  0.0  0.0  0.0  0.0  0.0  0.000000  \n",
       "\n",
       "[5500 rows x 800 columns]"
      ]
     },
     "execution_count": 222,
     "metadata": {},
     "output_type": "execute_result"
    }
   ],
   "source": [
    "#use IDF weights to create the tfidf matrix\n",
    "TD_tfidf = trainMatrix * IDF\n",
    "TD_tfidf"
   ]
  },
  {
   "cell_type": "code",
   "execution_count": 223,
   "metadata": {},
   "outputs": [],
   "source": [
    "#transpose, create np array\n",
    "DT_tfidf = TD_tfidf.T\n",
    "DT_tfidfArray = np.array(DT_tfidf)"
   ]
  },
  {
   "cell_type": "code",
   "execution_count": 224,
   "metadata": {},
   "outputs": [
    {
     "data": {
      "text/plain": [
       "[0.97,\n",
       " 0.995,\n",
       " 0.995,\n",
       " 0.995,\n",
       " 0.99,\n",
       " 0.99,\n",
       " 0.98,\n",
       " 0.99,\n",
       " 0.98,\n",
       " 0.985,\n",
       " 0.985,\n",
       " 0.99,\n",
       " 0.98,\n",
       " 0.985,\n",
       " 0.98,\n",
       " 0.985,\n",
       " 0.985,\n",
       " 0.98,\n",
       " 0.98,\n",
       " 0.99]"
      ]
     },
     "execution_count": 224,
     "metadata": {},
     "output_type": "execute_result"
    }
   ],
   "source": [
    "#calculate tfidf accruacy for cosine distance\n",
    "res3 = []\n",
    "for i in range(5,101,5):\n",
    "    res3.append(knn_evaluate(testArray, testClass[0] , DT_tfidfArray, trainClass[0], i, 1))\n",
    "res3"
   ]
  },
  {
   "cell_type": "code",
   "execution_count": 225,
   "metadata": {},
   "outputs": [
    {
     "data": {
      "text/plain": [
       "<matplotlib.legend.Legend at 0x7fa4a30d3a90>"
      ]
     },
     "execution_count": 225,
     "metadata": {},
     "output_type": "execute_result"
    },
    {
     "data": {
      "image/png": "[encoded data removed]",
      "text/plain": [
       "<Figure size 720x360 with 1 Axes>"
      ]
     },
     "metadata": {
      "needs_background": "light"
     },
     "output_type": "display_data"
    }
   ],
   "source": [
    "K = list(range(5,101,5))\n",
    "plt.figure(figsize=(10,5))\n",
    "plt.plot(K, res2, label = 'Normal')\n",
    "plt.plot(K, res3, label = 'TFIDF')\n",
    "plt.xlabel('K')\n",
    "plt.ylabel('Accuracy')\n",
    "plt.title('Cosine Knn: TFIDF vs Normal')\n",
    "plt.xticks(K)\n",
    "plt.legend(loc='center left',bbox_to_anchor=(1,.5))"
   ]
  },
  {
   "cell_type": "markdown",
   "metadata": {},
   "source": [
    "## Summary\n",
    "For this part, we calculated the IDF weights and applied them to our original training data matrix. We then transposed this, and performed our evaluate classifer function and compared it to our original cosine distance accruacy values. From the above graph, we can see that the accruacy of the TFIDF values is generally higher for all instances of k neighbors. This makes sense, since the IDF weights are supposed to normalize the matrix, and put less weight on terms that appear in the majority of the documents, while placing more weight on terms that are signficant in a smaller amount of the documents."
   ]
  },
  {
   "cell_type": "markdown",
   "metadata": {},
   "source": [
    "### f.)\n",
    "Create a new classifier based on the Rocchio Method (also know as the \"nearest centroid\" method) adapted for text categorization [See class notes on Text Categorization]. You should separate the training function from the classification function. The training part for the classifier can be implemented as a function that takes as input the training data matrix and the training labels, returning the prototype vectors for each class. The classification part can be implemented as another function that would take as input the prototypes returned from the training function and the instance to be classified. This function should measure Cosine similarity of the test instance to each prototype vector. Your output should indicate the predicted class for the test instance and the similarity values of the instance to each of the category prototypes.  Finally, use your evaluation function to compare your results to the best KNN results you obtained in part d. [Note: your functions should work regardless of the number of categories (class labels) and should not be limited to two-class categorization scenario. The number of classes should not be hardcoded in your implementation.]"
   ]
  },
  {
   "cell_type": "code",
   "execution_count": 262,
   "metadata": {},
   "outputs": [],
   "source": [
    "def rocchioTrain(trainMat, trainLab):\n",
    "    '''takes in training matrix and labels and returns prototype vector for each class in a dict'''\n",
    "    d = {}\n",
    "    for i in range(len(trainLab)):\n",
    "        if trainLab[i] not in d.keys():\n",
    "            d[trainLab[i]] = trainMat[i]\n",
    "        else:\n",
    "            d[trainLab[i]] += trainMat[i]\n",
    "    return d"
   ]
  },
  {
   "cell_type": "code",
   "execution_count": 263,
   "metadata": {
    "scrolled": true
   },
   "outputs": [
    {
     "data": {
      "text/plain": [
       "{0: array([228.  ,  27.35,  31.61, ...,   8.64,  17.29,  17.29]),\n",
       " 1: array([578.  , 445.86, 505.47, ..., 406.64, 398.  , 398.  ])}"
      ]
     },
     "execution_count": 263,
     "metadata": {},
     "output_type": "execute_result"
    }
   ],
   "source": [
    "d = rocchioTrain(DT_tfidfArray, trainClass[0])\n",
    "d"
   ]
  },
  {
   "cell_type": "code",
   "execution_count": 288,
   "metadata": {},
   "outputs": [],
   "source": [
    "def rocchioClassify(x, trainMat, trainLab):\n",
    "    '''utilizes above function, uses cosine similarity and returns the classifcation and similarity values'''\n",
    "    \n",
    "    d = rocchioTrain(trainMat, trainLab)\n",
    "    sims = []\n",
    "    cls = 0\n",
    "    D_norm = np.array([np.linalg.norm(d[i]) for i in range(len(d))])\n",
    "    x_norm = np.linalg.norm(x)\n",
    "    #For each prototype, compute and record a similarity score\n",
    "    for i in range(len(d)):\n",
    "        sims.append([np.dot(d[i],x)/(D_norm[i] * x_norm)])\n",
    "    #Find the index/class with the highest similarity score\n",
    "    for i in range(len(sims)):\n",
    "        if sims[cls] < sims[i]:\n",
    "            cls = i\n",
    "    return sims, cls"
   ]
  },
  {
   "cell_type": "code",
   "execution_count": 289,
   "metadata": {},
   "outputs": [
    {
     "data": {
      "text/plain": [
       "([[0.24380936475081125], [0.08172396766551054]], 0)"
      ]
     },
     "execution_count": 289,
     "metadata": {},
     "output_type": "execute_result"
    }
   ],
   "source": [
    "rocchioClassify(x, DT_tfidfArray, trainClass[0])"
   ]
  },
  {
   "cell_type": "code",
   "execution_count": 292,
   "metadata": {},
   "outputs": [],
   "source": [
    "def rocchioEvaluate(test, test_labs, train, train_labs):\n",
    "    T = 0\n",
    "    F = 0\n",
    "    for i in range(len(test)):\n",
    "        actual = test_labs[i]\n",
    "        similarities, predicted = rocchioClassify(test[i], train, train_labs)\n",
    "        if actual == predicted:\n",
    "            T += 1\n",
    "        else:\n",
    "            F += 1\n",
    "    accuracy = float(T) / float(T + F)\n",
    "    return accuracy"
   ]
  },
  {
   "cell_type": "code",
   "execution_count": 293,
   "metadata": {},
   "outputs": [
    {
     "data": {
      "text/plain": [
       "0.98"
      ]
     },
     "execution_count": 293,
     "metadata": {},
     "output_type": "execute_result"
    }
   ],
   "source": [
    "#Calculate Accruacy\n",
    "acc =rocchioEvaluate(testArray, testClass[0] , DT_tfidfArray, trainClass[0])\n",
    "acc"
   ]
  },
  {
   "cell_type": "markdown",
   "metadata": {},
   "source": [
    "## Summary\n",
    "After creating our Rocchio train, classify, and evaluate functions, we are able to test the accruacy of our classifier against the test data. We get an accuracy score of .98, which tops the .85 for Euclidean distance and is in line with the .98 for cosine distance that we calculated in part d."
   ]
  },
  {
   "cell_type": "markdown",
   "metadata": {},
   "source": [
    "### g.)\n",
    "Using scikit-learn's Nearest Centroid classifier to perform classification of the test instances, as in the previous part. Compare the classification accuracy of your Rocchio implementation to the classification results using scikit-learn."
   ]
  },
  {
   "cell_type": "code",
   "execution_count": 308,
   "metadata": {},
   "outputs": [],
   "source": [
    "from sklearn.neighbors import NearestCentroid"
   ]
  },
  {
   "cell_type": "code",
   "execution_count": 313,
   "metadata": {},
   "outputs": [
    {
     "data": {
      "text/plain": [
       "NearestCentroid()"
      ]
     },
     "execution_count": 313,
     "metadata": {},
     "output_type": "execute_result"
    }
   ],
   "source": [
    "#create centroid object, fit training data\n",
    "clf = NearestCentroid()\n",
    "clf.fit(trainArray, trainClass[0])"
   ]
  },
  {
   "cell_type": "code",
   "execution_count": 315,
   "metadata": {},
   "outputs": [
    {
     "data": {
      "text/plain": [
       "array([1, 0, 1, 1, 1, 0, 1, 1, 0, 1, 0, 1, 1, 0, 1, 1, 0, 1, 0, 0, 0, 0, 0, 0, 1, 1, 1, 0, 1, 1, 1, 0, 0, 0, 1, 0, 0,\n",
       "       1, 1, 1, 1, 0, 1, 0, 0, 1, 1, 0, 0, 0, 1, 1, 0, 1, 0, 0, 1, 1, 1, 1, 1, 1, 1, 0, 1, 0, 0, 1, 1, 0, 1, 1, 0, 0,\n",
       "       0, 0, 0, 1, 0, 1, 0, 1, 0, 0, 1, 0, 0, 1, 0, 0, 0, 1, 1, 0, 1, 0, 0, 0, 1, 1, 1, 0, 1, 1, 1, 1, 1, 0, 0, 1, 1,\n",
       "       1, 0, 1, 1, 0, 1, 1, 0, 1, 0, 1, 1, 1, 0, 1, 1, 0, 1, 1, 0, 1, 1, 1, 1, 0, 0, 0, 1, 0, 0, 1, 0, 1, 1, 0, 1, 0,\n",
       "       0, 1, 1, 1, 1, 0, 1, 0, 0, 1, 0, 1, 1, 1, 0, 0, 1, 1, 0, 0, 1, 0, 1, 1, 1, 0, 1, 1, 0, 1, 0, 1, 1, 1, 1, 0, 1,\n",
       "       1, 1, 1, 1, 1, 0, 0, 0, 0, 0, 1, 1, 0, 1, 1])"
      ]
     },
     "execution_count": 315,
     "metadata": {},
     "output_type": "execute_result"
    }
   ],
   "source": [
    "clf.predict(testArray)"
   ]
  },
  {
   "cell_type": "code",
   "execution_count": 316,
   "metadata": {},
   "outputs": [
    {
     "name": "stdout",
     "output_type": "stream",
     "text": [
      "0.94\n"
     ]
    }
   ],
   "source": [
    "print(clf.score(testArray, testClass[0]))"
   ]
  },
  {
   "cell_type": "markdown",
   "metadata": {},
   "source": [
    "## Summary\n",
    "Looking at our accuracy score of .94 for the sklearn Nearest Centroid method, we can see that it is less than the .98 we got with our rocchio function. One reason for this might be due to the fact that we used IDF weights training matrix for part f.) and our original training matrix for part g.)"
   ]
  },
  {
   "cell_type": "markdown",
   "metadata": {},
   "source": [
    "# Problem #2"
   ]
  },
  {
   "cell_type": "markdown",
   "metadata": {},
   "source": [
    "### a.)\n",
    "Load the data into a Pandas dataframe. Create dummy variables for the categorical attributes so that the data set is fully numeric. Then separate the attribute (\"income_>50K\") from the remaining attributes; this will be used as the target attribute for classification.  [Note: you need to drop \"income_<=50K\" which is also created as a dummy variable in earlier step]. Finally, split the transformed data into training and test sets (using 80%-20% randomized split). Note: use the train_test_split function from the sklearn.model_selection module with random_state = 111 to perform the split."
   ]
  },
  {
   "cell_type": "code",
   "execution_count": 12,
   "metadata": {},
   "outputs": [
    {
     "data": {
      "text/html": [
       "<div>\n",
       "<style scoped>\n",
       "    .dataframe tbody tr th:only-of-type {\n",
       "        vertical-align: middle;\n",
       "    }\n",
       "\n",
       "    .dataframe tbody tr th {\n",
       "        vertical-align: top;\n",
       "    }\n",
       "\n",
       "    .dataframe thead th {\n",
       "        text-align: right;\n",
       "    }\n",
       "</style>\n",
       "<table border=\"1\" class=\"dataframe\">\n",
       "  <thead>\n",
       "    <tr style=\"text-align: right;\">\n",
       "      <th></th>\n",
       "      <th>age</th>\n",
       "      <th>workclass</th>\n",
       "      <th>education</th>\n",
       "      <th>marital-status</th>\n",
       "      <th>race</th>\n",
       "      <th>sex</th>\n",
       "      <th>hours-per-week</th>\n",
       "      <th>income</th>\n",
       "    </tr>\n",
       "  </thead>\n",
       "  <tbody>\n",
       "    <tr>\n",
       "      <th>0</th>\n",
       "      <td>39</td>\n",
       "      <td>Public</td>\n",
       "      <td>13</td>\n",
       "      <td>Single</td>\n",
       "      <td>White</td>\n",
       "      <td>Male</td>\n",
       "      <td>40</td>\n",
       "      <td>&lt;=50K</td>\n",
       "    </tr>\n",
       "    <tr>\n",
       "      <th>1</th>\n",
       "      <td>50</td>\n",
       "      <td>Self-emp</td>\n",
       "      <td>13</td>\n",
       "      <td>Married</td>\n",
       "      <td>White</td>\n",
       "      <td>Male</td>\n",
       "      <td>13</td>\n",
       "      <td>&lt;=50K</td>\n",
       "    </tr>\n",
       "    <tr>\n",
       "      <th>2</th>\n",
       "      <td>38</td>\n",
       "      <td>Private</td>\n",
       "      <td>9</td>\n",
       "      <td>Single</td>\n",
       "      <td>White</td>\n",
       "      <td>Male</td>\n",
       "      <td>40</td>\n",
       "      <td>&lt;=50K</td>\n",
       "    </tr>\n",
       "    <tr>\n",
       "      <th>3</th>\n",
       "      <td>53</td>\n",
       "      <td>Private</td>\n",
       "      <td>7</td>\n",
       "      <td>Married</td>\n",
       "      <td>Black</td>\n",
       "      <td>Male</td>\n",
       "      <td>40</td>\n",
       "      <td>&lt;=50K</td>\n",
       "    </tr>\n",
       "    <tr>\n",
       "      <th>4</th>\n",
       "      <td>28</td>\n",
       "      <td>Private</td>\n",
       "      <td>13</td>\n",
       "      <td>Married</td>\n",
       "      <td>Black</td>\n",
       "      <td>Female</td>\n",
       "      <td>40</td>\n",
       "      <td>&lt;=50K</td>\n",
       "    </tr>\n",
       "  </tbody>\n",
       "</table>\n",
       "</div>"
      ],
      "text/plain": [
       "   age workclass  education marital-status   race     sex  hours-per-week  \\\n",
       "0   39    Public         13         Single  White    Male              40   \n",
       "1   50  Self-emp         13        Married  White    Male              13   \n",
       "2   38   Private          9         Single  White    Male              40   \n",
       "3   53   Private          7        Married  Black    Male              40   \n",
       "4   28   Private         13        Married  Black  Female              40   \n",
       "\n",
       "  income  \n",
       "0  <=50K  \n",
       "1  <=50K  \n",
       "2  <=50K  \n",
       "3  <=50K  \n",
       "4  <=50K  "
      ]
     },
     "execution_count": 12,
     "metadata": {},
     "output_type": "execute_result"
    }
   ],
   "source": [
    "#load data\n",
    "census_df = pd.read_csv('adult-modified.csv')\n",
    "census_df.head()"
   ]
  },
  {
   "cell_type": "code",
   "execution_count": 13,
   "metadata": {},
   "outputs": [
    {
     "data": {
      "text/html": [
       "<div>\n",
       "<style scoped>\n",
       "    .dataframe tbody tr th:only-of-type {\n",
       "        vertical-align: middle;\n",
       "    }\n",
       "\n",
       "    .dataframe tbody tr th {\n",
       "        vertical-align: top;\n",
       "    }\n",
       "\n",
       "    .dataframe thead th {\n",
       "        text-align: right;\n",
       "    }\n",
       "</style>\n",
       "<table border=\"1\" class=\"dataframe\">\n",
       "  <thead>\n",
       "    <tr style=\"text-align: right;\">\n",
       "      <th></th>\n",
       "      <th>age</th>\n",
       "      <th>education</th>\n",
       "      <th>hours-per-week</th>\n",
       "      <th>workclass_Private</th>\n",
       "      <th>workclass_Public</th>\n",
       "      <th>workclass_Self-emp</th>\n",
       "      <th>marital-status_Married</th>\n",
       "      <th>marital-status_Single</th>\n",
       "      <th>race_Amer-Indian</th>\n",
       "      <th>race_Asian</th>\n",
       "      <th>race_Black</th>\n",
       "      <th>race_Hispanic</th>\n",
       "      <th>race_White</th>\n",
       "      <th>sex_Female</th>\n",
       "      <th>sex_Male</th>\n",
       "      <th>income_&lt;=50K</th>\n",
       "      <th>income_&gt;50K</th>\n",
       "    </tr>\n",
       "  </thead>\n",
       "  <tbody>\n",
       "    <tr>\n",
       "      <th>0</th>\n",
       "      <td>39</td>\n",
       "      <td>13</td>\n",
       "      <td>40</td>\n",
       "      <td>0</td>\n",
       "      <td>1</td>\n",
       "      <td>0</td>\n",
       "      <td>0</td>\n",
       "      <td>1</td>\n",
       "      <td>0</td>\n",
       "      <td>0</td>\n",
       "      <td>0</td>\n",
       "      <td>0</td>\n",
       "      <td>1</td>\n",
       "      <td>0</td>\n",
       "      <td>1</td>\n",
       "      <td>1</td>\n",
       "      <td>0</td>\n",
       "    </tr>\n",
       "    <tr>\n",
       "      <th>1</th>\n",
       "      <td>50</td>\n",
       "      <td>13</td>\n",
       "      <td>13</td>\n",
       "      <td>0</td>\n",
       "      <td>0</td>\n",
       "      <td>1</td>\n",
       "      <td>1</td>\n",
       "      <td>0</td>\n",
       "      <td>0</td>\n",
       "      <td>0</td>\n",
       "      <td>0</td>\n",
       "      <td>0</td>\n",
       "      <td>1</td>\n",
       "      <td>0</td>\n",
       "      <td>1</td>\n",
       "      <td>1</td>\n",
       "      <td>0</td>\n",
       "    </tr>\n",
       "    <tr>\n",
       "      <th>2</th>\n",
       "      <td>38</td>\n",
       "      <td>9</td>\n",
       "      <td>40</td>\n",
       "      <td>1</td>\n",
       "      <td>0</td>\n",
       "      <td>0</td>\n",
       "      <td>0</td>\n",
       "      <td>1</td>\n",
       "      <td>0</td>\n",
       "      <td>0</td>\n",
       "      <td>0</td>\n",
       "      <td>0</td>\n",
       "      <td>1</td>\n",
       "      <td>0</td>\n",
       "      <td>1</td>\n",
       "      <td>1</td>\n",
       "      <td>0</td>\n",
       "    </tr>\n",
       "    <tr>\n",
       "      <th>3</th>\n",
       "      <td>53</td>\n",
       "      <td>7</td>\n",
       "      <td>40</td>\n",
       "      <td>1</td>\n",
       "      <td>0</td>\n",
       "      <td>0</td>\n",
       "      <td>1</td>\n",
       "      <td>0</td>\n",
       "      <td>0</td>\n",
       "      <td>0</td>\n",
       "      <td>1</td>\n",
       "      <td>0</td>\n",
       "      <td>0</td>\n",
       "      <td>0</td>\n",
       "      <td>1</td>\n",
       "      <td>1</td>\n",
       "      <td>0</td>\n",
       "    </tr>\n",
       "    <tr>\n",
       "      <th>4</th>\n",
       "      <td>28</td>\n",
       "      <td>13</td>\n",
       "      <td>40</td>\n",
       "      <td>1</td>\n",
       "      <td>0</td>\n",
       "      <td>0</td>\n",
       "      <td>1</td>\n",
       "      <td>0</td>\n",
       "      <td>0</td>\n",
       "      <td>0</td>\n",
       "      <td>1</td>\n",
       "      <td>0</td>\n",
       "      <td>0</td>\n",
       "      <td>1</td>\n",
       "      <td>0</td>\n",
       "      <td>1</td>\n",
       "      <td>0</td>\n",
       "    </tr>\n",
       "  </tbody>\n",
       "</table>\n",
       "</div>"
      ],
      "text/plain": [
       "   age  education  hours-per-week  workclass_Private  workclass_Public  \\\n",
       "0   39         13              40                  0                 1   \n",
       "1   50         13              13                  0                 0   \n",
       "2   38          9              40                  1                 0   \n",
       "3   53          7              40                  1                 0   \n",
       "4   28         13              40                  1                 0   \n",
       "\n",
       "   workclass_Self-emp  marital-status_Married  marital-status_Single  \\\n",
       "0                   0                       0                      1   \n",
       "1                   1                       1                      0   \n",
       "2                   0                       0                      1   \n",
       "3                   0                       1                      0   \n",
       "4                   0                       1                      0   \n",
       "\n",
       "   race_Amer-Indian  race_Asian  race_Black  race_Hispanic  race_White  \\\n",
       "0                 0           0           0              0           1   \n",
       "1                 0           0           0              0           1   \n",
       "2                 0           0           0              0           1   \n",
       "3                 0           0           1              0           0   \n",
       "4                 0           0           1              0           0   \n",
       "\n",
       "   sex_Female  sex_Male  income_<=50K  income_>50K  \n",
       "0           0         1             1            0  \n",
       "1           0         1             1            0  \n",
       "2           0         1             1            0  \n",
       "3           0         1             1            0  \n",
       "4           1         0             1            0  "
      ]
     },
     "execution_count": 13,
     "metadata": {},
     "output_type": "execute_result"
    }
   ],
   "source": [
    "#create dummies for categorical attributes\n",
    "census_dum = pd.get_dummies(census_df[['age','workclass','education','marital-status','race','sex','hours-per-week',\n",
    "                                       'income']])\n",
    "census_dum.head()"
   ]
  },
  {
   "cell_type": "code",
   "execution_count": 14,
   "metadata": {},
   "outputs": [
    {
     "data": {
      "text/html": [
       "<div>\n",
       "<style scoped>\n",
       "    .dataframe tbody tr th:only-of-type {\n",
       "        vertical-align: middle;\n",
       "    }\n",
       "\n",
       "    .dataframe tbody tr th {\n",
       "        vertical-align: top;\n",
       "    }\n",
       "\n",
       "    .dataframe thead th {\n",
       "        text-align: right;\n",
       "    }\n",
       "</style>\n",
       "<table border=\"1\" class=\"dataframe\">\n",
       "  <thead>\n",
       "    <tr style=\"text-align: right;\">\n",
       "      <th></th>\n",
       "      <th>age</th>\n",
       "      <th>education</th>\n",
       "      <th>hours-per-week</th>\n",
       "      <th>workclass_Private</th>\n",
       "      <th>workclass_Public</th>\n",
       "      <th>workclass_Self-emp</th>\n",
       "      <th>marital-status_Married</th>\n",
       "      <th>marital-status_Single</th>\n",
       "      <th>race_Amer-Indian</th>\n",
       "      <th>race_Asian</th>\n",
       "      <th>race_Black</th>\n",
       "      <th>race_Hispanic</th>\n",
       "      <th>race_White</th>\n",
       "      <th>sex_Female</th>\n",
       "      <th>sex_Male</th>\n",
       "    </tr>\n",
       "  </thead>\n",
       "  <tbody>\n",
       "    <tr>\n",
       "      <th>0</th>\n",
       "      <td>39</td>\n",
       "      <td>13</td>\n",
       "      <td>40</td>\n",
       "      <td>0</td>\n",
       "      <td>1</td>\n",
       "      <td>0</td>\n",
       "      <td>0</td>\n",
       "      <td>1</td>\n",
       "      <td>0</td>\n",
       "      <td>0</td>\n",
       "      <td>0</td>\n",
       "      <td>0</td>\n",
       "      <td>1</td>\n",
       "      <td>0</td>\n",
       "      <td>1</td>\n",
       "    </tr>\n",
       "    <tr>\n",
       "      <th>1</th>\n",
       "      <td>50</td>\n",
       "      <td>13</td>\n",
       "      <td>13</td>\n",
       "      <td>0</td>\n",
       "      <td>0</td>\n",
       "      <td>1</td>\n",
       "      <td>1</td>\n",
       "      <td>0</td>\n",
       "      <td>0</td>\n",
       "      <td>0</td>\n",
       "      <td>0</td>\n",
       "      <td>0</td>\n",
       "      <td>1</td>\n",
       "      <td>0</td>\n",
       "      <td>1</td>\n",
       "    </tr>\n",
       "    <tr>\n",
       "      <th>2</th>\n",
       "      <td>38</td>\n",
       "      <td>9</td>\n",
       "      <td>40</td>\n",
       "      <td>1</td>\n",
       "      <td>0</td>\n",
       "      <td>0</td>\n",
       "      <td>0</td>\n",
       "      <td>1</td>\n",
       "      <td>0</td>\n",
       "      <td>0</td>\n",
       "      <td>0</td>\n",
       "      <td>0</td>\n",
       "      <td>1</td>\n",
       "      <td>0</td>\n",
       "      <td>1</td>\n",
       "    </tr>\n",
       "    <tr>\n",
       "      <th>3</th>\n",
       "      <td>53</td>\n",
       "      <td>7</td>\n",
       "      <td>40</td>\n",
       "      <td>1</td>\n",
       "      <td>0</td>\n",
       "      <td>0</td>\n",
       "      <td>1</td>\n",
       "      <td>0</td>\n",
       "      <td>0</td>\n",
       "      <td>0</td>\n",
       "      <td>1</td>\n",
       "      <td>0</td>\n",
       "      <td>0</td>\n",
       "      <td>0</td>\n",
       "      <td>1</td>\n",
       "    </tr>\n",
       "    <tr>\n",
       "      <th>4</th>\n",
       "      <td>28</td>\n",
       "      <td>13</td>\n",
       "      <td>40</td>\n",
       "      <td>1</td>\n",
       "      <td>0</td>\n",
       "      <td>0</td>\n",
       "      <td>1</td>\n",
       "      <td>0</td>\n",
       "      <td>0</td>\n",
       "      <td>0</td>\n",
       "      <td>1</td>\n",
       "      <td>0</td>\n",
       "      <td>0</td>\n",
       "      <td>1</td>\n",
       "      <td>0</td>\n",
       "    </tr>\n",
       "  </tbody>\n",
       "</table>\n",
       "</div>"
      ],
      "text/plain": [
       "   age  education  hours-per-week  workclass_Private  workclass_Public  \\\n",
       "0   39         13              40                  0                 1   \n",
       "1   50         13              13                  0                 0   \n",
       "2   38          9              40                  1                 0   \n",
       "3   53          7              40                  1                 0   \n",
       "4   28         13              40                  1                 0   \n",
       "\n",
       "   workclass_Self-emp  marital-status_Married  marital-status_Single  \\\n",
       "0                   0                       0                      1   \n",
       "1                   1                       1                      0   \n",
       "2                   0                       0                      1   \n",
       "3                   0                       1                      0   \n",
       "4                   0                       1                      0   \n",
       "\n",
       "   race_Amer-Indian  race_Asian  race_Black  race_Hispanic  race_White  \\\n",
       "0                 0           0           0              0           1   \n",
       "1                 0           0           0              0           1   \n",
       "2                 0           0           0              0           1   \n",
       "3                 0           0           1              0           0   \n",
       "4                 0           0           1              0           0   \n",
       "\n",
       "   sex_Female  sex_Male  \n",
       "0           0         1  \n",
       "1           0         1  \n",
       "2           0         1  \n",
       "3           0         1  \n",
       "4           1         0  "
      ]
     },
     "execution_count": 14,
     "metadata": {},
     "output_type": "execute_result"
    }
   ],
   "source": [
    "#drop income from dummy df, store it in target matrix\n",
    "census_target = census_df['income']\n",
    "census_dum = census_dum.drop(['income_<=50K', 'income_>50K'], axis=1)\n",
    "census_dum.head()"
   ]
  },
  {
   "cell_type": "code",
   "execution_count": 15,
   "metadata": {},
   "outputs": [
    {
     "name": "stdout",
     "output_type": "stream",
     "text": [
      "(1883, 15)\n",
      "(7529, 15)\n",
      "(1883,)\n",
      "(7529,)\n"
     ]
    },
    {
     "data": {
      "text/html": [
       "<div>\n",
       "<style scoped>\n",
       "    .dataframe tbody tr th:only-of-type {\n",
       "        vertical-align: middle;\n",
       "    }\n",
       "\n",
       "    .dataframe tbody tr th {\n",
       "        vertical-align: top;\n",
       "    }\n",
       "\n",
       "    .dataframe thead th {\n",
       "        text-align: right;\n",
       "    }\n",
       "</style>\n",
       "<table border=\"1\" class=\"dataframe\">\n",
       "  <thead>\n",
       "    <tr style=\"text-align: right;\">\n",
       "      <th></th>\n",
       "      <th>age</th>\n",
       "      <th>education</th>\n",
       "      <th>hours-per-week</th>\n",
       "      <th>workclass_Private</th>\n",
       "      <th>workclass_Public</th>\n",
       "      <th>workclass_Self-emp</th>\n",
       "      <th>marital-status_Married</th>\n",
       "      <th>marital-status_Single</th>\n",
       "      <th>race_Amer-Indian</th>\n",
       "      <th>race_Asian</th>\n",
       "      <th>race_Black</th>\n",
       "      <th>race_Hispanic</th>\n",
       "      <th>race_White</th>\n",
       "      <th>sex_Female</th>\n",
       "      <th>sex_Male</th>\n",
       "    </tr>\n",
       "  </thead>\n",
       "  <tbody>\n",
       "    <tr>\n",
       "      <th>1699</th>\n",
       "      <td>22</td>\n",
       "      <td>7</td>\n",
       "      <td>35</td>\n",
       "      <td>1</td>\n",
       "      <td>0</td>\n",
       "      <td>0</td>\n",
       "      <td>1</td>\n",
       "      <td>0</td>\n",
       "      <td>0</td>\n",
       "      <td>0</td>\n",
       "      <td>1</td>\n",
       "      <td>0</td>\n",
       "      <td>0</td>\n",
       "      <td>1</td>\n",
       "      <td>0</td>\n",
       "    </tr>\n",
       "    <tr>\n",
       "      <th>542</th>\n",
       "      <td>26</td>\n",
       "      <td>10</td>\n",
       "      <td>45</td>\n",
       "      <td>0</td>\n",
       "      <td>0</td>\n",
       "      <td>1</td>\n",
       "      <td>1</td>\n",
       "      <td>0</td>\n",
       "      <td>0</td>\n",
       "      <td>0</td>\n",
       "      <td>0</td>\n",
       "      <td>0</td>\n",
       "      <td>1</td>\n",
       "      <td>0</td>\n",
       "      <td>1</td>\n",
       "    </tr>\n",
       "    <tr>\n",
       "      <th>2985</th>\n",
       "      <td>59</td>\n",
       "      <td>9</td>\n",
       "      <td>40</td>\n",
       "      <td>1</td>\n",
       "      <td>0</td>\n",
       "      <td>0</td>\n",
       "      <td>0</td>\n",
       "      <td>1</td>\n",
       "      <td>0</td>\n",
       "      <td>0</td>\n",
       "      <td>1</td>\n",
       "      <td>0</td>\n",
       "      <td>0</td>\n",
       "      <td>1</td>\n",
       "      <td>0</td>\n",
       "    </tr>\n",
       "    <tr>\n",
       "      <th>699</th>\n",
       "      <td>32</td>\n",
       "      <td>10</td>\n",
       "      <td>40</td>\n",
       "      <td>1</td>\n",
       "      <td>0</td>\n",
       "      <td>0</td>\n",
       "      <td>0</td>\n",
       "      <td>1</td>\n",
       "      <td>0</td>\n",
       "      <td>0</td>\n",
       "      <td>1</td>\n",
       "      <td>0</td>\n",
       "      <td>0</td>\n",
       "      <td>1</td>\n",
       "      <td>0</td>\n",
       "    </tr>\n",
       "    <tr>\n",
       "      <th>1090</th>\n",
       "      <td>38</td>\n",
       "      <td>13</td>\n",
       "      <td>60</td>\n",
       "      <td>1</td>\n",
       "      <td>0</td>\n",
       "      <td>0</td>\n",
       "      <td>1</td>\n",
       "      <td>0</td>\n",
       "      <td>0</td>\n",
       "      <td>0</td>\n",
       "      <td>0</td>\n",
       "      <td>0</td>\n",
       "      <td>1</td>\n",
       "      <td>0</td>\n",
       "      <td>1</td>\n",
       "    </tr>\n",
       "  </tbody>\n",
       "</table>\n",
       "</div>"
      ],
      "text/plain": [
       "      age  education  hours-per-week  workclass_Private  workclass_Public  \\\n",
       "1699   22          7              35                  1                 0   \n",
       "542    26         10              45                  0                 0   \n",
       "2985   59          9              40                  1                 0   \n",
       "699    32         10              40                  1                 0   \n",
       "1090   38         13              60                  1                 0   \n",
       "\n",
       "      workclass_Self-emp  marital-status_Married  marital-status_Single  \\\n",
       "1699                   0                       1                      0   \n",
       "542                    1                       1                      0   \n",
       "2985                   0                       0                      1   \n",
       "699                    0                       0                      1   \n",
       "1090                   0                       1                      0   \n",
       "\n",
       "      race_Amer-Indian  race_Asian  race_Black  race_Hispanic  race_White  \\\n",
       "1699                 0           0           1              0           0   \n",
       "542                  0           0           0              0           1   \n",
       "2985                 0           0           1              0           0   \n",
       "699                  0           0           1              0           0   \n",
       "1090                 0           0           0              0           1   \n",
       "\n",
       "      sex_Female  sex_Male  \n",
       "1699           1         0  \n",
       "542            0         1  \n",
       "2985           1         0  \n",
       "699            1         0  \n",
       "1090           0         1  "
      ]
     },
     "execution_count": 15,
     "metadata": {},
     "output_type": "execute_result"
    }
   ],
   "source": [
    "#split data 80/20 using sklearn train_test_split rs=111\n",
    "from sklearn.model_selection import train_test_split\n",
    "census_train, census_test, census_target_train, census_target_test = train_test_split(census_dum, census_target, test_size=.2,random_state=111)\n",
    "\n",
    "print(census_test.shape)\n",
    "print(census_train.shape)\n",
    "print(census_target_test.shape)\n",
    "print(census_target_train.shape)\n",
    "census_test.head()"
   ]
  },
  {
   "cell_type": "markdown",
   "metadata": {},
   "source": [
    "### b.)\n",
    "Use scikit-learn's KNN implementation for classification."
   ]
  },
  {
   "cell_type": "markdown",
   "metadata": {},
   "source": [
    "#### i.)\n",
    "First normalize the data so that all attributes are in the same scale (normalize so that the values are between 0 and 1). Run your KNN classifier using K=10. Generate the confusion matrix (visualize it using Matplotlib) as well as the classification report. Report the model accuracy for both the training and the test sets."
   ]
  },
  {
   "cell_type": "code",
   "execution_count": 16,
   "metadata": {},
   "outputs": [],
   "source": [
    "#normalize data\n",
    "from sklearn import preprocessing\n",
    "min_max_scaler = preprocessing.MinMaxScaler().fit(census_train)\n",
    "\n",
    "census_train_norm = min_max_scaler.transform(census_train)\n",
    "census_train_norm = pd.DataFrame(census_train_norm, columns=census_train.columns, index=census_train.index)\n",
    "\n",
    "census_test_norm = min_max_scaler.transform(census_test)\n",
    "census_test_norm = pd.DataFrame(census_test_norm, columns=census_test.columns, index = census_test.index)"
   ]
  },
  {
   "cell_type": "code",
   "execution_count": 17,
   "metadata": {},
   "outputs": [
    {
     "data": {
      "text/html": [
       "<div>\n",
       "<style scoped>\n",
       "    .dataframe tbody tr th:only-of-type {\n",
       "        vertical-align: middle;\n",
       "    }\n",
       "\n",
       "    .dataframe tbody tr th {\n",
       "        vertical-align: top;\n",
       "    }\n",
       "\n",
       "    .dataframe thead th {\n",
       "        text-align: right;\n",
       "    }\n",
       "</style>\n",
       "<table border=\"1\" class=\"dataframe\">\n",
       "  <thead>\n",
       "    <tr style=\"text-align: right;\">\n",
       "      <th></th>\n",
       "      <th>age</th>\n",
       "      <th>education</th>\n",
       "      <th>hours-per-week</th>\n",
       "      <th>workclass_Private</th>\n",
       "      <th>workclass_Public</th>\n",
       "      <th>workclass_Self-emp</th>\n",
       "      <th>marital-status_Married</th>\n",
       "      <th>marital-status_Single</th>\n",
       "      <th>race_Amer-Indian</th>\n",
       "      <th>race_Asian</th>\n",
       "      <th>race_Black</th>\n",
       "      <th>race_Hispanic</th>\n",
       "      <th>race_White</th>\n",
       "      <th>sex_Female</th>\n",
       "      <th>sex_Male</th>\n",
       "    </tr>\n",
       "  </thead>\n",
       "  <tbody>\n",
       "    <tr>\n",
       "      <th>8487</th>\n",
       "      <td>0.178082</td>\n",
       "      <td>0.600000</td>\n",
       "      <td>0.397959</td>\n",
       "      <td>1.0</td>\n",
       "      <td>0.0</td>\n",
       "      <td>0.0</td>\n",
       "      <td>1.0</td>\n",
       "      <td>0.0</td>\n",
       "      <td>0.0</td>\n",
       "      <td>0.0</td>\n",
       "      <td>0.0</td>\n",
       "      <td>0.0</td>\n",
       "      <td>1.0</td>\n",
       "      <td>0.0</td>\n",
       "      <td>1.0</td>\n",
       "    </tr>\n",
       "    <tr>\n",
       "      <th>2218</th>\n",
       "      <td>0.273973</td>\n",
       "      <td>0.266667</td>\n",
       "      <td>0.500000</td>\n",
       "      <td>1.0</td>\n",
       "      <td>0.0</td>\n",
       "      <td>0.0</td>\n",
       "      <td>1.0</td>\n",
       "      <td>0.0</td>\n",
       "      <td>0.0</td>\n",
       "      <td>0.0</td>\n",
       "      <td>0.0</td>\n",
       "      <td>0.0</td>\n",
       "      <td>1.0</td>\n",
       "      <td>0.0</td>\n",
       "      <td>1.0</td>\n",
       "    </tr>\n",
       "    <tr>\n",
       "      <th>7839</th>\n",
       "      <td>0.397260</td>\n",
       "      <td>0.533333</td>\n",
       "      <td>0.397959</td>\n",
       "      <td>1.0</td>\n",
       "      <td>0.0</td>\n",
       "      <td>0.0</td>\n",
       "      <td>1.0</td>\n",
       "      <td>0.0</td>\n",
       "      <td>0.0</td>\n",
       "      <td>0.0</td>\n",
       "      <td>0.0</td>\n",
       "      <td>0.0</td>\n",
       "      <td>1.0</td>\n",
       "      <td>1.0</td>\n",
       "      <td>0.0</td>\n",
       "    </tr>\n",
       "    <tr>\n",
       "      <th>1914</th>\n",
       "      <td>0.082192</td>\n",
       "      <td>0.800000</td>\n",
       "      <td>0.397959</td>\n",
       "      <td>1.0</td>\n",
       "      <td>0.0</td>\n",
       "      <td>0.0</td>\n",
       "      <td>0.0</td>\n",
       "      <td>1.0</td>\n",
       "      <td>0.0</td>\n",
       "      <td>0.0</td>\n",
       "      <td>0.0</td>\n",
       "      <td>0.0</td>\n",
       "      <td>1.0</td>\n",
       "      <td>0.0</td>\n",
       "      <td>1.0</td>\n",
       "    </tr>\n",
       "    <tr>\n",
       "      <th>7147</th>\n",
       "      <td>0.602740</td>\n",
       "      <td>0.533333</td>\n",
       "      <td>0.551020</td>\n",
       "      <td>0.0</td>\n",
       "      <td>0.0</td>\n",
       "      <td>1.0</td>\n",
       "      <td>0.0</td>\n",
       "      <td>1.0</td>\n",
       "      <td>0.0</td>\n",
       "      <td>0.0</td>\n",
       "      <td>0.0</td>\n",
       "      <td>0.0</td>\n",
       "      <td>1.0</td>\n",
       "      <td>0.0</td>\n",
       "      <td>1.0</td>\n",
       "    </tr>\n",
       "  </tbody>\n",
       "</table>\n",
       "</div>"
      ],
      "text/plain": [
       "           age  education  hours-per-week  workclass_Private  \\\n",
       "8487  0.178082   0.600000        0.397959                1.0   \n",
       "2218  0.273973   0.266667        0.500000                1.0   \n",
       "7839  0.397260   0.533333        0.397959                1.0   \n",
       "1914  0.082192   0.800000        0.397959                1.0   \n",
       "7147  0.602740   0.533333        0.551020                0.0   \n",
       "\n",
       "      workclass_Public  workclass_Self-emp  marital-status_Married  \\\n",
       "8487               0.0                 0.0                     1.0   \n",
       "2218               0.0                 0.0                     1.0   \n",
       "7839               0.0                 0.0                     1.0   \n",
       "1914               0.0                 0.0                     0.0   \n",
       "7147               0.0                 1.0                     0.0   \n",
       "\n",
       "      marital-status_Single  race_Amer-Indian  race_Asian  race_Black  \\\n",
       "8487                    0.0               0.0         0.0         0.0   \n",
       "2218                    0.0               0.0         0.0         0.0   \n",
       "7839                    0.0               0.0         0.0         0.0   \n",
       "1914                    1.0               0.0         0.0         0.0   \n",
       "7147                    1.0               0.0         0.0         0.0   \n",
       "\n",
       "      race_Hispanic  race_White  sex_Female  sex_Male  \n",
       "8487            0.0         1.0         0.0       1.0  \n",
       "2218            0.0         1.0         0.0       1.0  \n",
       "7839            0.0         1.0         1.0       0.0  \n",
       "1914            0.0         1.0         0.0       1.0  \n",
       "7147            0.0         1.0         0.0       1.0  "
      ]
     },
     "execution_count": 17,
     "metadata": {},
     "output_type": "execute_result"
    }
   ],
   "source": [
    "census_train_norm.head()"
   ]
  },
  {
   "cell_type": "code",
   "execution_count": 18,
   "metadata": {},
   "outputs": [
    {
     "data": {
      "text/html": [
       "<div>\n",
       "<style scoped>\n",
       "    .dataframe tbody tr th:only-of-type {\n",
       "        vertical-align: middle;\n",
       "    }\n",
       "\n",
       "    .dataframe tbody tr th {\n",
       "        vertical-align: top;\n",
       "    }\n",
       "\n",
       "    .dataframe thead th {\n",
       "        text-align: right;\n",
       "    }\n",
       "</style>\n",
       "<table border=\"1\" class=\"dataframe\">\n",
       "  <thead>\n",
       "    <tr style=\"text-align: right;\">\n",
       "      <th></th>\n",
       "      <th>age</th>\n",
       "      <th>education</th>\n",
       "      <th>hours-per-week</th>\n",
       "      <th>workclass_Private</th>\n",
       "      <th>workclass_Public</th>\n",
       "      <th>workclass_Self-emp</th>\n",
       "      <th>marital-status_Married</th>\n",
       "      <th>marital-status_Single</th>\n",
       "      <th>race_Amer-Indian</th>\n",
       "      <th>race_Asian</th>\n",
       "      <th>race_Black</th>\n",
       "      <th>race_Hispanic</th>\n",
       "      <th>race_White</th>\n",
       "      <th>sex_Female</th>\n",
       "      <th>sex_Male</th>\n",
       "    </tr>\n",
       "  </thead>\n",
       "  <tbody>\n",
       "    <tr>\n",
       "      <th>1699</th>\n",
       "      <td>0.068493</td>\n",
       "      <td>0.400000</td>\n",
       "      <td>0.346939</td>\n",
       "      <td>1.0</td>\n",
       "      <td>0.0</td>\n",
       "      <td>0.0</td>\n",
       "      <td>1.0</td>\n",
       "      <td>0.0</td>\n",
       "      <td>0.0</td>\n",
       "      <td>0.0</td>\n",
       "      <td>1.0</td>\n",
       "      <td>0.0</td>\n",
       "      <td>0.0</td>\n",
       "      <td>1.0</td>\n",
       "      <td>0.0</td>\n",
       "    </tr>\n",
       "    <tr>\n",
       "      <th>542</th>\n",
       "      <td>0.123288</td>\n",
       "      <td>0.600000</td>\n",
       "      <td>0.448980</td>\n",
       "      <td>0.0</td>\n",
       "      <td>0.0</td>\n",
       "      <td>1.0</td>\n",
       "      <td>1.0</td>\n",
       "      <td>0.0</td>\n",
       "      <td>0.0</td>\n",
       "      <td>0.0</td>\n",
       "      <td>0.0</td>\n",
       "      <td>0.0</td>\n",
       "      <td>1.0</td>\n",
       "      <td>0.0</td>\n",
       "      <td>1.0</td>\n",
       "    </tr>\n",
       "    <tr>\n",
       "      <th>2985</th>\n",
       "      <td>0.575342</td>\n",
       "      <td>0.533333</td>\n",
       "      <td>0.397959</td>\n",
       "      <td>1.0</td>\n",
       "      <td>0.0</td>\n",
       "      <td>0.0</td>\n",
       "      <td>0.0</td>\n",
       "      <td>1.0</td>\n",
       "      <td>0.0</td>\n",
       "      <td>0.0</td>\n",
       "      <td>1.0</td>\n",
       "      <td>0.0</td>\n",
       "      <td>0.0</td>\n",
       "      <td>1.0</td>\n",
       "      <td>0.0</td>\n",
       "    </tr>\n",
       "    <tr>\n",
       "      <th>699</th>\n",
       "      <td>0.205479</td>\n",
       "      <td>0.600000</td>\n",
       "      <td>0.397959</td>\n",
       "      <td>1.0</td>\n",
       "      <td>0.0</td>\n",
       "      <td>0.0</td>\n",
       "      <td>0.0</td>\n",
       "      <td>1.0</td>\n",
       "      <td>0.0</td>\n",
       "      <td>0.0</td>\n",
       "      <td>1.0</td>\n",
       "      <td>0.0</td>\n",
       "      <td>0.0</td>\n",
       "      <td>1.0</td>\n",
       "      <td>0.0</td>\n",
       "    </tr>\n",
       "    <tr>\n",
       "      <th>1090</th>\n",
       "      <td>0.287671</td>\n",
       "      <td>0.800000</td>\n",
       "      <td>0.602041</td>\n",
       "      <td>1.0</td>\n",
       "      <td>0.0</td>\n",
       "      <td>0.0</td>\n",
       "      <td>1.0</td>\n",
       "      <td>0.0</td>\n",
       "      <td>0.0</td>\n",
       "      <td>0.0</td>\n",
       "      <td>0.0</td>\n",
       "      <td>0.0</td>\n",
       "      <td>1.0</td>\n",
       "      <td>0.0</td>\n",
       "      <td>1.0</td>\n",
       "    </tr>\n",
       "  </tbody>\n",
       "</table>\n",
       "</div>"
      ],
      "text/plain": [
       "           age  education  hours-per-week  workclass_Private  \\\n",
       "1699  0.068493   0.400000        0.346939                1.0   \n",
       "542   0.123288   0.600000        0.448980                0.0   \n",
       "2985  0.575342   0.533333        0.397959                1.0   \n",
       "699   0.205479   0.600000        0.397959                1.0   \n",
       "1090  0.287671   0.800000        0.602041                1.0   \n",
       "\n",
       "      workclass_Public  workclass_Self-emp  marital-status_Married  \\\n",
       "1699               0.0                 0.0                     1.0   \n",
       "542                0.0                 1.0                     1.0   \n",
       "2985               0.0                 0.0                     0.0   \n",
       "699                0.0                 0.0                     0.0   \n",
       "1090               0.0                 0.0                     1.0   \n",
       "\n",
       "      marital-status_Single  race_Amer-Indian  race_Asian  race_Black  \\\n",
       "1699                    0.0               0.0         0.0         1.0   \n",
       "542                     0.0               0.0         0.0         0.0   \n",
       "2985                    1.0               0.0         0.0         1.0   \n",
       "699                     1.0               0.0         0.0         1.0   \n",
       "1090                    0.0               0.0         0.0         0.0   \n",
       "\n",
       "      race_Hispanic  race_White  sex_Female  sex_Male  \n",
       "1699            0.0         0.0         1.0       0.0  \n",
       "542             0.0         1.0         0.0       1.0  \n",
       "2985            0.0         0.0         1.0       0.0  \n",
       "699             0.0         0.0         1.0       0.0  \n",
       "1090            0.0         1.0         0.0       1.0  "
      ]
     },
     "execution_count": 18,
     "metadata": {},
     "output_type": "execute_result"
    }
   ],
   "source": [
    " census_test_norm.head()"
   ]
  },
  {
   "cell_type": "code",
   "execution_count": 19,
   "metadata": {},
   "outputs": [
    {
     "data": {
      "text/plain": [
       "KNeighborsClassifier(n_neighbors=10, weights='distance')"
      ]
     },
     "execution_count": 19,
     "metadata": {},
     "output_type": "execute_result"
    }
   ],
   "source": [
    "#Fit Knn classifier\n",
    "from sklearn import neighbors\n",
    "n_neighbors = 10\n",
    "\n",
    "knnclf = neighbors.KNeighborsClassifier(n_neighbors, weights='distance')\n",
    "knnclf.fit(census_train_norm, census_target_train)"
   ]
  },
  {
   "cell_type": "code",
   "execution_count": 20,
   "metadata": {},
   "outputs": [
    {
     "data": {
      "text/plain": [
       "array(['<=50K', '<=50K', '<=50K', ..., '<=50K', '<=50K', '<=50K'],\n",
       "      dtype=object)"
      ]
     },
     "execution_count": 20,
     "metadata": {},
     "output_type": "execute_result"
    }
   ],
   "source": [
    "#predict labels for test data\n",
    "knnpreds_test = knnclf.predict(census_test_norm)\n",
    "knnpreds_test"
   ]
  },
  {
   "cell_type": "code",
   "execution_count": 21,
   "metadata": {},
   "outputs": [
    {
     "name": "stdout",
     "output_type": "stream",
     "text": [
      "[[1256  161]\n",
      " [ 240  226]]\n"
     ]
    }
   ],
   "source": [
    "#Confusion Matrix\n",
    "from sklearn.metrics import confusion_matrix\n",
    "knncm = confusion_matrix(census_target_test, knnpreds_test)\n",
    "print(knncm)"
   ]
  },
  {
   "cell_type": "code",
   "execution_count": 22,
   "metadata": {},
   "outputs": [
    {
     "data": {
      "text/plain": [
       "Text(0.5, 0, 'Predicted')"
      ]
     },
     "execution_count": 22,
     "metadata": {},
     "output_type": "execute_result"
    },
    {
     "data": {
      "image/png": "[encoded data removed]",
      "text/plain": [
       "<Figure size 288x288 with 2 Axes>"
      ]
     },
     "metadata": {
      "needs_background": "light"
     },
     "output_type": "display_data"
    }
   ],
   "source": [
    "#Graph CM\n",
    "plt.matshow(knncm)\n",
    "plt.title('Confusion matrix')\n",
    "plt.colorbar()\n",
    "plt.ylabel('Actual')\n",
    "plt.xlabel('Predicted')"
   ]
  },
  {
   "cell_type": "code",
   "execution_count": 23,
   "metadata": {},
   "outputs": [
    {
     "name": "stdout",
     "output_type": "stream",
     "text": [
      "              precision    recall  f1-score   support\n",
      "\n",
      "       <=50K       0.84      0.89      0.86      1417\n",
      "        >50K       0.58      0.48      0.53       466\n",
      "\n",
      "    accuracy                           0.79      1883\n",
      "   macro avg       0.71      0.69      0.70      1883\n",
      "weighted avg       0.78      0.79      0.78      1883\n",
      "\n"
     ]
    }
   ],
   "source": [
    "#Classification Report\n",
    "from sklearn.metrics import classification_report\n",
    "print(classification_report(census_target_test, knnpreds_test))"
   ]
  },
  {
   "cell_type": "code",
   "execution_count": 24,
   "metadata": {},
   "outputs": [
    {
     "data": {
      "text/plain": [
       "0.9432859609509895"
      ]
     },
     "execution_count": 24,
     "metadata": {},
     "output_type": "execute_result"
    }
   ],
   "source": [
    "#Train Score\n",
    "knnclf.score(census_train_norm, census_target_train)"
   ]
  },
  {
   "cell_type": "code",
   "execution_count": 25,
   "metadata": {},
   "outputs": [
    {
     "data": {
      "text/plain": [
       "0.7870419543281997"
      ]
     },
     "execution_count": 25,
     "metadata": {},
     "output_type": "execute_result"
    }
   ],
   "source": [
    "#Test Score\n",
    "knnclf.score(census_test_norm, census_target_test)"
   ]
  },
  {
   "cell_type": "markdown",
   "metadata": {},
   "source": [
    "## Summary\n",
    "For our scores, we get a .94 accuracy predicting the training data and .78 accuracy of predicting the test data. This tells us that we could be overfitting our model, since the test accuracy is significantly less. We can also see from the classifcation report and confusion matrix that our model is a lot better at predicting the <=50K instances, but the smaller sample >50K only had a 58% precision."
   ]
  },
  {
   "cell_type": "markdown",
   "metadata": {},
   "source": [
    "#### ii.)\n",
    "Next, experiment with different values of K (say from 5 to 100) and the weight parameter (i.e., with or without distance weighting) to see if you can improve accuracy of the KNN classifier. Show the results in a single plot comparing distance and uniform weighting schemes across the different values of K. Use the best values of these parameter (K and weighting scheme) to train a new KNN classifier and report the accuracy of this classifier on the training and test sets."
   ]
  },
  {
   "cell_type": "code",
   "execution_count": 26,
   "metadata": {},
   "outputs": [],
   "source": [
    "def knnClassifier(K, w):\n",
    "    '''takes in a K value and whether there should be distance weighting an returns the accuracies'''\n",
    "    acc = []\n",
    "    if w == 0:\n",
    "        w = 'uniform'\n",
    "    elif w == 1:\n",
    "        w = 'distance'\n",
    "    for i in range(5, K+1):\n",
    "        knnclf = neighbors.KNeighborsClassifier(i, weights=w)\n",
    "        knnclf.fit(census_train_norm, census_target_train)\n",
    "        acc.append(knnclf.score(census_test_norm, census_target_test))\n",
    "    return acc\n",
    "        "
   ]
  },
  {
   "cell_type": "code",
   "execution_count": 27,
   "metadata": {},
   "outputs": [],
   "source": [
    "knnWeighted = knnClassifier(100, 1)\n",
    "knnUniform = knnClassifier(100, 0)"
   ]
  },
  {
   "cell_type": "code",
   "execution_count": 28,
   "metadata": {},
   "outputs": [
    {
     "data": {
      "text/plain": [
       "<matplotlib.legend.Legend at 0x7fc81d048d00>"
      ]
     },
     "execution_count": 28,
     "metadata": {},
     "output_type": "execute_result"
    },
    {
     "data": {
      "image/png": "[encoded data removed]",
      "text/plain": [
       "<Figure size 720x360 with 1 Axes>"
      ]
     },
     "metadata": {
      "needs_background": "light"
     },
     "output_type": "display_data"
    }
   ],
   "source": [
    "#weighted vs uniform graph\n",
    "K = list(range(5,101))\n",
    "plt.figure(figsize=(10,5))\n",
    "plt.plot(K, knnWeighted, label = 'Weighted')\n",
    "plt.plot(K, knnUniform, label = 'Uniform')\n",
    "plt.xlabel('K')\n",
    "plt.ylabel('Accuracy')\n",
    "plt.title('Weighted vs Uniform Accuracy Across K Neighbors')\n",
    "plt.xticks(range(5,101,5))\n",
    "plt.legend(loc='center left',bbox_to_anchor=(1,.5))"
   ]
  },
  {
   "cell_type": "code",
   "execution_count": 29,
   "metadata": {},
   "outputs": [
    {
     "data": {
      "text/plain": [
       "(0    39\n",
       " dtype: int64,\n",
       " 0    0.814126\n",
       " dtype: float64)"
      ]
     },
     "execution_count": 29,
     "metadata": {},
     "output_type": "execute_result"
    }
   ],
   "source": [
    "#Find best accuracy/index\n",
    "uni_df = pd.DataFrame(knnUniform, index=K)\n",
    "uni_df.idxmax(), uni_df.max()"
   ]
  },
  {
   "cell_type": "code",
   "execution_count": 30,
   "metadata": {},
   "outputs": [
    {
     "data": {
      "text/plain": [
       "KNeighborsClassifier(n_neighbors=39)"
      ]
     },
     "execution_count": 30,
     "metadata": {},
     "output_type": "execute_result"
    }
   ],
   "source": [
    "#Weight = uniform, neighbors = 39\n",
    "knnclf = neighbors.KNeighborsClassifier(39, weights='uniform')\n",
    "knnclf.fit(census_train_norm, census_target_train)"
   ]
  },
  {
   "cell_type": "code",
   "execution_count": 31,
   "metadata": {},
   "outputs": [
    {
     "data": {
      "text/plain": [
       "0.8217558772745385"
      ]
     },
     "execution_count": 31,
     "metadata": {},
     "output_type": "execute_result"
    }
   ],
   "source": [
    "#acc train\n",
    "knnclf.score(census_train_norm, census_target_train)"
   ]
  },
  {
   "cell_type": "code",
   "execution_count": 32,
   "metadata": {},
   "outputs": [
    {
     "data": {
      "text/plain": [
       "0.8141263940520446"
      ]
     },
     "execution_count": 32,
     "metadata": {},
     "output_type": "execute_result"
    }
   ],
   "source": [
    "#acc test\n",
    "knnclf.score(census_test_norm, census_target_test)"
   ]
  },
  {
   "cell_type": "markdown",
   "metadata": {},
   "source": [
    "## Summary\n",
    "Once we were able to find the optimal parameters for our classifier (uniform, neighbors=39), we were able to record a similar train and test accuracy score (.8217, .8141), indicating that our model is no longer overfitting, while improving the accuracy on unseen or test data."
   ]
  },
  {
   "cell_type": "markdown",
   "metadata": {},
   "source": [
    "#### iii.)\n",
    "Next, using only \"uniform\" weights, compare the accuracy of the KNN classifier across the different values of K on the training and the test data. You should show the results in a single figure with two line plots for the test and training accuracy values (y-axis) and with values of K in the x-axis. What range of values of K represent overfitting? Briefly explain."
   ]
  },
  {
   "cell_type": "code",
   "execution_count": 33,
   "metadata": {},
   "outputs": [],
   "source": [
    "def knnClassifier2(K, w, mat, cls):\n",
    "    '''takes in additional parameters to determine the matrix/class scores'''\n",
    "    acc = []\n",
    "    if w == 0:\n",
    "        w = 'uniform'\n",
    "    elif w == 1:\n",
    "        w = 'distance'\n",
    "    for i in range(5, K+1):\n",
    "        knnclf = neighbors.KNeighborsClassifier(i, weights=w)\n",
    "        knnclf.fit(census_train_norm, census_target_train)\n",
    "        acc.append(knnclf.score(mat, cls))\n",
    "    return acc"
   ]
  },
  {
   "cell_type": "code",
   "execution_count": 34,
   "metadata": {},
   "outputs": [],
   "source": [
    "knn_uni_train = knnClassifier2(100, 0, census_train_norm, census_target_train)\n",
    "knn_uni_test = knnClassifier2(100, 0, census_test_norm, census_target_test)"
   ]
  },
  {
   "cell_type": "code",
   "execution_count": 35,
   "metadata": {},
   "outputs": [
    {
     "data": {
      "text/plain": [
       "96"
      ]
     },
     "execution_count": 35,
     "metadata": {},
     "output_type": "execute_result"
    }
   ],
   "source": [
    "len(knn_uni_test)"
   ]
  },
  {
   "cell_type": "code",
   "execution_count": 36,
   "metadata": {},
   "outputs": [
    {
     "data": {
      "text/plain": [
       "96"
      ]
     },
     "execution_count": 36,
     "metadata": {},
     "output_type": "execute_result"
    }
   ],
   "source": [
    "len(knn_uni_train)"
   ]
  },
  {
   "cell_type": "code",
   "execution_count": 37,
   "metadata": {},
   "outputs": [
    {
     "data": {
      "text/plain": [
       "<matplotlib.legend.Legend at 0x7fc81d419400>"
      ]
     },
     "execution_count": 37,
     "metadata": {},
     "output_type": "execute_result"
    },
    {
     "data": {
      "image/png": "[encoded data removed]",
      "text/plain": [
       "<Figure size 720x360 with 1 Axes>"
      ]
     },
     "metadata": {
      "needs_background": "light"
     },
     "output_type": "display_data"
    }
   ],
   "source": [
    "#weighted vs uniform graph\n",
    "K = list(range(5,101))\n",
    "plt.figure(figsize=(10,5))\n",
    "plt.plot(K, knn_uni_train, label = 'Train')\n",
    "plt.plot(K, knn_uni_test, label = 'Test')\n",
    "plt.xlabel('K')\n",
    "plt.ylabel('Accuracy')\n",
    "plt.title('Train vs Test Accuracy Across K Neighbors')\n",
    "plt.xticks(range(5,101,5))\n",
    "plt.legend(loc='center left',bbox_to_anchor=(1,.5))"
   ]
  },
  {
   "cell_type": "markdown",
   "metadata": {},
   "source": [
    "## Summary\n",
    "From the graph, you can easily see how the differences in accuracy changes over the value picked for K. The trend for the training data looks like a Zipf distribution, with accuracy getting lower with more K neighbors utilized. In K<20, there is evidence that our model is overfitting for these values since the train data accuracy is a lot higher than the test data accuracy. From 25<=K<=55, we have our sweet spot of K values, as all of these have minimal differences from test and train. "
   ]
  },
  {
   "cell_type": "markdown",
   "metadata": {},
   "source": [
    "### c.)\n",
    "Using the non-normalized training and test data, perform classification using scikit-learn's decision tree classifier (using the default parameters). As above, generate the confusion matrix, classification report, and average accuracy scores of the classifier. Compare the average accuracy score on the test and the training data sets. What does the comparison tell you in terms of bias-variance trade-off? Next, create another decision tree model (trained on the non-normalized training data) using \"gini\" index as the selection criteria, min_samples_split=10, and max_depth=4. Show the accuracy results for both the training and test sets. For this model generate a visualization of tree embedded in the Jupyter Notebook."
   ]
  },
  {
   "cell_type": "code",
   "execution_count": 38,
   "metadata": {},
   "outputs": [],
   "source": [
    "from sklearn import tree"
   ]
  },
  {
   "cell_type": "code",
   "execution_count": 39,
   "metadata": {},
   "outputs": [
    {
     "data": {
      "text/plain": [
       "DecisionTreeClassifier()"
      ]
     },
     "execution_count": 39,
     "metadata": {},
     "output_type": "execute_result"
    }
   ],
   "source": [
    "#create/fit dtree classifier\n",
    "treeclf = tree.DecisionTreeClassifier()\n",
    "treeclf.fit(census_train, census_target_train)"
   ]
  },
  {
   "cell_type": "code",
   "execution_count": 40,
   "metadata": {},
   "outputs": [
    {
     "name": "stdout",
     "output_type": "stream",
     "text": [
      "[[1196  221]\n",
      " [ 256  210]]\n"
     ]
    }
   ],
   "source": [
    "#predict labels for test data, generate confusion matrix\n",
    "treepreds_test = treeclf.predict(census_test)\n",
    "treecm = confusion_matrix(census_target_test, treepreds_test)\n",
    "print(treecm)"
   ]
  },
  {
   "cell_type": "code",
   "execution_count": 41,
   "metadata": {},
   "outputs": [
    {
     "data": {
      "text/plain": [
       "Text(0.5, 0, 'Predicted')"
      ]
     },
     "execution_count": 41,
     "metadata": {},
     "output_type": "execute_result"
    },
    {
     "data": {
      "image/png": "[encoded data removed]",
      "text/plain": [
       "<Figure size 288x288 with 2 Axes>"
      ]
     },
     "metadata": {
      "needs_background": "light"
     },
     "output_type": "display_data"
    }
   ],
   "source": [
    "#Graph CM\n",
    "plt.matshow(treecm)\n",
    "plt.title('Confusion matrix')\n",
    "plt.colorbar()\n",
    "plt.ylabel('Actual')\n",
    "plt.xlabel('Predicted')"
   ]
  },
  {
   "cell_type": "code",
   "execution_count": 42,
   "metadata": {},
   "outputs": [
    {
     "name": "stdout",
     "output_type": "stream",
     "text": [
      "              precision    recall  f1-score   support\n",
      "\n",
      "       <=50K       0.82      0.84      0.83      1417\n",
      "        >50K       0.49      0.45      0.47       466\n",
      "\n",
      "    accuracy                           0.75      1883\n",
      "   macro avg       0.66      0.65      0.65      1883\n",
      "weighted avg       0.74      0.75      0.74      1883\n",
      "\n"
     ]
    }
   ],
   "source": [
    "#Classification Report\n",
    "print(classification_report(census_target_test, treepreds_test))"
   ]
  },
  {
   "cell_type": "code",
   "execution_count": 43,
   "metadata": {},
   "outputs": [
    {
     "data": {
      "text/plain": [
       "0.9432859609509895"
      ]
     },
     "execution_count": 43,
     "metadata": {},
     "output_type": "execute_result"
    }
   ],
   "source": [
    "#Train Score\n",
    "treeclf.score(census_train, census_target_train)"
   ]
  },
  {
   "cell_type": "code",
   "execution_count": 44,
   "metadata": {},
   "outputs": [
    {
     "data": {
      "text/plain": [
       "0.7466808284652151"
      ]
     },
     "execution_count": 44,
     "metadata": {},
     "output_type": "execute_result"
    }
   ],
   "source": [
    "#Test Score\n",
    "treeclf.score(census_test, census_target_test)"
   ]
  },
  {
   "cell_type": "markdown",
   "metadata": {},
   "source": [
    "#### Comparison of Train/Test Scores\n",
    "The train accuracy score of .94 versus the test score of .75 shows that our current model is likely overfitting the training data. This is because it does significantly worse when trying to classify unseen data, or the test data. Therefore, this model has high variance and low bias since we pay too much attention to the training data and don't generalize enough for the unseen data"
   ]
  },
  {
   "cell_type": "code",
   "execution_count": 45,
   "metadata": {},
   "outputs": [
    {
     "data": {
      "text/plain": [
       "DecisionTreeClassifier(max_depth=4, min_samples_split=10)"
      ]
     },
     "execution_count": 45,
     "metadata": {},
     "output_type": "execute_result"
    }
   ],
   "source": [
    "#Second classifier with criteria\n",
    "treeclf2 = tree.DecisionTreeClassifier(criterion='gini', min_samples_split=10, max_depth=4)\n",
    "treeclf2.fit(census_train, census_target_train)"
   ]
  },
  {
   "cell_type": "code",
   "execution_count": 46,
   "metadata": {},
   "outputs": [
    {
     "data": {
      "text/plain": [
       "0.817638464603533"
      ]
     },
     "execution_count": 46,
     "metadata": {},
     "output_type": "execute_result"
    }
   ],
   "source": [
    "#Train Score\n",
    "treeclf2.score(census_train, census_target_train)"
   ]
  },
  {
   "cell_type": "code",
   "execution_count": 47,
   "metadata": {},
   "outputs": [
    {
     "data": {
      "text/plain": [
       "0.8130642591609134"
      ]
     },
     "execution_count": 47,
     "metadata": {},
     "output_type": "execute_result"
    }
   ],
   "source": [
    "#Test Score\n",
    "treeclf2.score(census_test, census_target_test)"
   ]
  },
  {
   "cell_type": "code",
   "execution_count": 48,
   "metadata": {},
   "outputs": [
    {
     "name": "stdout",
     "output_type": "stream",
     "text": [
      "Requirement already satisfied: graphviz in /Users/bgxc123/Desktop/anaconda3/lib/python3.8/site-packages (0.20.1)\n",
      "Note: you may need to restart the kernel to use updated packages.\n"
     ]
    }
   ],
   "source": [
    "pip install graphviz"
   ]
  },
  {
   "cell_type": "code",
   "execution_count": 49,
   "metadata": {},
   "outputs": [],
   "source": [
    "import graphviz"
   ]
  },
  {
   "cell_type": "code",
   "execution_count": 50,
   "metadata": {},
   "outputs": [],
   "source": [
    "from sklearn.tree import export_graphviz"
   ]
  },
  {
   "cell_type": "code",
   "execution_count": 51,
   "metadata": {},
   "outputs": [
    {
     "data": {
      "image/svg+xml": [
       "<?xml version=\"1.0\" encoding=\"UTF-8\" standalone=\"no\"?>\n",
       "<!DOCTYPE svg PUBLIC \"-//W3C//DTD SVG 1.1//EN\"\n",
       " \"http://www.w3.org/Graphics/SVG/1.1/DTD/svg11.dtd\">\n",
       "<!-- Generated by graphviz version 6.0.1 (20220911.1526)\n",
       " -->\n",
       "<!-- Title: Tree Pages: 1 -->\n",
       "<svg width=\"2038pt\" height=\"552pt\"\n",
       " viewBox=\"0.00 0.00 2037.50 552.00\" xmlns=\"http://www.w3.org/2000/svg\" xmlns:xlink=\"http://www.w3.org/1999/xlink\">\n",
       "<g id=\"graph0\" class=\"graph\" transform=\"scale(1 1) rotate(0) translate(4 548)\">\n",
       "<title>Tree</title>\n",
       "<polygon fill=\"white\" stroke=\"none\" points=\"-4,4 -4,-548 2033.5,-548 2033.5,4 -4,4\"/>\n",
       "<!-- 0 -->\n",
       "<g id=\"node1\" class=\"node\">\n",
       "<title>0</title>\n",
       "<polygon fill=\"none\" stroke=\"black\" points=\"1116.5,-544 943.5,-544 943.5,-461 1116.5,-461 1116.5,-544\"/>\n",
       "<text text-anchor=\"middle\" x=\"1030\" y=\"-528.8\" font-family=\"Times,serif\" font-size=\"14.00\">marital&#45;status_Single &lt;= 0.5</text>\n",
       "<text text-anchor=\"middle\" x=\"1030\" y=\"-513.8\" font-family=\"Times,serif\" font-size=\"14.00\">gini = 0.371</text>\n",
       "<text text-anchor=\"middle\" x=\"1030\" y=\"-498.8\" font-family=\"Times,serif\" font-size=\"14.00\">samples = 7529</text>\n",
       "<text text-anchor=\"middle\" x=\"1030\" y=\"-483.8\" font-family=\"Times,serif\" font-size=\"14.00\">value = [5676, 1853]</text>\n",
       "<text text-anchor=\"middle\" x=\"1030\" y=\"-468.8\" font-family=\"Times,serif\" font-size=\"14.00\">class = No</text>\n",
       "</g>\n",
       "<!-- 1 -->\n",
       "<g id=\"node2\" class=\"node\">\n",
       "<title>1</title>\n",
       "<polygon fill=\"none\" stroke=\"black\" points=\"836,-425 704,-425 704,-342 836,-342 836,-425\"/>\n",
       "<text text-anchor=\"middle\" x=\"770\" y=\"-409.8\" font-family=\"Times,serif\" font-size=\"14.00\">education &lt;= 11.5</text>\n",
       "<text text-anchor=\"middle\" x=\"770\" y=\"-394.8\" font-family=\"Times,serif\" font-size=\"14.00\">gini = 0.489</text>\n",
       "<text text-anchor=\"middle\" x=\"770\" y=\"-379.8\" font-family=\"Times,serif\" font-size=\"14.00\">samples = 3779</text>\n",
       "<text text-anchor=\"middle\" x=\"770\" y=\"-364.8\" font-family=\"Times,serif\" font-size=\"14.00\">value = [2167, 1612]</text>\n",
       "<text text-anchor=\"middle\" x=\"770\" y=\"-349.8\" font-family=\"Times,serif\" font-size=\"14.00\">class = No</text>\n",
       "</g>\n",
       "<!-- 0&#45;&gt;1 -->\n",
       "<g id=\"edge1\" class=\"edge\">\n",
       "<title>0&#45;&gt;1</title>\n",
       "<path fill=\"none\" stroke=\"black\" d=\"M943.42,-462.54C911.7,-448.26 876.07,-432.23 845.4,-418.43\"/>\n",
       "<polygon fill=\"black\" stroke=\"black\" points=\"846.6,-415.13 836.05,-414.22 843.73,-421.52 846.6,-415.13\"/>\n",
       "<text text-anchor=\"middle\" x=\"844.91\" y=\"-433.9\" font-family=\"Times,serif\" font-size=\"14.00\">True</text>\n",
       "</g>\n",
       "<!-- 16 -->\n",
       "<g id=\"node17\" class=\"node\">\n",
       "<title>16</title>\n",
       "<polygon fill=\"none\" stroke=\"black\" points=\"1352.5,-425 1227.5,-425 1227.5,-342 1352.5,-342 1352.5,-425\"/>\n",
       "<text text-anchor=\"middle\" x=\"1290\" y=\"-409.8\" font-family=\"Times,serif\" font-size=\"14.00\">education &lt;= 13.5</text>\n",
       "<text text-anchor=\"middle\" x=\"1290\" y=\"-394.8\" font-family=\"Times,serif\" font-size=\"14.00\">gini = 0.12</text>\n",
       "<text text-anchor=\"middle\" x=\"1290\" y=\"-379.8\" font-family=\"Times,serif\" font-size=\"14.00\">samples = 3750</text>\n",
       "<text text-anchor=\"middle\" x=\"1290\" y=\"-364.8\" font-family=\"Times,serif\" font-size=\"14.00\">value = [3509, 241]</text>\n",
       "<text text-anchor=\"middle\" x=\"1290\" y=\"-349.8\" font-family=\"Times,serif\" font-size=\"14.00\">class = No</text>\n",
       "</g>\n",
       "<!-- 0&#45;&gt;16 -->\n",
       "<g id=\"edge16\" class=\"edge\">\n",
       "<title>0&#45;&gt;16</title>\n",
       "<path fill=\"none\" stroke=\"black\" d=\"M1116.58,-462.54C1149.52,-447.72 1186.66,-431 1218.1,-416.86\"/>\n",
       "<polygon fill=\"black\" stroke=\"black\" points=\"1219.55,-420.04 1227.23,-412.75 1216.67,-413.66 1219.55,-420.04\"/>\n",
       "<text text-anchor=\"middle\" x=\"1218.36\" y=\"-432.42\" font-family=\"Times,serif\" font-size=\"14.00\">False</text>\n",
       "</g>\n",
       "<!-- 2 -->\n",
       "<g id=\"node3\" class=\"node\">\n",
       "<title>2</title>\n",
       "<polygon fill=\"none\" stroke=\"black\" points=\"436.5,-306 311.5,-306 311.5,-223 436.5,-223 436.5,-306\"/>\n",
       "<text text-anchor=\"middle\" x=\"374\" y=\"-290.8\" font-family=\"Times,serif\" font-size=\"14.00\">education &lt;= 8.5</text>\n",
       "<text text-anchor=\"middle\" x=\"374\" y=\"-275.8\" font-family=\"Times,serif\" font-size=\"14.00\">gini = 0.425</text>\n",
       "<text text-anchor=\"middle\" x=\"374\" y=\"-260.8\" font-family=\"Times,serif\" font-size=\"14.00\">samples = 2558</text>\n",
       "<text text-anchor=\"middle\" x=\"374\" y=\"-245.8\" font-family=\"Times,serif\" font-size=\"14.00\">value = [1774, 784]</text>\n",
       "<text text-anchor=\"middle\" x=\"374\" y=\"-230.8\" font-family=\"Times,serif\" font-size=\"14.00\">class = No</text>\n",
       "</g>\n",
       "<!-- 1&#45;&gt;2 -->\n",
       "<g id=\"edge2\" class=\"edge\">\n",
       "<title>1&#45;&gt;2</title>\n",
       "<path fill=\"none\" stroke=\"black\" d=\"M703.72,-362.92C632.5,-341.87 519.66,-308.54 446.22,-286.84\"/>\n",
       "<polygon fill=\"black\" stroke=\"black\" points=\"447.16,-283.46 436.57,-283.99 445.17,-290.18 447.16,-283.46\"/>\n",
       "</g>\n",
       "<!-- 9 -->\n",
       "<g id=\"node10\" class=\"node\">\n",
       "<title>9</title>\n",
       "<polygon fill=\"none\" stroke=\"black\" points=\"844.5,-306 695.5,-306 695.5,-223 844.5,-223 844.5,-306\"/>\n",
       "<text text-anchor=\"middle\" x=\"770\" y=\"-290.8\" font-family=\"Times,serif\" font-size=\"14.00\">hours&#45;per&#45;week &lt;= 41.0</text>\n",
       "<text text-anchor=\"middle\" x=\"770\" y=\"-275.8\" font-family=\"Times,serif\" font-size=\"14.00\">gini = 0.437</text>\n",
       "<text text-anchor=\"middle\" x=\"770\" y=\"-260.8\" font-family=\"Times,serif\" font-size=\"14.00\">samples = 1221</text>\n",
       "<text text-anchor=\"middle\" x=\"770\" y=\"-245.8\" font-family=\"Times,serif\" font-size=\"14.00\">value = [393, 828]</text>\n",
       "<text text-anchor=\"middle\" x=\"770\" y=\"-230.8\" font-family=\"Times,serif\" font-size=\"14.00\">class = Yes</text>\n",
       "</g>\n",
       "<!-- 1&#45;&gt;9 -->\n",
       "<g id=\"edge9\" class=\"edge\">\n",
       "<title>1&#45;&gt;9</title>\n",
       "<path fill=\"none\" stroke=\"black\" d=\"M770,-341.91C770,-333.65 770,-324.86 770,-316.3\"/>\n",
       "<polygon fill=\"black\" stroke=\"black\" points=\"773.5,-316.02 770,-306.02 766.5,-316.02 773.5,-316.02\"/>\n",
       "</g>\n",
       "<!-- 3 -->\n",
       "<g id=\"node4\" class=\"node\">\n",
       "<title>3</title>\n",
       "<polygon fill=\"none\" stroke=\"black\" points=\"228,-187 116,-187 116,-104 228,-104 228,-187\"/>\n",
       "<text text-anchor=\"middle\" x=\"172\" y=\"-171.8\" font-family=\"Times,serif\" font-size=\"14.00\">age &lt;= 33.5</text>\n",
       "<text text-anchor=\"middle\" x=\"172\" y=\"-156.8\" font-family=\"Times,serif\" font-size=\"14.00\">gini = 0.198</text>\n",
       "<text text-anchor=\"middle\" x=\"172\" y=\"-141.8\" font-family=\"Times,serif\" font-size=\"14.00\">samples = 440</text>\n",
       "<text text-anchor=\"middle\" x=\"172\" y=\"-126.8\" font-family=\"Times,serif\" font-size=\"14.00\">value = [391, 49]</text>\n",
       "<text text-anchor=\"middle\" x=\"172\" y=\"-111.8\" font-family=\"Times,serif\" font-size=\"14.00\">class = No</text>\n",
       "</g>\n",
       "<!-- 2&#45;&gt;3 -->\n",
       "<g id=\"edge3\" class=\"edge\">\n",
       "<title>2&#45;&gt;3</title>\n",
       "<path fill=\"none\" stroke=\"black\" d=\"M311.47,-227.28C287.73,-213.53 260.67,-197.86 236.73,-183.99\"/>\n",
       "<polygon fill=\"black\" stroke=\"black\" points=\"238.48,-180.96 228.07,-178.98 234.97,-187.02 238.48,-180.96\"/>\n",
       "</g>\n",
       "<!-- 6 -->\n",
       "<g id=\"node7\" class=\"node\">\n",
       "<title>6</title>\n",
       "<polygon fill=\"none\" stroke=\"black\" points=\"436.5,-187 311.5,-187 311.5,-104 436.5,-104 436.5,-187\"/>\n",
       "<text text-anchor=\"middle\" x=\"374\" y=\"-171.8\" font-family=\"Times,serif\" font-size=\"14.00\">age &lt;= 31.5</text>\n",
       "<text text-anchor=\"middle\" x=\"374\" y=\"-156.8\" font-family=\"Times,serif\" font-size=\"14.00\">gini = 0.453</text>\n",
       "<text text-anchor=\"middle\" x=\"374\" y=\"-141.8\" font-family=\"Times,serif\" font-size=\"14.00\">samples = 2118</text>\n",
       "<text text-anchor=\"middle\" x=\"374\" y=\"-126.8\" font-family=\"Times,serif\" font-size=\"14.00\">value = [1383, 735]</text>\n",
       "<text text-anchor=\"middle\" x=\"374\" y=\"-111.8\" font-family=\"Times,serif\" font-size=\"14.00\">class = No</text>\n",
       "</g>\n",
       "<!-- 2&#45;&gt;6 -->\n",
       "<g id=\"edge6\" class=\"edge\">\n",
       "<title>2&#45;&gt;6</title>\n",
       "<path fill=\"none\" stroke=\"black\" d=\"M374,-222.91C374,-214.65 374,-205.86 374,-197.3\"/>\n",
       "<polygon fill=\"black\" stroke=\"black\" points=\"377.5,-197.02 374,-187.02 370.5,-197.02 377.5,-197.02\"/>\n",
       "</g>\n",
       "<!-- 4 -->\n",
       "<g id=\"node5\" class=\"node\">\n",
       "<title>4</title>\n",
       "<polygon fill=\"none\" stroke=\"black\" points=\"98,-68 0,-68 0,0 98,0 98,-68\"/>\n",
       "<text text-anchor=\"middle\" x=\"49\" y=\"-52.8\" font-family=\"Times,serif\" font-size=\"14.00\">gini = 0.041</text>\n",
       "<text text-anchor=\"middle\" x=\"49\" y=\"-37.8\" font-family=\"Times,serif\" font-size=\"14.00\">samples = 96</text>\n",
       "<text text-anchor=\"middle\" x=\"49\" y=\"-22.8\" font-family=\"Times,serif\" font-size=\"14.00\">value = [94, 2]</text>\n",
       "<text text-anchor=\"middle\" x=\"49\" y=\"-7.8\" font-family=\"Times,serif\" font-size=\"14.00\">class = No</text>\n",
       "</g>\n",
       "<!-- 3&#45;&gt;4 -->\n",
       "<g id=\"edge4\" class=\"edge\">\n",
       "<title>3&#45;&gt;4</title>\n",
       "<path fill=\"none\" stroke=\"black\" d=\"M126.2,-103.73C115.65,-94.33 104.43,-84.35 93.92,-74.99\"/>\n",
       "<polygon fill=\"black\" stroke=\"black\" points=\"96.2,-72.33 86.41,-68.3 91.55,-77.56 96.2,-72.33\"/>\n",
       "</g>\n",
       "<!-- 5 -->\n",
       "<g id=\"node6\" class=\"node\">\n",
       "<title>5</title>\n",
       "<polygon fill=\"none\" stroke=\"black\" points=\"228,-68 116,-68 116,0 228,0 228,-68\"/>\n",
       "<text text-anchor=\"middle\" x=\"172\" y=\"-52.8\" font-family=\"Times,serif\" font-size=\"14.00\">gini = 0.236</text>\n",
       "<text text-anchor=\"middle\" x=\"172\" y=\"-37.8\" font-family=\"Times,serif\" font-size=\"14.00\">samples = 344</text>\n",
       "<text text-anchor=\"middle\" x=\"172\" y=\"-22.8\" font-family=\"Times,serif\" font-size=\"14.00\">value = [297, 47]</text>\n",
       "<text text-anchor=\"middle\" x=\"172\" y=\"-7.8\" font-family=\"Times,serif\" font-size=\"14.00\">class = No</text>\n",
       "</g>\n",
       "<!-- 3&#45;&gt;5 -->\n",
       "<g id=\"edge5\" class=\"edge\">\n",
       "<title>3&#45;&gt;5</title>\n",
       "<path fill=\"none\" stroke=\"black\" d=\"M172,-103.73C172,-95.52 172,-86.86 172,-78.56\"/>\n",
       "<polygon fill=\"black\" stroke=\"black\" points=\"175.5,-78.3 172,-68.3 168.5,-78.3 175.5,-78.3\"/>\n",
       "</g>\n",
       "<!-- 7 -->\n",
       "<g id=\"node8\" class=\"node\">\n",
       "<title>7</title>\n",
       "<polygon fill=\"none\" stroke=\"black\" points=\"358,-68 246,-68 246,0 358,0 358,-68\"/>\n",
       "<text text-anchor=\"middle\" x=\"302\" y=\"-52.8\" font-family=\"Times,serif\" font-size=\"14.00\">gini = 0.291</text>\n",
       "<text text-anchor=\"middle\" x=\"302\" y=\"-37.8\" font-family=\"Times,serif\" font-size=\"14.00\">samples = 401</text>\n",
       "<text text-anchor=\"middle\" x=\"302\" y=\"-22.8\" font-family=\"Times,serif\" font-size=\"14.00\">value = [330, 71]</text>\n",
       "<text text-anchor=\"middle\" x=\"302\" y=\"-7.8\" font-family=\"Times,serif\" font-size=\"14.00\">class = No</text>\n",
       "</g>\n",
       "<!-- 6&#45;&gt;7 -->\n",
       "<g id=\"edge7\" class=\"edge\">\n",
       "<title>6&#45;&gt;7</title>\n",
       "<path fill=\"none\" stroke=\"black\" d=\"M347.19,-103.73C341.43,-94.97 335.34,-85.7 329.55,-76.91\"/>\n",
       "<polygon fill=\"black\" stroke=\"black\" points=\"332.31,-74.73 323.9,-68.3 326.47,-78.58 332.31,-74.73\"/>\n",
       "</g>\n",
       "<!-- 8 -->\n",
       "<g id=\"node9\" class=\"node\">\n",
       "<title>8</title>\n",
       "<polygon fill=\"none\" stroke=\"black\" points=\"501.5,-68 376.5,-68 376.5,0 501.5,0 501.5,-68\"/>\n",
       "<text text-anchor=\"middle\" x=\"439\" y=\"-52.8\" font-family=\"Times,serif\" font-size=\"14.00\">gini = 0.474</text>\n",
       "<text text-anchor=\"middle\" x=\"439\" y=\"-37.8\" font-family=\"Times,serif\" font-size=\"14.00\">samples = 1717</text>\n",
       "<text text-anchor=\"middle\" x=\"439\" y=\"-22.8\" font-family=\"Times,serif\" font-size=\"14.00\">value = [1053, 664]</text>\n",
       "<text text-anchor=\"middle\" x=\"439\" y=\"-7.8\" font-family=\"Times,serif\" font-size=\"14.00\">class = No</text>\n",
       "</g>\n",
       "<!-- 6&#45;&gt;8 -->\n",
       "<g id=\"edge8\" class=\"edge\">\n",
       "<title>6&#45;&gt;8</title>\n",
       "<path fill=\"none\" stroke=\"black\" d=\"M398.2,-103.73C403.4,-94.97 408.9,-85.7 414.12,-76.91\"/>\n",
       "<polygon fill=\"black\" stroke=\"black\" points=\"417.14,-78.69 419.23,-68.3 411.12,-75.11 417.14,-78.69\"/>\n",
       "</g>\n",
       "<!-- 10 -->\n",
       "<g id=\"node11\" class=\"node\">\n",
       "<title>10</title>\n",
       "<polygon fill=\"none\" stroke=\"black\" points=\"761.5,-187 642.5,-187 642.5,-104 761.5,-104 761.5,-187\"/>\n",
       "<text text-anchor=\"middle\" x=\"702\" y=\"-171.8\" font-family=\"Times,serif\" font-size=\"14.00\">age &lt;= 28.5</text>\n",
       "<text text-anchor=\"middle\" x=\"702\" y=\"-156.8\" font-family=\"Times,serif\" font-size=\"14.00\">gini = 0.482</text>\n",
       "<text text-anchor=\"middle\" x=\"702\" y=\"-141.8\" font-family=\"Times,serif\" font-size=\"14.00\">samples = 656</text>\n",
       "<text text-anchor=\"middle\" x=\"702\" y=\"-126.8\" font-family=\"Times,serif\" font-size=\"14.00\">value = [265, 391]</text>\n",
       "<text text-anchor=\"middle\" x=\"702\" y=\"-111.8\" font-family=\"Times,serif\" font-size=\"14.00\">class = Yes</text>\n",
       "</g>\n",
       "<!-- 9&#45;&gt;10 -->\n",
       "<g id=\"edge10\" class=\"edge\">\n",
       "<title>9&#45;&gt;10</title>\n",
       "<path fill=\"none\" stroke=\"black\" d=\"M746.41,-222.91C741.34,-214.2 735.94,-204.9 730.71,-195.89\"/>\n",
       "<polygon fill=\"black\" stroke=\"black\" points=\"733.6,-193.91 725.55,-187.02 727.55,-197.43 733.6,-193.91\"/>\n",
       "</g>\n",
       "<!-- 13 -->\n",
       "<g id=\"node14\" class=\"node\">\n",
       "<title>13</title>\n",
       "<polygon fill=\"none\" stroke=\"black\" points=\"898.5,-187 779.5,-187 779.5,-104 898.5,-104 898.5,-187\"/>\n",
       "<text text-anchor=\"middle\" x=\"839\" y=\"-171.8\" font-family=\"Times,serif\" font-size=\"14.00\">education &lt;= 14.5</text>\n",
       "<text text-anchor=\"middle\" x=\"839\" y=\"-156.8\" font-family=\"Times,serif\" font-size=\"14.00\">gini = 0.35</text>\n",
       "<text text-anchor=\"middle\" x=\"839\" y=\"-141.8\" font-family=\"Times,serif\" font-size=\"14.00\">samples = 565</text>\n",
       "<text text-anchor=\"middle\" x=\"839\" y=\"-126.8\" font-family=\"Times,serif\" font-size=\"14.00\">value = [128, 437]</text>\n",
       "<text text-anchor=\"middle\" x=\"839\" y=\"-111.8\" font-family=\"Times,serif\" font-size=\"14.00\">class = Yes</text>\n",
       "</g>\n",
       "<!-- 9&#45;&gt;13 -->\n",
       "<g id=\"edge13\" class=\"edge\">\n",
       "<title>9&#45;&gt;13</title>\n",
       "<path fill=\"none\" stroke=\"black\" d=\"M793.94,-222.91C799.08,-214.2 804.56,-204.9 809.87,-195.89\"/>\n",
       "<polygon fill=\"black\" stroke=\"black\" points=\"813.04,-197.41 815.1,-187.02 807.01,-193.86 813.04,-197.41\"/>\n",
       "</g>\n",
       "<!-- 11 -->\n",
       "<g id=\"node12\" class=\"node\">\n",
       "<title>11</title>\n",
       "<polygon fill=\"none\" stroke=\"black\" points=\"624.5,-68 519.5,-68 519.5,0 624.5,0 624.5,-68\"/>\n",
       "<text text-anchor=\"middle\" x=\"572\" y=\"-52.8\" font-family=\"Times,serif\" font-size=\"14.00\">gini = 0.395</text>\n",
       "<text text-anchor=\"middle\" x=\"572\" y=\"-37.8\" font-family=\"Times,serif\" font-size=\"14.00\">samples = 48</text>\n",
       "<text text-anchor=\"middle\" x=\"572\" y=\"-22.8\" font-family=\"Times,serif\" font-size=\"14.00\">value = [35, 13]</text>\n",
       "<text text-anchor=\"middle\" x=\"572\" y=\"-7.8\" font-family=\"Times,serif\" font-size=\"14.00\">class = No</text>\n",
       "</g>\n",
       "<!-- 10&#45;&gt;11 -->\n",
       "<g id=\"edge11\" class=\"edge\">\n",
       "<title>10&#45;&gt;11</title>\n",
       "<path fill=\"none\" stroke=\"black\" d=\"M653.59,-103.73C642.44,-94.33 630.59,-84.35 619.47,-74.99\"/>\n",
       "<polygon fill=\"black\" stroke=\"black\" points=\"621.44,-72.06 611.53,-68.3 616.93,-77.42 621.44,-72.06\"/>\n",
       "</g>\n",
       "<!-- 12 -->\n",
       "<g id=\"node13\" class=\"node\">\n",
       "<title>12</title>\n",
       "<polygon fill=\"none\" stroke=\"black\" points=\"761.5,-68 642.5,-68 642.5,0 761.5,0 761.5,-68\"/>\n",
       "<text text-anchor=\"middle\" x=\"702\" y=\"-52.8\" font-family=\"Times,serif\" font-size=\"14.00\">gini = 0.47</text>\n",
       "<text text-anchor=\"middle\" x=\"702\" y=\"-37.8\" font-family=\"Times,serif\" font-size=\"14.00\">samples = 608</text>\n",
       "<text text-anchor=\"middle\" x=\"702\" y=\"-22.8\" font-family=\"Times,serif\" font-size=\"14.00\">value = [230, 378]</text>\n",
       "<text text-anchor=\"middle\" x=\"702\" y=\"-7.8\" font-family=\"Times,serif\" font-size=\"14.00\">class = Yes</text>\n",
       "</g>\n",
       "<!-- 10&#45;&gt;12 -->\n",
       "<g id=\"edge12\" class=\"edge\">\n",
       "<title>10&#45;&gt;12</title>\n",
       "<path fill=\"none\" stroke=\"black\" d=\"M702,-103.73C702,-95.52 702,-86.86 702,-78.56\"/>\n",
       "<polygon fill=\"black\" stroke=\"black\" points=\"705.5,-78.3 702,-68.3 698.5,-78.3 705.5,-78.3\"/>\n",
       "</g>\n",
       "<!-- 14 -->\n",
       "<g id=\"node15\" class=\"node\">\n",
       "<title>14</title>\n",
       "<polygon fill=\"none\" stroke=\"black\" points=\"898.5,-68 779.5,-68 779.5,0 898.5,0 898.5,-68\"/>\n",
       "<text text-anchor=\"middle\" x=\"839\" y=\"-52.8\" font-family=\"Times,serif\" font-size=\"14.00\">gini = 0.381</text>\n",
       "<text text-anchor=\"middle\" x=\"839\" y=\"-37.8\" font-family=\"Times,serif\" font-size=\"14.00\">samples = 469</text>\n",
       "<text text-anchor=\"middle\" x=\"839\" y=\"-22.8\" font-family=\"Times,serif\" font-size=\"14.00\">value = [120, 349]</text>\n",
       "<text text-anchor=\"middle\" x=\"839\" y=\"-7.8\" font-family=\"Times,serif\" font-size=\"14.00\">class = Yes</text>\n",
       "</g>\n",
       "<!-- 13&#45;&gt;14 -->\n",
       "<g id=\"edge14\" class=\"edge\">\n",
       "<title>13&#45;&gt;14</title>\n",
       "<path fill=\"none\" stroke=\"black\" d=\"M839,-103.73C839,-95.52 839,-86.86 839,-78.56\"/>\n",
       "<polygon fill=\"black\" stroke=\"black\" points=\"842.5,-78.3 839,-68.3 835.5,-78.3 842.5,-78.3\"/>\n",
       "</g>\n",
       "<!-- 15 -->\n",
       "<g id=\"node16\" class=\"node\">\n",
       "<title>15</title>\n",
       "<polygon fill=\"none\" stroke=\"black\" points=\"1015,-68 917,-68 917,0 1015,0 1015,-68\"/>\n",
       "<text text-anchor=\"middle\" x=\"966\" y=\"-52.8\" font-family=\"Times,serif\" font-size=\"14.00\">gini = 0.153</text>\n",
       "<text text-anchor=\"middle\" x=\"966\" y=\"-37.8\" font-family=\"Times,serif\" font-size=\"14.00\">samples = 96</text>\n",
       "<text text-anchor=\"middle\" x=\"966\" y=\"-22.8\" font-family=\"Times,serif\" font-size=\"14.00\">value = [8, 88]</text>\n",
       "<text text-anchor=\"middle\" x=\"966\" y=\"-7.8\" font-family=\"Times,serif\" font-size=\"14.00\">class = Yes</text>\n",
       "</g>\n",
       "<!-- 13&#45;&gt;15 -->\n",
       "<g id=\"edge15\" class=\"edge\">\n",
       "<title>13&#45;&gt;15</title>\n",
       "<path fill=\"none\" stroke=\"black\" d=\"M886.29,-103.73C897.19,-94.33 908.76,-84.35 919.62,-74.99\"/>\n",
       "<polygon fill=\"black\" stroke=\"black\" points=\"922.09,-77.48 927.38,-68.3 917.52,-72.18 922.09,-77.48\"/>\n",
       "</g>\n",
       "<!-- 17 -->\n",
       "<g id=\"node18\" class=\"node\">\n",
       "<title>17</title>\n",
       "<polygon fill=\"none\" stroke=\"black\" points=\"1352.5,-306 1227.5,-306 1227.5,-223 1352.5,-223 1352.5,-306\"/>\n",
       "<text text-anchor=\"middle\" x=\"1290\" y=\"-290.8\" font-family=\"Times,serif\" font-size=\"14.00\">education &lt;= 12.5</text>\n",
       "<text text-anchor=\"middle\" x=\"1290\" y=\"-275.8\" font-family=\"Times,serif\" font-size=\"14.00\">gini = 0.084</text>\n",
       "<text text-anchor=\"middle\" x=\"1290\" y=\"-260.8\" font-family=\"Times,serif\" font-size=\"14.00\">samples = 3531</text>\n",
       "<text text-anchor=\"middle\" x=\"1290\" y=\"-245.8\" font-family=\"Times,serif\" font-size=\"14.00\">value = [3376, 155]</text>\n",
       "<text text-anchor=\"middle\" x=\"1290\" y=\"-230.8\" font-family=\"Times,serif\" font-size=\"14.00\">class = No</text>\n",
       "</g>\n",
       "<!-- 16&#45;&gt;17 -->\n",
       "<g id=\"edge17\" class=\"edge\">\n",
       "<title>16&#45;&gt;17</title>\n",
       "<path fill=\"none\" stroke=\"black\" d=\"M1290,-341.91C1290,-333.65 1290,-324.86 1290,-316.3\"/>\n",
       "<polygon fill=\"black\" stroke=\"black\" points=\"1293.5,-316.02 1290,-306.02 1286.5,-316.02 1293.5,-316.02\"/>\n",
       "</g>\n",
       "<!-- 24 -->\n",
       "<g id=\"node25\" class=\"node\">\n",
       "<title>24</title>\n",
       "<polygon fill=\"none\" stroke=\"black\" points=\"1730.5,-306 1613.5,-306 1613.5,-223 1730.5,-223 1730.5,-306\"/>\n",
       "<text text-anchor=\"middle\" x=\"1672\" y=\"-290.8\" font-family=\"Times,serif\" font-size=\"14.00\">education &lt;= 14.5</text>\n",
       "<text text-anchor=\"middle\" x=\"1672\" y=\"-275.8\" font-family=\"Times,serif\" font-size=\"14.00\">gini = 0.477</text>\n",
       "<text text-anchor=\"middle\" x=\"1672\" y=\"-260.8\" font-family=\"Times,serif\" font-size=\"14.00\">samples = 219</text>\n",
       "<text text-anchor=\"middle\" x=\"1672\" y=\"-245.8\" font-family=\"Times,serif\" font-size=\"14.00\">value = [133, 86]</text>\n",
       "<text text-anchor=\"middle\" x=\"1672\" y=\"-230.8\" font-family=\"Times,serif\" font-size=\"14.00\">class = No</text>\n",
       "</g>\n",
       "<!-- 16&#45;&gt;24 -->\n",
       "<g id=\"edge24\" class=\"edge\">\n",
       "<title>16&#45;&gt;24</title>\n",
       "<path fill=\"none\" stroke=\"black\" d=\"M1352.65,-363.31C1421.69,-342.17 1532.36,-308.27 1603.61,-286.45\"/>\n",
       "<polygon fill=\"black\" stroke=\"black\" points=\"1604.86,-289.73 1613.39,-283.45 1602.81,-283.03 1604.86,-289.73\"/>\n",
       "</g>\n",
       "<!-- 18 -->\n",
       "<g id=\"node19\" class=\"node\">\n",
       "<title>18</title>\n",
       "<polygon fill=\"none\" stroke=\"black\" points=\"1282.5,-187 1163.5,-187 1163.5,-104 1282.5,-104 1282.5,-187\"/>\n",
       "<text text-anchor=\"middle\" x=\"1223\" y=\"-171.8\" font-family=\"Times,serif\" font-size=\"14.00\">age &lt;= 31.5</text>\n",
       "<text text-anchor=\"middle\" x=\"1223\" y=\"-156.8\" font-family=\"Times,serif\" font-size=\"14.00\">gini = 0.053</text>\n",
       "<text text-anchor=\"middle\" x=\"1223\" y=\"-141.8\" font-family=\"Times,serif\" font-size=\"14.00\">samples = 2947</text>\n",
       "<text text-anchor=\"middle\" x=\"1223\" y=\"-126.8\" font-family=\"Times,serif\" font-size=\"14.00\">value = [2867, 80]</text>\n",
       "<text text-anchor=\"middle\" x=\"1223\" y=\"-111.8\" font-family=\"Times,serif\" font-size=\"14.00\">class = No</text>\n",
       "</g>\n",
       "<!-- 17&#45;&gt;18 -->\n",
       "<g id=\"edge18\" class=\"edge\">\n",
       "<title>17&#45;&gt;18</title>\n",
       "<path fill=\"none\" stroke=\"black\" d=\"M1266.75,-222.91C1261.77,-214.2 1256.44,-204.9 1251.29,-195.89\"/>\n",
       "<polygon fill=\"black\" stroke=\"black\" points=\"1254.21,-193.96 1246.2,-187.02 1248.14,-197.44 1254.21,-193.96\"/>\n",
       "</g>\n",
       "<!-- 21 -->\n",
       "<g id=\"node22\" class=\"node\">\n",
       "<title>21</title>\n",
       "<polygon fill=\"none\" stroke=\"black\" points=\"1413,-187 1301,-187 1301,-104 1413,-104 1413,-187\"/>\n",
       "<text text-anchor=\"middle\" x=\"1357\" y=\"-171.8\" font-family=\"Times,serif\" font-size=\"14.00\">age &lt;= 32.5</text>\n",
       "<text text-anchor=\"middle\" x=\"1357\" y=\"-156.8\" font-family=\"Times,serif\" font-size=\"14.00\">gini = 0.224</text>\n",
       "<text text-anchor=\"middle\" x=\"1357\" y=\"-141.8\" font-family=\"Times,serif\" font-size=\"14.00\">samples = 584</text>\n",
       "<text text-anchor=\"middle\" x=\"1357\" y=\"-126.8\" font-family=\"Times,serif\" font-size=\"14.00\">value = [509, 75]</text>\n",
       "<text text-anchor=\"middle\" x=\"1357\" y=\"-111.8\" font-family=\"Times,serif\" font-size=\"14.00\">class = No</text>\n",
       "</g>\n",
       "<!-- 17&#45;&gt;21 -->\n",
       "<g id=\"edge21\" class=\"edge\">\n",
       "<title>17&#45;&gt;21</title>\n",
       "<path fill=\"none\" stroke=\"black\" d=\"M1313.25,-222.91C1318.23,-214.2 1323.56,-204.9 1328.71,-195.89\"/>\n",
       "<polygon fill=\"black\" stroke=\"black\" points=\"1331.86,-197.44 1333.8,-187.02 1325.79,-193.96 1331.86,-197.44\"/>\n",
       "</g>\n",
       "<!-- 19 -->\n",
       "<g id=\"node20\" class=\"node\">\n",
       "<title>19</title>\n",
       "<polygon fill=\"none\" stroke=\"black\" points=\"1145,-68 1033,-68 1033,0 1145,0 1145,-68\"/>\n",
       "<text text-anchor=\"middle\" x=\"1089\" y=\"-52.8\" font-family=\"Times,serif\" font-size=\"14.00\">gini = 0.011</text>\n",
       "<text text-anchor=\"middle\" x=\"1089\" y=\"-37.8\" font-family=\"Times,serif\" font-size=\"14.00\">samples = 1600</text>\n",
       "<text text-anchor=\"middle\" x=\"1089\" y=\"-22.8\" font-family=\"Times,serif\" font-size=\"14.00\">value = [1591, 9]</text>\n",
       "<text text-anchor=\"middle\" x=\"1089\" y=\"-7.8\" font-family=\"Times,serif\" font-size=\"14.00\">class = No</text>\n",
       "</g>\n",
       "<!-- 18&#45;&gt;19 -->\n",
       "<g id=\"edge19\" class=\"edge\">\n",
       "<title>18&#45;&gt;19</title>\n",
       "<path fill=\"none\" stroke=\"black\" d=\"M1173.1,-103.73C1161.5,-94.24 1149.15,-84.16 1137.6,-74.72\"/>\n",
       "<polygon fill=\"black\" stroke=\"black\" points=\"1139.71,-71.92 1129.75,-68.3 1135.28,-77.34 1139.71,-71.92\"/>\n",
       "</g>\n",
       "<!-- 20 -->\n",
       "<g id=\"node21\" class=\"node\">\n",
       "<title>20</title>\n",
       "<polygon fill=\"none\" stroke=\"black\" points=\"1282.5,-68 1163.5,-68 1163.5,0 1282.5,0 1282.5,-68\"/>\n",
       "<text text-anchor=\"middle\" x=\"1223\" y=\"-52.8\" font-family=\"Times,serif\" font-size=\"14.00\">gini = 0.1</text>\n",
       "<text text-anchor=\"middle\" x=\"1223\" y=\"-37.8\" font-family=\"Times,serif\" font-size=\"14.00\">samples = 1347</text>\n",
       "<text text-anchor=\"middle\" x=\"1223\" y=\"-22.8\" font-family=\"Times,serif\" font-size=\"14.00\">value = [1276, 71]</text>\n",
       "<text text-anchor=\"middle\" x=\"1223\" y=\"-7.8\" font-family=\"Times,serif\" font-size=\"14.00\">class = No</text>\n",
       "</g>\n",
       "<!-- 18&#45;&gt;20 -->\n",
       "<g id=\"edge20\" class=\"edge\">\n",
       "<title>18&#45;&gt;20</title>\n",
       "<path fill=\"none\" stroke=\"black\" d=\"M1223,-103.73C1223,-95.52 1223,-86.86 1223,-78.56\"/>\n",
       "<polygon fill=\"black\" stroke=\"black\" points=\"1226.5,-78.3 1223,-68.3 1219.5,-78.3 1226.5,-78.3\"/>\n",
       "</g>\n",
       "<!-- 22 -->\n",
       "<g id=\"node23\" class=\"node\">\n",
       "<title>22</title>\n",
       "<polygon fill=\"none\" stroke=\"black\" points=\"1413,-68 1301,-68 1301,0 1413,0 1413,-68\"/>\n",
       "<text text-anchor=\"middle\" x=\"1357\" y=\"-52.8\" font-family=\"Times,serif\" font-size=\"14.00\">gini = 0.08</text>\n",
       "<text text-anchor=\"middle\" x=\"1357\" y=\"-37.8\" font-family=\"Times,serif\" font-size=\"14.00\">samples = 312</text>\n",
       "<text text-anchor=\"middle\" x=\"1357\" y=\"-22.8\" font-family=\"Times,serif\" font-size=\"14.00\">value = [299, 13]</text>\n",
       "<text text-anchor=\"middle\" x=\"1357\" y=\"-7.8\" font-family=\"Times,serif\" font-size=\"14.00\">class = No</text>\n",
       "</g>\n",
       "<!-- 21&#45;&gt;22 -->\n",
       "<g id=\"edge22\" class=\"edge\">\n",
       "<title>21&#45;&gt;22</title>\n",
       "<path fill=\"none\" stroke=\"black\" d=\"M1357,-103.73C1357,-95.52 1357,-86.86 1357,-78.56\"/>\n",
       "<polygon fill=\"black\" stroke=\"black\" points=\"1360.5,-78.3 1357,-68.3 1353.5,-78.3 1360.5,-78.3\"/>\n",
       "</g>\n",
       "<!-- 23 -->\n",
       "<g id=\"node24\" class=\"node\">\n",
       "<title>23</title>\n",
       "<polygon fill=\"none\" stroke=\"black\" points=\"1543,-68 1431,-68 1431,0 1543,0 1543,-68\"/>\n",
       "<text text-anchor=\"middle\" x=\"1487\" y=\"-52.8\" font-family=\"Times,serif\" font-size=\"14.00\">gini = 0.352</text>\n",
       "<text text-anchor=\"middle\" x=\"1487\" y=\"-37.8\" font-family=\"Times,serif\" font-size=\"14.00\">samples = 272</text>\n",
       "<text text-anchor=\"middle\" x=\"1487\" y=\"-22.8\" font-family=\"Times,serif\" font-size=\"14.00\">value = [210, 62]</text>\n",
       "<text text-anchor=\"middle\" x=\"1487\" y=\"-7.8\" font-family=\"Times,serif\" font-size=\"14.00\">class = No</text>\n",
       "</g>\n",
       "<!-- 21&#45;&gt;23 -->\n",
       "<g id=\"edge23\" class=\"edge\">\n",
       "<title>21&#45;&gt;23</title>\n",
       "<path fill=\"none\" stroke=\"black\" d=\"M1405.41,-103.73C1416.56,-94.33 1428.41,-84.35 1439.53,-74.99\"/>\n",
       "<polygon fill=\"black\" stroke=\"black\" points=\"1442.07,-77.42 1447.47,-68.3 1437.56,-72.06 1442.07,-77.42\"/>\n",
       "</g>\n",
       "<!-- 25 -->\n",
       "<g id=\"node26\" class=\"node\">\n",
       "<title>25</title>\n",
       "<polygon fill=\"none\" stroke=\"black\" points=\"1728,-187 1616,-187 1616,-104 1728,-104 1728,-187\"/>\n",
       "<text text-anchor=\"middle\" x=\"1672\" y=\"-171.8\" font-family=\"Times,serif\" font-size=\"14.00\">age &lt;= 45.5</text>\n",
       "<text text-anchor=\"middle\" x=\"1672\" y=\"-156.8\" font-family=\"Times,serif\" font-size=\"14.00\">gini = 0.429</text>\n",
       "<text text-anchor=\"middle\" x=\"1672\" y=\"-141.8\" font-family=\"Times,serif\" font-size=\"14.00\">samples = 154</text>\n",
       "<text text-anchor=\"middle\" x=\"1672\" y=\"-126.8\" font-family=\"Times,serif\" font-size=\"14.00\">value = [106, 48]</text>\n",
       "<text text-anchor=\"middle\" x=\"1672\" y=\"-111.8\" font-family=\"Times,serif\" font-size=\"14.00\">class = No</text>\n",
       "</g>\n",
       "<!-- 24&#45;&gt;25 -->\n",
       "<g id=\"edge25\" class=\"edge\">\n",
       "<title>24&#45;&gt;25</title>\n",
       "<path fill=\"none\" stroke=\"black\" d=\"M1672,-222.91C1672,-214.65 1672,-205.86 1672,-197.3\"/>\n",
       "<polygon fill=\"black\" stroke=\"black\" points=\"1675.5,-197.02 1672,-187.02 1668.5,-197.02 1675.5,-197.02\"/>\n",
       "</g>\n",
       "<!-- 28 -->\n",
       "<g id=\"node29\" class=\"node\">\n",
       "<title>28</title>\n",
       "<polygon fill=\"none\" stroke=\"black\" points=\"1909.5,-187 1804.5,-187 1804.5,-104 1909.5,-104 1909.5,-187\"/>\n",
       "<text text-anchor=\"middle\" x=\"1857\" y=\"-171.8\" font-family=\"Times,serif\" font-size=\"14.00\">age &lt;= 32.5</text>\n",
       "<text text-anchor=\"middle\" x=\"1857\" y=\"-156.8\" font-family=\"Times,serif\" font-size=\"14.00\">gini = 0.486</text>\n",
       "<text text-anchor=\"middle\" x=\"1857\" y=\"-141.8\" font-family=\"Times,serif\" font-size=\"14.00\">samples = 65</text>\n",
       "<text text-anchor=\"middle\" x=\"1857\" y=\"-126.8\" font-family=\"Times,serif\" font-size=\"14.00\">value = [27, 38]</text>\n",
       "<text text-anchor=\"middle\" x=\"1857\" y=\"-111.8\" font-family=\"Times,serif\" font-size=\"14.00\">class = Yes</text>\n",
       "</g>\n",
       "<!-- 24&#45;&gt;28 -->\n",
       "<g id=\"edge28\" class=\"edge\">\n",
       "<title>24&#45;&gt;28</title>\n",
       "<path fill=\"none\" stroke=\"black\" d=\"M1730.54,-226.48C1751.38,-213.3 1774.89,-198.43 1795.94,-185.12\"/>\n",
       "<polygon fill=\"black\" stroke=\"black\" points=\"1797.9,-188.02 1804.48,-179.71 1794.16,-182.1 1797.9,-188.02\"/>\n",
       "</g>\n",
       "<!-- 26 -->\n",
       "<g id=\"node27\" class=\"node\">\n",
       "<title>26</title>\n",
       "<polygon fill=\"none\" stroke=\"black\" points=\"1666.5,-68 1561.5,-68 1561.5,0 1666.5,0 1666.5,-68\"/>\n",
       "<text text-anchor=\"middle\" x=\"1614\" y=\"-52.8\" font-family=\"Times,serif\" font-size=\"14.00\">gini = 0.343</text>\n",
       "<text text-anchor=\"middle\" x=\"1614\" y=\"-37.8\" font-family=\"Times,serif\" font-size=\"14.00\">samples = 100</text>\n",
       "<text text-anchor=\"middle\" x=\"1614\" y=\"-22.8\" font-family=\"Times,serif\" font-size=\"14.00\">value = [78, 22]</text>\n",
       "<text text-anchor=\"middle\" x=\"1614\" y=\"-7.8\" font-family=\"Times,serif\" font-size=\"14.00\">class = No</text>\n",
       "</g>\n",
       "<!-- 25&#45;&gt;26 -->\n",
       "<g id=\"edge26\" class=\"edge\">\n",
       "<title>25&#45;&gt;26</title>\n",
       "<path fill=\"none\" stroke=\"black\" d=\"M1650.4,-103.73C1645.81,-95.06 1640.96,-85.9 1636.34,-77.18\"/>\n",
       "<polygon fill=\"black\" stroke=\"black\" points=\"1639.41,-75.5 1631.64,-68.3 1633.23,-78.77 1639.41,-75.5\"/>\n",
       "</g>\n",
       "<!-- 27 -->\n",
       "<g id=\"node28\" class=\"node\">\n",
       "<title>27</title>\n",
       "<polygon fill=\"none\" stroke=\"black\" points=\"1789.5,-68 1684.5,-68 1684.5,0 1789.5,0 1789.5,-68\"/>\n",
       "<text text-anchor=\"middle\" x=\"1737\" y=\"-52.8\" font-family=\"Times,serif\" font-size=\"14.00\">gini = 0.499</text>\n",
       "<text text-anchor=\"middle\" x=\"1737\" y=\"-37.8\" font-family=\"Times,serif\" font-size=\"14.00\">samples = 54</text>\n",
       "<text text-anchor=\"middle\" x=\"1737\" y=\"-22.8\" font-family=\"Times,serif\" font-size=\"14.00\">value = [28, 26]</text>\n",
       "<text text-anchor=\"middle\" x=\"1737\" y=\"-7.8\" font-family=\"Times,serif\" font-size=\"14.00\">class = No</text>\n",
       "</g>\n",
       "<!-- 25&#45;&gt;27 -->\n",
       "<g id=\"edge27\" class=\"edge\">\n",
       "<title>25&#45;&gt;27</title>\n",
       "<path fill=\"none\" stroke=\"black\" d=\"M1696.2,-103.73C1701.4,-94.97 1706.9,-85.7 1712.12,-76.91\"/>\n",
       "<polygon fill=\"black\" stroke=\"black\" points=\"1715.14,-78.69 1717.23,-68.3 1709.12,-75.11 1715.14,-78.69\"/>\n",
       "</g>\n",
       "<!-- 29 -->\n",
       "<g id=\"node30\" class=\"node\">\n",
       "<title>29</title>\n",
       "<polygon fill=\"none\" stroke=\"black\" points=\"1906,-68 1808,-68 1808,0 1906,0 1906,-68\"/>\n",
       "<text text-anchor=\"middle\" x=\"1857\" y=\"-52.8\" font-family=\"Times,serif\" font-size=\"14.00\">gini = 0.278</text>\n",
       "<text text-anchor=\"middle\" x=\"1857\" y=\"-37.8\" font-family=\"Times,serif\" font-size=\"14.00\">samples = 18</text>\n",
       "<text text-anchor=\"middle\" x=\"1857\" y=\"-22.8\" font-family=\"Times,serif\" font-size=\"14.00\">value = [15, 3]</text>\n",
       "<text text-anchor=\"middle\" x=\"1857\" y=\"-7.8\" font-family=\"Times,serif\" font-size=\"14.00\">class = No</text>\n",
       "</g>\n",
       "<!-- 28&#45;&gt;29 -->\n",
       "<g id=\"edge29\" class=\"edge\">\n",
       "<title>28&#45;&gt;29</title>\n",
       "<path fill=\"none\" stroke=\"black\" d=\"M1857,-103.73C1857,-95.52 1857,-86.86 1857,-78.56\"/>\n",
       "<polygon fill=\"black\" stroke=\"black\" points=\"1860.5,-78.3 1857,-68.3 1853.5,-78.3 1860.5,-78.3\"/>\n",
       "</g>\n",
       "<!-- 30 -->\n",
       "<g id=\"node31\" class=\"node\">\n",
       "<title>30</title>\n",
       "<polygon fill=\"none\" stroke=\"black\" points=\"2029.5,-68 1924.5,-68 1924.5,0 2029.5,0 2029.5,-68\"/>\n",
       "<text text-anchor=\"middle\" x=\"1977\" y=\"-52.8\" font-family=\"Times,serif\" font-size=\"14.00\">gini = 0.38</text>\n",
       "<text text-anchor=\"middle\" x=\"1977\" y=\"-37.8\" font-family=\"Times,serif\" font-size=\"14.00\">samples = 47</text>\n",
       "<text text-anchor=\"middle\" x=\"1977\" y=\"-22.8\" font-family=\"Times,serif\" font-size=\"14.00\">value = [12, 35]</text>\n",
       "<text text-anchor=\"middle\" x=\"1977\" y=\"-7.8\" font-family=\"Times,serif\" font-size=\"14.00\">class = Yes</text>\n",
       "</g>\n",
       "<!-- 28&#45;&gt;30 -->\n",
       "<g id=\"edge30\" class=\"edge\">\n",
       "<title>28&#45;&gt;30</title>\n",
       "<path fill=\"none\" stroke=\"black\" d=\"M1901.68,-103.73C1911.88,-94.42 1922.71,-84.54 1932.88,-75.26\"/>\n",
       "<polygon fill=\"black\" stroke=\"black\" points=\"1935.48,-77.63 1940.51,-68.3 1930.76,-72.45 1935.48,-77.63\"/>\n",
       "</g>\n",
       "</g>\n",
       "</svg>\n"
      ],
      "text/plain": [
       "<graphviz.sources.Source at 0x7fc81d51fb80>"
      ]
     },
     "execution_count": 51,
     "metadata": {},
     "output_type": "execute_result"
    }
   ],
   "source": [
    "export_graphviz(treeclf2,out_file='tree.dot', feature_names=census_train.columns, class_names=[\"No\",\"Yes\"])\n",
    "\n",
    "with open(\"tree.dot\") as f:\n",
    "    dot_graph = f.read()\n",
    "graphviz.Source(dot_graph)"
   ]
  },
  {
   "cell_type": "markdown",
   "metadata": {},
   "source": [
    "### d.)\n",
    "Use scikit-learn to build classifiers using Naive Bayes (Gaussian) and linear discriminant analysis (LDA).  For each of these perform 10-fold cross-validation on the 80% training data (using cross-validation module in scikit-learn) and report the overall average accuracy. Compare this cross-validation accuracy to the model accuracy on the training data as a whole. Finally, run your model on the set-aside 20% test data."
   ]
  },
  {
   "cell_type": "code",
   "execution_count": 53,
   "metadata": {},
   "outputs": [],
   "source": [
    "#import lda/naive bayes classifiers and cv model selection\n",
    "from sklearn import naive_bayes\n",
    "from sklearn.discriminant_analysis import LinearDiscriminantAnalysis\n",
    "from sklearn import model_selection"
   ]
  },
  {
   "cell_type": "code",
   "execution_count": 55,
   "metadata": {},
   "outputs": [],
   "source": [
    "#lda classifier\n",
    "ldclf = LinearDiscriminantAnalysis()\n",
    "ldclf = ldclf.fit(census_train, census_target_train)"
   ]
  },
  {
   "cell_type": "code",
   "execution_count": 59,
   "metadata": {},
   "outputs": [
    {
     "data": {
      "text/plain": [
       "array([0.81540505, 0.80478088, 0.82602922, 0.79017264, 0.81407703,\n",
       "       0.81540505, 0.8061089 , 0.79017264, 0.82204515, 0.82446809])"
      ]
     },
     "execution_count": 59,
     "metadata": {},
     "output_type": "execute_result"
    }
   ],
   "source": [
    "#cv 10 fold - lda\n",
    "cv_scores_lda = model_selection.cross_val_score(ldclf, census_train, census_target_train, cv=10)\n",
    "cv_scores_lda"
   ]
  },
  {
   "cell_type": "code",
   "execution_count": 60,
   "metadata": {},
   "outputs": [
    {
     "data": {
      "text/plain": [
       "0.8108664632251138"
      ]
     },
     "execution_count": 60,
     "metadata": {},
     "output_type": "execute_result"
    }
   ],
   "source": [
    "#cv 10 fold mean score - lda\n",
    "cv_scores_lda.mean()"
   ]
  },
  {
   "cell_type": "code",
   "execution_count": 61,
   "metadata": {},
   "outputs": [
    {
     "data": {
      "text/plain": [
       "0.8115287554788152"
      ]
     },
     "execution_count": 61,
     "metadata": {},
     "output_type": "execute_result"
    }
   ],
   "source": [
    "#model accuracy on training data - lda\n",
    "ldclf.score(census_train,census_target_train)"
   ]
  },
  {
   "cell_type": "code",
   "execution_count": 66,
   "metadata": {},
   "outputs": [
    {
     "data": {
      "text/plain": [
       "0.7992565055762082"
      ]
     },
     "execution_count": 66,
     "metadata": {},
     "output_type": "execute_result"
    }
   ],
   "source": [
    "#model accuracy on test data - lda\n",
    "ldclf.score(census_test,census_target_test)"
   ]
  },
  {
   "cell_type": "code",
   "execution_count": 62,
   "metadata": {},
   "outputs": [],
   "source": [
    "#naive bayes classifier\n",
    "nbclf = naive_bayes.GaussianNB()\n",
    "nbclf = nbclf.fit(census_train, census_target_train)"
   ]
  },
  {
   "cell_type": "code",
   "execution_count": 63,
   "metadata": {},
   "outputs": [
    {
     "data": {
      "text/plain": [
       "array([0.71713147, 0.71049137, 0.73041169, 0.68924303, 0.74236388,\n",
       "       0.73572377, 0.7065073 , 0.71447543, 0.71181939, 0.73537234])"
      ]
     },
     "execution_count": 63,
     "metadata": {},
     "output_type": "execute_result"
    }
   ],
   "source": [
    "#cv 10 fold - nb\n",
    "cv_scores_nb = model_selection.cross_val_score(nbclf, census_train, census_target_train, cv=10)\n",
    "cv_scores_nb"
   ]
  },
  {
   "cell_type": "code",
   "execution_count": 64,
   "metadata": {},
   "outputs": [
    {
     "data": {
      "text/plain": [
       "0.7193539671102823"
      ]
     },
     "execution_count": 64,
     "metadata": {},
     "output_type": "execute_result"
    }
   ],
   "source": [
    "#cv 10 fold mean score - nb\n",
    "cv_scores_nb.mean()"
   ]
  },
  {
   "cell_type": "code",
   "execution_count": 65,
   "metadata": {},
   "outputs": [
    {
     "data": {
      "text/plain": [
       "0.7218754150617612"
      ]
     },
     "execution_count": 65,
     "metadata": {},
     "output_type": "execute_result"
    }
   ],
   "source": [
    "#model accuracy on training data - nb\n",
    "nbclf.score(census_train,census_target_train)"
   ]
  },
  {
   "cell_type": "code",
   "execution_count": 67,
   "metadata": {},
   "outputs": [
    {
     "data": {
      "text/plain": [
       "0.7110993096123208"
      ]
     },
     "execution_count": 67,
     "metadata": {},
     "output_type": "execute_result"
    }
   ],
   "source": [
    "#model accuracy on test data - nb\n",
    "nbclf.score(census_test,census_target_test)"
   ]
  },
  {
   "cell_type": "markdown",
   "metadata": {},
   "source": [
    "## Summary\n",
    "After calculating 10-fold cross validation for linear discriminant analysis and naive bayes classifiers, we are able to get accuracy scores, which we can then compare to the training data accuracy and test data accuracy. It is evident to see that the training data accuracy lines up pretty closely with the cv accuracy since we are utilzing the same set of instances. For LDA, we see that the accuracy value is significantly higher than that of the Naive Bayes method, and that both models have fairly similar training and test accuracy scores respectively."
   ]
  }
 ],
 "metadata": {
  "kernelspec": {
   "display_name": "Python 3",
   "language": "python",
   "name": "python3"
  },
  "language_info": {
   "codemirror_mode": {
    "name": "ipython",
    "version": 3
   },
   "file_extension": ".py",
   "mimetype": "text/x-python",
   "name": "python",
   "nbconvert_exporter": "python",
   "pygments_lexer": "ipython3",
   "version": "3.8.5"
  }
 },
 "nbformat": 4,
 "nbformat_minor": 4
}
